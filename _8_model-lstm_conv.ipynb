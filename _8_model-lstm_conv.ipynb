{
 "cells": [
  {
   "cell_type": "code",
   "execution_count": 1,
   "metadata": {},
   "outputs": [],
   "source": [
    "from packages import *\n",
    "import tensorflow as tf\n",
    "from datetime import datetime, timedelta\n",
    "import time\n",
    "import pandas as pd\n",
    "import tensorflow.keras.backend as K\n",
    "from tensorflow.keras.utils import plot_model\n",
    "from tensorflow.keras.models import Model, Sequential\n",
    "from tensorflow.keras.layers import *\n",
    "from sklearn.metrics import classification_report, precision_recall_fscore_support, confusion_matrix\n",
    "from sklearn.model_selection import train_test_split\n",
    "from sklearn.utils.class_weight import compute_class_weight\n",
    "from sklearn.utils import shuffle\n",
    "%load_ext autoreload\n",
    "%autoreload 2"
   ]
  },
  {
   "cell_type": "markdown",
   "metadata": {},
   "source": [
    "# Model\n",
    "We will be building our models in this notebook."
   ]
  },
  {
   "cell_type": "markdown",
   "metadata": {},
   "source": [
    "Some configuration required for tensorflow."
   ]
  },
  {
   "cell_type": "code",
   "execution_count": 2,
   "metadata": {},
   "outputs": [],
   "source": [
    "tf.config.gpu.set_per_process_memory_growth(True)\n",
    "tf.config.gpu.set_per_process_memory_fraction(.30)\n",
    "tf.keras.backend.set_image_data_format('channels_last')"
   ]
  },
  {
   "cell_type": "markdown",
   "metadata": {},
   "source": [
    "## Dataset"
   ]
  },
  {
   "cell_type": "code",
   "execution_count": 3,
   "metadata": {},
   "outputs": [
    {
     "name": "stdout",
     "output_type": "stream",
     "text": [
      "using random_seed: 100\n"
     ]
    }
   ],
   "source": [
    "glove_dim = 50\n",
    "max_length = 300\n",
    "chunk_count = 100\n",
    "random_seed = 100 #np.random.randint(0, 1000000000)\n",
    "print('using random_seed: {}'.format(random_seed))\n",
    "splits = ['train', 'val', 'test'] #60:20:20"
   ]
  },
  {
   "cell_type": "code",
   "execution_count": 4,
   "metadata": {},
   "outputs": [
    {
     "name": "stdout",
     "output_type": "stream",
     "text": [
      "(60:20:20)\n",
      "oops 1 times.\n"
     ]
    }
   ],
   "source": [
    "tf_text_filenames = [os.path.join(DATASET_DIR, 'preprocessed', 'tfrecord', 'xext',  #xext temporarily\n",
    "                                  'review-text-{:02d}.tf'.format(i)) for i in range(chunk_count)]\n",
    "tf_ix_filenames = [os.path.join(DATASET_DIR, 'preprocessed', 'tfrecord', 'ix', \n",
    "                                  'review-ix-{:02d}.tf'.format(i)) for i in range(chunk_count)]\n",
    "all_stars = (load_data({'review': ['stars']})['review']['stars'] - 1).astype(np.int32)# this is so that stars are 0-indexed\n",
    "N = {}\n",
    "stars_chunked = all_stars.reshape((chunk_count, 6685900//chunk_count))\n",
    "\n",
    "class_weights = compute_class_weight('balanced', [0, 1, 2, 3, 4], all_stars)\n",
    "class_weights = {'five': class_weights, 'ternary': np.array([class_weights[0], class_weights[1:4].sum() , class_weights[4]])}\n",
    "\n",
    "tf_text, tf_ix, stars= {}, {}, {}\n",
    "\n",
    "tf_text['train'], tf_text_filenames_val_test, tf_ix['train'], tf_ix_filenames_val_test, stars['train'], stars_val_test \\\n",
    "= train_test_split(tf_text_filenames, tf_ix_filenames, stars_chunked, random_state=random_seed, test_size = .4)\n",
    "\n",
    "tf_text['val'], tf_text['test'], tf_ix['val'], tf_ix['test'], stars['val'], stars['test'] \\\n",
    "= train_test_split(tf_text_filenames_val_test, tf_ix_filenames_val_test, stars_val_test, random_state=random_seed, test_size = .5)\n",
    "\n",
    "for split in splits:\n",
    "    stars[split] = stars[split].reshape(np.product(stars[split].shape))\n",
    "    N[split] = len(stars[split])\n",
    "\n",
    "print('({}:{}:{})'.format(len(tf_text['train']), len(tf_text['val']), len(tf_text['test'])))\n",
    "\n",
    "glove_lookup = load_pickle(os.path.join(GLOVE_DIR, 'glove-{}D-byte-float32.pkl'.format(glove_dim)))\n",
    "keys_to_ix = load_pickle(os.path.join(GLOVE_DIR, 'glove-byte-keys_to_ix.pkl'))\n",
    "ix_to_key = {value: key for key, value in keys_to_ix.items()}\n",
    "\n",
    "unk_vector = np.mean(np.array(list(glove_lookup.values())), axis=0)\n",
    "null_vector = np.zeros(glove_dim)\n",
    "glove_lookup[UNK_KEY.encode('ascii')] = unk_vector #if using byte glove dict\n",
    "glove_lookup[NULL_KEY.encode('ascii')] = null_vector\n",
    "\n",
    "oops = 0\n",
    "glove_lookup_array = []\n",
    "for i in range(len(ix_to_key)):\n",
    "    if ix_to_key[i] not in glove_lookup:\n",
    "        oops+=1\n",
    "    glove_lookup_array.append(glove_lookup.get(ix_to_key[i], null_vector))\n",
    "glove_lookup_array = np.array(glove_lookup_array, dtype=np.float32)\n",
    "print('oops {} times.'.format(oops))\n",
    "\n",
    "@tf.function\n",
    "def get_review_length(review):\n",
    "    return tf.cast(tf.reduce_sum(tf.cast(tf.not_equal(review, 0), tf.int8)), tf.int32)\n",
    "\n",
    "@tf.function\n",
    "def _parse_function(proto, to_ix):\n",
    "    # define your tfrecord again. Remember that you saved your image as a string.\n",
    "    keys_to_features = {'review': tf.io.FixedLenFeature([300,], tf.int64) if to_ix else tf.io.FixedLenFeature([300,], tf.string),}\n",
    "    \n",
    "    # Load one example\n",
    "    parsed_features = tf.io.parse_single_example(proto, keys_to_features)\n",
    "    \n",
    "    return parsed_features \n",
    "\n",
    "embedding = tf.constant(glove_lookup_array)\n",
    "@tf.function\n",
    "def embed(tensor):\n",
    "    return tf.gather(embedding, tensor)\n",
    "\n",
    "@tf.function\n",
    "def add_channel(tensor):\n",
    "    return tf.expand_dims(tensor, -1)\n",
    "\n",
    "# 11 GB in memory\n",
    "# X = []\n",
    "# x = tf.data.TFRecordDataset(tf_text['train'])\n",
    "# for y in x :\n",
    "#     X.append(y)"
   ]
  },
  {
   "cell_type": "code",
   "execution_count": 5,
   "metadata": {},
   "outputs": [],
   "source": [
    "@tf.function\n",
    "def get_review_length(review):\n",
    "    return tf.cast(tf.reduce_sum(tf.cast(tf.not_equal(review, 0), tf.int32)), tf.float32)"
   ]
  },
  {
   "cell_type": "code",
   "execution_count": 6,
   "metadata": {},
   "outputs": [],
   "source": [
    "def make_dataset(batch_size, to_embed=False, to_ix=False, channelize=True, to_ternary_task=False, features=None): \n",
    "    '''\n",
    "    Note: once created dataset remains the same from iteration to iteration. \n",
    "    In Keras.fit, once given steps_per_epoch the data for epochs are not the same.\n",
    "    Validation data is the same.\n",
    "    If cell is rerun, then the same order of data will be fed.\n",
    "    '''\n",
    "    if to_ternary_task:\n",
    "        star_mapping = tf.constant([0, 1, 1, 1, 2], dtype=tf.int32)\n",
    "    def _prepare_star(star):\n",
    "        if to_ternary_task: return {'stars': tf.gather(star_mapping, star)}\n",
    "        return {'stars': star}\n",
    "    def _parse_transform(x):\n",
    "        parsed = _parse_function(x, True)['review']\n",
    "        out = {}\n",
    "        if features:\n",
    "            out = {key: f(parsed) for key, f in features.items()}\n",
    "        if to_ix:\n",
    "            out['review-ix'] = tf.cast(parsed, tf.int32)\n",
    "        if to_embed:\n",
    "            if channelize:\n",
    "                out['review-embed'] = add_channel(embed(parsed))\n",
    "            else:\n",
    "                out['review-embed'] = embed(parsed) \n",
    "        return out   \n",
    "    \n",
    "    shuffle_buffer_size = batch_size * 100\n",
    "    prefetch_buffer_size = 4\n",
    "    files = tf_ix\n",
    "    dataset = {}\n",
    "    num_batches = {}\n",
    "    for split in splits:\n",
    "        dataset[split] = tf.data.TFRecordDataset(files[split])\n",
    "        stars_dataset = tf.data.Dataset.from_tensor_slices(stars[split])\n",
    "        dataset[split] = tf.data.Dataset.zip((dataset[split], stars_dataset))\n",
    "        dataset[split] = dataset[split].shuffle(shuffle_buffer_size, seed=random_seed)\n",
    "        dataset[split] = dataset[split].repeat()\n",
    "        dataset[split] = dataset[split].map(lambda x, y: (_parse_transform(x), _prepare_star(y)), num_parallel_calls=12)\n",
    "        dataset[split] = dataset[split].batch(batch_size)\n",
    "        dataset[split] = dataset[split].prefetch(prefetch_buffer_size)\n",
    "        num_batches[split] = N[split] // batch_size\n",
    "    print('num_batches: {}, batch_size: {}, shuffle_buffer_size: {}, prefetch_buffer_size: {}'.format(num_batches, batch_size, \n",
    "                                                                                 shuffle_buffer_size, prefetch_buffer_size))\n",
    "    return dataset, num_batches"
   ]
  },
  {
   "cell_type": "code",
   "execution_count": 7,
   "metadata": {},
   "outputs": [],
   "source": [
    "# %%time\n",
    "# for i, (x, y) in enumerate(dataset['train']):\n",
    "#     if i == 500:\n",
    "#         break\n",
    "# for i, (x, y) in enumerate(dataset['train']):\n",
    "#     if i == 500:\n",
    "#         break\n",
    "# # Wall time: 30.1 --> 14.2 --> 4.3 s wow (64 batchsize, glovedim = 300)"
   ]
  },
  {
   "cell_type": "code",
   "execution_count": null,
   "metadata": {},
   "outputs": [],
   "source": []
  },
  {
   "cell_type": "markdown",
   "metadata": {},
   "source": [
    "# Models"
   ]
  },
  {
   "cell_type": "markdown",
   "metadata": {},
   "source": [
    "### BabyBlueberry\n",
    "Convolutional Model with GLoVe embeddings."
   ]
  },
  {
   "cell_type": "code",
   "execution_count": 8,
   "metadata": {},
   "outputs": [],
   "source": [
    "@rename('all_acc')\n",
    "def all_class_accuracy(y_true, y_pred):\n",
    "    return tf.keras.metrics.sparse_categorical_accuracy(y_true, y_pred) \n",
    "\n",
    "def one_class_recall(label):\n",
    "    @rename('{}_recalll'.format(label))\n",
    "    def single_class_recall(y_true, y_pred): # (64, 1), (64, 5) should return (64,)\n",
    "        truth = K.flatten(K.cast(y_true, 'int32'))\n",
    "        preds = K.cast(K.argmax(y_pred, axis=-1), 'int32')\n",
    "        recall_mask = K.cast(K.equal(truth, label), 'int32')        \n",
    "        recall = K.cast(K.equal(preds, truth), 'int32') * recall_mask\n",
    "        recall = K.cast(K.sum(recall) / K.maximum(K.sum(recall_mask), 1), 'float32')\n",
    "        return  K.ones(batch_size, dtype='float32') * recall\n",
    "    return single_class_recall\n",
    "\n",
    "def one_class_precision(label):\n",
    "    @rename('{}_precision'.format(label))\n",
    "    def single_class_precision(y_true, y_pred): # (64, 1), (64, 5) should return (64,)\n",
    "        truth = K.flatten(K.cast(y_true, 'int32'))\n",
    "        preds = K.cast(K.argmax(y_pred, axis=-1), 'int32')\n",
    "        precision_mask = K.cast(K.equal(preds, label), 'int32')          \n",
    "        precision = K.cast(K.equal(preds, truth), 'int32') * precision_mask\n",
    "        precision = K.cast(K.sum(precision) / K.maximum(K.sum(precision_mask), 1), 'float32')\n",
    "        return  K.ones(batch_size, dtype='float32') * precision\n",
    "    return single_class_precision"
   ]
  },
  {
   "cell_type": "code",
   "execution_count": 9,
   "metadata": {},
   "outputs": [],
   "source": [
    "star_metrics = [all_class_accuracy]\n",
    "star_metrics += [one_class_recall(i) for i in range(5)] + [one_class_precision(i) for i in range(5)]"
   ]
  },
  {
   "cell_type": "code",
   "execution_count": 10,
   "metadata": {},
   "outputs": [],
   "source": [
    "def get_kernel_spec(filters, height, width):\n",
    "    return {'filters':filters, 'height': height, 'width': width}"
   ]
  },
  {
   "cell_type": "code",
   "execution_count": 11,
   "metadata": {},
   "outputs": [],
   "source": [
    "class BabyBerry:\n",
    "    \n",
    "    def build(dropout_rate, lstm_units, kernels, out_units):\n",
    "        ix_input = Input(shape= (max_length,), name='review-ix')\n",
    "        glove_input = Input(shape=(max_length, glove_dim), name='review-embed')\n",
    "        length_input = Input(shape=(1,), name='review-length')\n",
    "        \n",
    "        \n",
    "        embedding = Embedding(input_dim=len(glove_lookup_array), output_dim=glove_dim, \n",
    "                              input_length=max_length, name='trained_embed')(ix_input)\n",
    "                        \n",
    "        average_embedding = Average(name='average_embed')([embedding, glove_input])\n",
    "        \n",
    "        channel_embedding = Reshape(target_shape=(max_length, glove_dim, 1), name='reshape_embed')(embedding)\n",
    "        \n",
    "        channel_glove = Reshape(target_shape=(max_length, glove_dim, 1), name='reshape_glove')(glove_input)\n",
    "\n",
    "                \n",
    "        combined_embedding = Concatenate(name='concat_embed')([channel_embedding, channel_glove])\n",
    "        branches = []\n",
    "        names = {}\n",
    "        for kernel in kernels:\n",
    "            if (kernel['height'], kernel['width']) in names:\n",
    "                names[(kernel['height'], kernel['width'])] = i = names[(kernel['height'], kernel['width'])] + 1\n",
    "            else:\n",
    "                names[(kernel['height'], kernel['width'])] = i = 1\n",
    "            branch = Conv2D(kernel['filters'], (kernel['height'], kernel['width']), activation='relu', \n",
    "                            name='conv_{}_{}_{}'.format(kernel['height'], kernel['width'], i), \n",
    "                            padding='valid')(combined_embedding)\n",
    "            branch = GlobalMaxPool2D(name='pool_{}_{}_{}'.format(kernel['height'], kernel['width'], i))(branch)\n",
    "            branches.append(branch)\n",
    "        \n",
    "        x = LSTM(units=lstm_units, go_backwards=True, name='lstm')(average_embedding)\n",
    "        x = Concatenate(name='concat_conv_lstm')(branches + [x, length_input])\n",
    "        x = Dropout(rate=dropout_rate, name='dropout_1')(x)\n",
    "        x = Dense(100, activation='relu', name='dense_1')(x)\n",
    "        out = Dense(out_units, activation='softmax', name='stars')(x)\n",
    "        \n",
    "     \n",
    "        return tf.keras.models.Model(inputs={'review-embed':glove_input, 'review-ix': ix_input, 'review-length':length_input}, \n",
    "                                     outputs={'stars': out}, name='BabyBerry')\n",
    "        \n",
    "    @tf.function\n",
    "    def loss_fn(truth, logits):\n",
    "        loss = tf.keras.losses.sparse_categorical_crossentropy(truth, logits)\n",
    "        return loss"
   ]
  },
  {
   "cell_type": "code",
   "execution_count": 12,
   "metadata": {},
   "outputs": [
    {
     "name": "stdout",
     "output_type": "stream",
     "text": [
      "num_batches: {'train': 15670, 'val': 5223, 'test': 5223}, batch_size: 256, shuffle_buffer_size: 25600, prefetch_buffer_size: 4\n"
     ]
    }
   ],
   "source": [
    "batch_size = 256\n",
    "dataset, num_batches = make_dataset(batch_size=batch_size, to_embed=True, to_ix=True, channelize=False, \n",
    "                                    features={'review-length':get_review_length})"
   ]
  },
  {
   "cell_type": "code",
   "execution_count": 13,
   "metadata": {},
   "outputs": [
    {
     "name": "stderr",
     "output_type": "stream",
     "text": [
      "WARNING: Logging before flag parsing goes to stderr.\n",
      "W0609 16:56:14.242720 140008287012672 tf_logging.py:161] <tensorflow.python.keras.layers.recurrent.UnifiedLSTM object at 0x7f55f13da438>: Note that this layer is not optimized for performance. Please use tf.keras.layers.CuDNNLSTM for better performance on GPU.\n"
     ]
    }
   ],
   "source": [
    "kernels = [get_kernel_spec(filters=50, height=h, width=glove_dim) for h in [2, 3, 4, 5, 10]]\n",
    "baby = BabyBerry.build(kernels=kernels, lstm_units=250, dropout_rate=.1, out_units=5)\n",
    "adam = tf.keras.optimizers.Adam()\n",
    "baby.compile(optimizer=adam, metrics={'stars': star_metrics} ,loss={'stars': BabyBerry.loss_fn})"
   ]
  },
  {
   "cell_type": "code",
   "execution_count": 14,
   "metadata": {},
   "outputs": [],
   "source": [
    "log_dir = os.path.join(SRC_DIR, 'logs', '{}-LSTM-CONV-BabyBerry'.format(datetime.fromtimestamp(time.time()).strftime('%d-%m_%H-%M-%S')))\n",
    "tb = tf.keras.callbacks.TensorBoard(log_dir=log_dir, write_graph=False, update_freq='batch')"
   ]
  },
  {
   "cell_type": "code",
   "execution_count": null,
   "metadata": {},
   "outputs": [
    {
     "name": "stdout",
     "output_type": "stream",
     "text": [
      "Epoch 1/150\n",
      "100/100 [==============================] - 27s 270ms/step - loss: 1.3889 - all_acc: 0.4731 - 0_recalll: 0.4065 - 1_recalll: 0.0165 - 2_recalll: 0.0767 - 3_recalll: 0.2269 - 4_recalll: 0.8142 - 0_precision: 0.4826 - 1_precision: 0.0380 - 2_precision: 0.1779 - 3_precision: 0.2887 - 4_precision: 0.5522 - val_loss: 1.0269 - val_all_acc: 0.5787 - val_0_recalll: 0.6805 - val_1_recalll: 0.0769 - val_2_recalll: 7.6923e-04 - val_3_recalll: 0.3629 - val_4_recalll: 0.8934 - val_0_precision: 0.6474 - val_1_precision: 0.3618 - val_2_precision: 0.0200 - val_3_precision: 0.3328 - val_4_precision: 0.6673\n",
      "Epoch 2/150\n",
      "100/100 [==============================] - 48s 483ms/step - loss: 0.9223 - all_acc: 0.6092 - 0_recalll: 0.7816 - 1_recalll: 0.1189 - 2_recalll: 0.2452 - 3_recalll: 0.3842 - 4_recalll: 0.8538 - 0_precision: 0.6455 - 1_precision: 0.2665 - 2_precision: 0.3652 - 3_precision: 0.4462 - 4_precision: 0.7211 - val_loss: 0.8521 - val_all_acc: 0.6425 - val_0_recalll: 0.8639 - val_1_recalll: 0.3334 - val_2_recalll: 0.1828 - val_3_recalll: 0.3865 - val_4_recalll: 0.8733 - val_0_precision: 0.6106 - val_1_precision: 0.3354 - val_2_precision: 0.4262 - val_3_precision: 0.5188 - val_4_precision: 0.7642\n",
      "Epoch 3/150\n",
      "100/100 [==============================] - 56s 559ms/step - loss: 0.8394 - all_acc: 0.6444 - 0_recalll: 0.8038 - 1_recalll: 0.1880 - 2_recalll: 0.3644 - 3_recalll: 0.4370 - 4_recalll: 0.8603 - 0_precision: 0.6825 - 1_precision: 0.3998 - 2_precision: 0.4599 - 3_precision: 0.5042 - 4_precision: 0.7599 - val_loss: 0.8009 - val_all_acc: 0.6605 - val_0_recalll: 0.9012 - val_1_recalll: 0.0746 - val_2_recalll: 0.3404 - val_3_recalll: 0.4368 - val_4_recalll: 0.8869 - val_0_precision: 0.6274 - val_1_precision: 0.4933 - val_2_precision: 0.4526 - val_3_precision: 0.5064 - val_4_precision: 0.7674\n",
      "Epoch 4/150\n",
      "100/100 [==============================] - 56s 557ms/step - loss: 0.8057 - all_acc: 0.6597 - 0_recalll: 0.8287 - 1_recalll: 0.2316 - 2_recalll: 0.3583 - 3_recalll: 0.4689 - 4_recalll: 0.8615 - 0_precision: 0.7127 - 1_precision: 0.4002 - 2_precision: 0.4567 - 3_precision: 0.5237 - 4_precision: 0.7765 - val_loss: 0.7811 - val_all_acc: 0.6684 - val_0_recalll: 0.8935 - val_1_recalll: 0.2360 - val_2_recalll: 0.4231 - val_3_recalll: 0.3565 - val_4_recalll: 0.8959 - val_0_precision: 0.6481 - val_1_precision: 0.4486 - val_2_precision: 0.4636 - val_3_precision: 0.5541 - val_4_precision: 0.7660\n",
      "Epoch 5/150\n",
      "100/100 [==============================] - 56s 563ms/step - loss: 0.8048 - all_acc: 0.6559 - 0_recalll: 0.8161 - 1_recalll: 0.2773 - 2_recalll: 0.3810 - 3_recalll: 0.4489 - 4_recalll: 0.8548 - 0_precision: 0.7176 - 1_precision: 0.4101 - 2_precision: 0.4692 - 3_precision: 0.5228 - 4_precision: 0.7675 - val_loss: 0.7628 - val_all_acc: 0.6761 - val_0_recalll: 0.8300 - val_1_recalll: 0.4504 - val_2_recalll: 0.3566 - val_3_recalll: 0.5232 - val_4_recalll: 0.8265 - val_0_precision: 0.7081 - val_1_precision: 0.4346 - val_2_precision: 0.4952 - val_3_precision: 0.5227 - val_4_precision: 0.8183\n",
      "Epoch 6/150\n",
      "100/100 [==============================] - 56s 561ms/step - loss: 0.7732 - all_acc: 0.6651 - 0_recalll: 0.8242 - 1_recalll: 0.3107 - 2_recalll: 0.3781 - 3_recalll: 0.4699 - 4_recalll: 0.8593 - 0_precision: 0.7346 - 1_precision: 0.4531 - 2_precision: 0.4621 - 3_precision: 0.5277 - 4_precision: 0.7775 - val_loss: 0.7651 - val_all_acc: 0.6708 - val_0_recalll: 0.8068 - val_1_recalll: 0.5655 - val_2_recalll: 0.3167 - val_3_recalll: 0.3456 - val_4_recalll: 0.8962 - val_0_precision: 0.7336 - val_1_precision: 0.3945 - val_2_precision: 0.4964 - val_3_precision: 0.5659 - val_4_precision: 0.7684\n",
      "Epoch 7/150\n",
      "100/100 [==============================] - 57s 567ms/step - loss: 0.7857 - all_acc: 0.6596 - 0_recalll: 0.8156 - 1_recalll: 0.3425 - 2_recalll: 0.3805 - 3_recalll: 0.4738 - 4_recalll: 0.8463 - 0_precision: 0.7298 - 1_precision: 0.4600 - 2_precision: 0.4813 - 3_precision: 0.5293 - 4_precision: 0.7763 - val_loss: 0.7334 - val_all_acc: 0.6886 - val_0_recalll: 0.7924 - val_1_recalll: 0.4949 - val_2_recalll: 0.3003 - val_3_recalll: 0.5651 - val_4_recalll: 0.8513 - val_0_precision: 0.7737 - val_1_precision: 0.4479 - val_2_precision: 0.5700 - val_3_precision: 0.5235 - val_4_precision: 0.8084\n",
      "Epoch 8/150\n",
      "100/100 [==============================] - 57s 567ms/step - loss: 0.7599 - all_acc: 0.6740 - 0_recalll: 0.8375 - 1_recalll: 0.2997 - 2_recalll: 0.4154 - 3_recalll: 0.4632 - 4_recalll: 0.8636 - 0_precision: 0.7314 - 1_precision: 0.4516 - 2_precision: 0.4953 - 3_precision: 0.5327 - 4_precision: 0.7831 - val_loss: 0.7460 - val_all_acc: 0.6784 - val_0_recalll: 0.8442 - val_1_recalll: 0.3618 - val_2_recalll: 0.3016 - val_3_recalll: 0.6495 - val_4_recalll: 0.7967 - val_0_precision: 0.7435 - val_1_precision: 0.5064 - val_2_precision: 0.5586 - val_3_precision: 0.4798 - val_4_precision: 0.8347\n",
      "Epoch 9/150\n",
      "100/100 [==============================] - 57s 568ms/step - loss: 0.7533 - all_acc: 0.6812 - 0_recalll: 0.8252 - 1_recalll: 0.3601 - 2_recalll: 0.4126 - 3_recalll: 0.4827 - 4_recalll: 0.8674 - 0_precision: 0.7545 - 1_precision: 0.4730 - 2_precision: 0.5084 - 3_precision: 0.5501 - 4_precision: 0.7861 - val_loss: 0.7274 - val_all_acc: 0.6903 - val_0_recalll: 0.8083 - val_1_recalll: 0.4251 - val_2_recalll: 0.4537 - val_3_recalll: 0.3661 - val_4_recalll: 0.9218 - val_0_precision: 0.7698 - val_1_precision: 0.4885 - val_2_precision: 0.5200 - val_3_precision: 0.5786 - val_4_precision: 0.7570\n",
      "Epoch 10/150\n",
      "100/100 [==============================] - 57s 571ms/step - loss: 0.7416 - all_acc: 0.6828 - 0_recalll: 0.8339 - 1_recalll: 0.3005 - 2_recalll: 0.4256 - 3_recalll: 0.4622 - 4_recalll: 0.8733 - 0_precision: 0.7436 - 1_precision: 0.4604 - 2_precision: 0.5010 - 3_precision: 0.5433 - 4_precision: 0.7883 - val_loss: 0.7263 - val_all_acc: 0.6893 - val_0_recalll: 0.7170 - val_1_recalll: 0.5149 - val_2_recalll: 0.3795 - val_3_recalll: 0.5663 - val_4_recalll: 0.8515 - val_0_precision: 0.8096 - val_1_precision: 0.4426 - val_2_precision: 0.5502 - val_3_precision: 0.5290 - val_4_precision: 0.8136\n",
      "Epoch 11/150\n",
      "100/100 [==============================] - 56s 563ms/step - loss: 0.7458 - all_acc: 0.6779 - 0_recalll: 0.8302 - 1_recalll: 0.3293 - 2_recalll: 0.4263 - 3_recalll: 0.4875 - 4_recalll: 0.8610 - 0_precision: 0.7444 - 1_precision: 0.4507 - 2_precision: 0.5097 - 3_precision: 0.5507 - 4_precision: 0.7828 - val_loss: 0.7173 - val_all_acc: 0.6960 - val_0_recalll: 0.8497 - val_1_recalll: 0.3384 - val_2_recalll: 0.4934 - val_3_recalll: 0.5754 - val_4_recalll: 0.8266 - val_0_precision: 0.7517 - val_1_precision: 0.5283 - val_2_precision: 0.5172 - val_3_precision: 0.5306 - val_4_precision: 0.8278\n",
      "Epoch 12/150\n",
      "100/100 [==============================] - 57s 570ms/step - loss: 0.7399 - all_acc: 0.6837 - 0_recalll: 0.8524 - 1_recalll: 0.3242 - 2_recalll: 0.4451 - 3_recalll: 0.4841 - 4_recalll: 0.8606 - 0_precision: 0.7561 - 1_precision: 0.4891 - 2_precision: 0.5166 - 3_precision: 0.5507 - 4_precision: 0.7850 - val_loss: 0.7233 - val_all_acc: 0.6930 - val_0_recalll: 0.8432 - val_1_recalll: 0.3932 - val_2_recalll: 0.3773 - val_3_recalll: 0.3836 - val_4_recalll: 0.9343 - val_0_precision: 0.7540 - val_1_precision: 0.5030 - val_2_precision: 0.5490 - val_3_precision: 0.5728 - val_4_precision: 0.7512\n",
      "Epoch 13/150\n",
      "100/100 [==============================] - 57s 566ms/step - loss: 0.7274 - all_acc: 0.6917 - 0_recalll: 0.8519 - 1_recalll: 0.3454 - 2_recalll: 0.4496 - 3_recalll: 0.4758 - 4_recalll: 0.8677 - 0_precision: 0.7619 - 1_precision: 0.4946 - 2_precision: 0.5326 - 3_precision: 0.5483 - 4_precision: 0.7882 - val_loss: 0.7363 - val_all_acc: 0.6862 - val_0_recalll: 0.9291 - val_1_recalll: 0.1782 - val_2_recalll: 0.4400 - val_3_recalll: 0.6203 - val_4_recalll: 0.8024 - val_0_precision: 0.6555 - val_1_precision: 0.5964 - val_2_precision: 0.5339 - val_3_precision: 0.5178 - val_4_precision: 0.8437\n",
      "Epoch 14/150\n",
      "100/100 [==============================] - 57s 568ms/step - loss: 0.7013 - all_acc: 0.7036 - 0_recalll: 0.8626 - 1_recalll: 0.3582 - 2_recalll: 0.4128 - 3_recalll: 0.4698 - 4_recalll: 0.8773 - 0_precision: 0.7751 - 1_precision: 0.4954 - 2_precision: 0.4978 - 3_precision: 0.5490 - 4_precision: 0.7993 - val_loss: 0.7039 - val_all_acc: 0.7035 - val_0_recalll: 0.8136 - val_1_recalll: 0.4068 - val_2_recalll: 0.4548 - val_3_recalll: 0.4851 - val_4_recalll: 0.8947 - val_0_precision: 0.7785 - val_1_precision: 0.5012 - val_2_precision: 0.5164 - val_3_precision: 0.5720 - val_4_precision: 0.7953\n",
      "Epoch 15/150\n",
      "100/100 [==============================] - 57s 571ms/step - loss: 0.6910 - all_acc: 0.7078 - 0_recalll: 0.8709 - 1_recalll: 0.3335 - 2_recalll: 0.4128 - 3_recalll: 0.4870 - 4_recalll: 0.8781 - 0_precision: 0.7767 - 1_precision: 0.4907 - 2_precision: 0.5159 - 3_precision: 0.5614 - 4_precision: 0.8027 - val_loss: 0.7031 - val_all_acc: 0.7022 - val_0_recalll: 0.8366 - val_1_recalll: 0.4229 - val_2_recalll: 0.4512 - val_3_recalll: 0.4804 - val_4_recalll: 0.8860 - val_0_precision: 0.7620 - val_1_precision: 0.4964 - val_2_precision: 0.5330 - val_3_precision: 0.5713 - val_4_precision: 0.7952\n",
      "Epoch 16/150\n",
      "100/100 [==============================] - 57s 566ms/step - loss: 0.7141 - all_acc: 0.7007 - 0_recalll: 0.8616 - 1_recalll: 0.3431 - 2_recalll: 0.4452 - 3_recalll: 0.4861 - 4_recalll: 0.8766 - 0_precision: 0.7620 - 1_precision: 0.5167 - 2_precision: 0.5251 - 3_precision: 0.5600 - 4_precision: 0.7997 - val_loss: 0.7064 - val_all_acc: 0.7010 - val_0_recalll: 0.8774 - val_1_recalll: 0.3447 - val_2_recalll: 0.4660 - val_3_recalll: 0.4350 - val_4_recalll: 0.9029 - val_0_precision: 0.7292 - val_1_precision: 0.5336 - val_2_precision: 0.5246 - val_3_precision: 0.5813 - val_4_precision: 0.7831\n",
      "Epoch 17/150\n",
      "100/100 [==============================] - 57s 569ms/step - loss: 0.7301 - all_acc: 0.6876 - 0_recalll: 0.8464 - 1_recalll: 0.3591 - 2_recalll: 0.4318 - 3_recalll: 0.4788 - 4_recalll: 0.8639 - 0_precision: 0.7618 - 1_precision: 0.4831 - 2_precision: 0.5285 - 3_precision: 0.5525 - 4_precision: 0.7906 - val_loss: 0.7360 - val_all_acc: 0.6868 - val_0_recalll: 0.9271 - val_1_recalll: 0.2373 - val_2_recalll: 0.5517 - val_3_recalll: 0.2587 - val_4_recalll: 0.9404 - val_0_precision: 0.6853 - val_1_precision: 0.6050 - val_2_precision: 0.4954 - val_3_precision: 0.6304 - val_4_precision: 0.7444\n",
      "Epoch 18/150\n",
      "100/100 [==============================] - 57s 565ms/step - loss: 0.7255 - all_acc: 0.6907 - 0_recalll: 0.8466 - 1_recalll: 0.3502 - 2_recalll: 0.4518 - 3_recalll: 0.4644 - 4_recalll: 0.8736 - 0_precision: 0.7532 - 1_precision: 0.4934 - 2_precision: 0.5259 - 3_precision: 0.5562 - 4_precision: 0.7864 - val_loss: 0.7070 - val_all_acc: 0.6991 - val_0_recalll: 0.9011 - val_1_recalll: 0.2297 - val_2_recalll: 0.5828 - val_3_recalll: 0.4933 - val_4_recalll: 0.8567 - val_0_precision: 0.7134 - val_1_precision: 0.5888 - val_2_precision: 0.4763 - val_3_precision: 0.5712 - val_4_precision: 0.8200\n",
      "Epoch 19/150\n",
      "100/100 [==============================] - 57s 572ms/step - loss: 0.7108 - all_acc: 0.6984 - 0_recalll: 0.8506 - 1_recalll: 0.3655 - 2_recalll: 0.4495 - 3_recalll: 0.5026 - 4_recalll: 0.8707 - 0_precision: 0.7613 - 1_precision: 0.5080 - 2_precision: 0.5308 - 3_precision: 0.5700 - 4_precision: 0.7965 - val_loss: 0.7092 - val_all_acc: 0.6980 - val_0_recalll: 0.8055 - val_1_recalll: 0.4880 - val_2_recalll: 0.4386 - val_3_recalll: 0.3600 - val_4_recalll: 0.9337 - val_0_precision: 0.7812 - val_1_precision: 0.4920 - val_2_precision: 0.5529 - val_3_precision: 0.6041 - val_4_precision: 0.7543\n",
      "Epoch 20/150\n",
      "100/100 [==============================] - 57s 569ms/step - loss: 0.7128 - all_acc: 0.6975 - 0_recalll: 0.8542 - 1_recalll: 0.3573 - 2_recalll: 0.4370 - 3_recalll: 0.4712 - 4_recalll: 0.8799 - 0_precision: 0.7561 - 1_precision: 0.4843 - 2_precision: 0.5256 - 3_precision: 0.5536 - 4_precision: 0.7990 - val_loss: 0.6972 - val_all_acc: 0.7061 - val_0_recalll: 0.7808 - val_1_recalll: 0.4646 - val_2_recalll: 0.4317 - val_3_recalll: 0.5730 - val_4_recalll: 0.8630 - val_0_precision: 0.8006 - val_1_precision: 0.4914 - val_2_precision: 0.5502 - val_3_precision: 0.5535 - val_4_precision: 0.8180\n",
      "Epoch 21/150\n",
      "100/100 [==============================] - 57s 565ms/step - loss: 0.7129 - all_acc: 0.6998 - 0_recalll: 0.8473 - 1_recalll: 0.3873 - 2_recalll: 0.4475 - 3_recalll: 0.5003 - 4_recalll: 0.8719 - 0_precision: 0.7678 - 1_precision: 0.5231 - 2_precision: 0.5260 - 3_precision: 0.5753 - 4_precision: 0.7966 - val_loss: 0.6984 - val_all_acc: 0.7046 - val_0_recalll: 0.8865 - val_1_recalll: 0.2353 - val_2_recalll: 0.5974 - val_3_recalll: 0.4811 - val_4_recalll: 0.8751 - val_0_precision: 0.7225 - val_1_precision: 0.5934 - val_2_precision: 0.4892 - val_3_precision: 0.5889 - val_4_precision: 0.8128\n",
      "Epoch 22/150\n",
      "100/100 [==============================] - 57s 571ms/step - loss: 0.7108 - all_acc: 0.6952 - 0_recalll: 0.8490 - 1_recalll: 0.3508 - 2_recalll: 0.4478 - 3_recalll: 0.5015 - 4_recalll: 0.8672 - 0_precision: 0.7621 - 1_precision: 0.4871 - 2_precision: 0.5355 - 3_precision: 0.5637 - 4_precision: 0.7941 - val_loss: 0.6943 - val_all_acc: 0.7016 - val_0_recalll: 0.8196 - val_1_recalll: 0.3068 - val_2_recalll: 0.5982 - val_3_recalll: 0.4350 - val_4_recalll: 0.8961 - val_0_precision: 0.7742 - val_1_precision: 0.5325 - val_2_precision: 0.4775 - val_3_precision: 0.5951 - val_4_precision: 0.7934\n",
      "Epoch 23/150\n",
      "100/100 [==============================] - 56s 562ms/step - loss: 0.7028 - all_acc: 0.6993 - 0_recalll: 0.8608 - 1_recalll: 0.3593 - 2_recalll: 0.4306 - 3_recalll: 0.4821 - 4_recalll: 0.8762 - 0_precision: 0.7693 - 1_precision: 0.4935 - 2_precision: 0.5072 - 3_precision: 0.5673 - 4_precision: 0.7984 - val_loss: 0.6972 - val_all_acc: 0.6996 - val_0_recalll: 0.8622 - val_1_recalll: 0.4055 - val_2_recalll: 0.3165 - val_3_recalll: 0.5856 - val_4_recalll: 0.8571 - val_0_precision: 0.7483 - val_1_precision: 0.5237 - val_2_precision: 0.6021 - val_3_precision: 0.5216 - val_4_precision: 0.8147\n",
      "Epoch 24/150\n",
      "100/100 [==============================] - 57s 573ms/step - loss: 0.6996 - all_acc: 0.7047 - 0_recalll: 0.8621 - 1_recalll: 0.3692 - 2_recalll: 0.4374 - 3_recalll: 0.4981 - 4_recalll: 0.8786 - 0_precision: 0.7665 - 1_precision: 0.5029 - 2_precision: 0.5285 - 3_precision: 0.5740 - 4_precision: 0.8021 - val_loss: 0.7007 - val_all_acc: 0.7030 - val_0_recalll: 0.8523 - val_1_recalll: 0.4190 - val_2_recalll: 0.5472 - val_3_recalll: 0.4396 - val_4_recalll: 0.8793 - val_0_precision: 0.7401 - val_1_precision: 0.4939 - val_2_precision: 0.4861 - val_3_precision: 0.5995 - val_4_precision: 0.8137\n",
      "Epoch 25/150\n",
      "100/100 [==============================] - 57s 570ms/step - loss: 0.6953 - all_acc: 0.7029 - 0_recalll: 0.8445 - 1_recalll: 0.3737 - 2_recalll: 0.4347 - 3_recalll: 0.5121 - 4_recalll: 0.8730 - 0_precision: 0.7629 - 1_precision: 0.4843 - 2_precision: 0.5244 - 3_precision: 0.5783 - 4_precision: 0.8003 - val_loss: 0.6961 - val_all_acc: 0.7045 - val_0_recalll: 0.8819 - val_1_recalll: 0.3556 - val_2_recalll: 0.4654 - val_3_recalll: 0.4177 - val_4_recalll: 0.9165 - val_0_precision: 0.7303 - val_1_precision: 0.5479 - val_2_precision: 0.5476 - val_3_precision: 0.6013 - val_4_precision: 0.7722\n",
      "Epoch 26/150\n",
      "100/100 [==============================] - 57s 568ms/step - loss: 0.7031 - all_acc: 0.7037 - 0_recalll: 0.8558 - 1_recalll: 0.3726 - 2_recalll: 0.4415 - 3_recalll: 0.5003 - 4_recalll: 0.8766 - 0_precision: 0.7614 - 1_precision: 0.5060 - 2_precision: 0.5306 - 3_precision: 0.5747 - 4_precision: 0.8041 - val_loss: 0.6907 - val_all_acc: 0.7034 - val_0_recalll: 0.8706 - val_1_recalll: 0.4294 - val_2_recalll: 0.3609 - val_3_recalll: 0.5352 - val_4_recalll: 0.8724 - val_0_precision: 0.7338 - val_1_precision: 0.5014 - val_2_precision: 0.5851 - val_3_precision: 0.5537 - val_4_precision: 0.8063\n",
      "Epoch 27/150\n",
      "100/100 [==============================] - 57s 573ms/step - loss: 0.7011 - all_acc: 0.7027 - 0_recalll: 0.8708 - 1_recalll: 0.3619 - 2_recalll: 0.4206 - 3_recalll: 0.4884 - 4_recalll: 0.8749 - 0_precision: 0.7763 - 1_precision: 0.4910 - 2_precision: 0.5213 - 3_precision: 0.5596 - 4_precision: 0.7986 - val_loss: 0.6960 - val_all_acc: 0.7043 - val_0_recalll: 0.8573 - val_1_recalll: 0.2695 - val_2_recalll: 0.5862 - val_3_recalll: 0.5052 - val_4_recalll: 0.8678 - val_0_precision: 0.7577 - val_1_precision: 0.5742 - val_2_precision: 0.4837 - val_3_precision: 0.5755 - val_4_precision: 0.8126\n",
      "Epoch 28/150\n",
      "100/100 [==============================] - 57s 566ms/step - loss: 0.6923 - all_acc: 0.7079 - 0_recalll: 0.8735 - 1_recalll: 0.3451 - 2_recalll: 0.4438 - 3_recalll: 0.4819 - 4_recalll: 0.8787 - 0_precision: 0.7808 - 1_precision: 0.4924 - 2_precision: 0.5236 - 3_precision: 0.5699 - 4_precision: 0.7996 - val_loss: 0.6950 - val_all_acc: 0.7020 - val_0_recalll: 0.8177 - val_1_recalll: 0.5522 - val_2_recalll: 0.3111 - val_3_recalll: 0.5659 - val_4_recalll: 0.8588 - val_0_precision: 0.7716 - val_1_precision: 0.4534 - val_2_precision: 0.5829 - val_3_precision: 0.5531 - val_4_precision: 0.8228\n",
      "Epoch 29/150\n",
      "100/100 [==============================] - 57s 575ms/step - loss: 0.6985 - all_acc: 0.7032 - 0_recalll: 0.8541 - 1_recalll: 0.3641 - 2_recalll: 0.4285 - 3_recalll: 0.5061 - 4_recalll: 0.8735 - 0_precision: 0.7678 - 1_precision: 0.4934 - 2_precision: 0.5289 - 3_precision: 0.5755 - 4_precision: 0.8034 - val_loss: 0.7092 - val_all_acc: 0.6991 - val_0_recalll: 0.8343 - val_1_recalll: 0.4252 - val_2_recalll: 0.2855 - val_3_recalll: 0.5046 - val_4_recalll: 0.9086 - val_0_precision: 0.7626 - val_1_precision: 0.5328 - val_2_precision: 0.6143 - val_3_precision: 0.5313 - val_4_precision: 0.7787\n",
      "Epoch 30/150\n",
      "100/100 [==============================] - 57s 567ms/step - loss: 0.7039 - all_acc: 0.6998 - 0_recalll: 0.8535 - 1_recalll: 0.3719 - 2_recalll: 0.4584 - 3_recalll: 0.4867 - 4_recalll: 0.8709 - 0_precision: 0.7624 - 1_precision: 0.5113 - 2_precision: 0.5327 - 3_precision: 0.5651 - 4_precision: 0.7980 - val_loss: 0.7038 - val_all_acc: 0.6997 - val_0_recalll: 0.9318 - val_1_recalll: 0.2185 - val_2_recalll: 0.4630 - val_3_recalll: 0.5790 - val_4_recalll: 0.8390 - val_0_precision: 0.6652 - val_1_precision: 0.5913 - val_2_precision: 0.5509 - val_3_precision: 0.5506 - val_4_precision: 0.8301\n",
      "Epoch 31/150\n",
      "100/100 [==============================] - 57s 570ms/step - loss: 0.7051 - all_acc: 0.7018 - 0_recalll: 0.8484 - 1_recalll: 0.3980 - 2_recalll: 0.4453 - 3_recalll: 0.4922 - 4_recalll: 0.8759 - 0_precision: 0.7746 - 1_precision: 0.4947 - 2_precision: 0.5362 - 3_precision: 0.5747 - 4_precision: 0.7959 - val_loss: 0.6899 - val_all_acc: 0.7080 - val_0_recalll: 0.8840 - val_1_recalll: 0.3818 - val_2_recalll: 0.4413 - val_3_recalll: 0.6048 - val_4_recalll: 0.8336 - val_0_precision: 0.7287 - val_1_precision: 0.5503 - val_2_precision: 0.5753 - val_3_precision: 0.5480 - val_4_precision: 0.8342\n",
      "Epoch 32/150\n",
      "100/100 [==============================] - 57s 570ms/step - loss: 0.7173 - all_acc: 0.6968 - 0_recalll: 0.8523 - 1_recalll: 0.3806 - 2_recalll: 0.4569 - 3_recalll: 0.4961 - 4_recalll: 0.8683 - 0_precision: 0.7622 - 1_precision: 0.5090 - 2_precision: 0.5392 - 3_precision: 0.5646 - 4_precision: 0.7939 - val_loss: 0.6929 - val_all_acc: 0.7079 - val_0_recalll: 0.8252 - val_1_recalll: 0.4098 - val_2_recalll: 0.4472 - val_3_recalll: 0.4420 - val_4_recalll: 0.9237 - val_0_precision: 0.7724 - val_1_precision: 0.5225 - val_2_precision: 0.5673 - val_3_precision: 0.6014 - val_4_precision: 0.7700\n",
      "Epoch 33/150\n",
      "100/100 [==============================] - 57s 566ms/step - loss: 0.6749 - all_acc: 0.7152 - 0_recalll: 0.8729 - 1_recalll: 0.3809 - 2_recalll: 0.4455 - 3_recalll: 0.4961 - 4_recalll: 0.8838 - 0_precision: 0.7887 - 1_precision: 0.5149 - 2_precision: 0.5340 - 3_precision: 0.5802 - 4_precision: 0.8035 - val_loss: 0.6910 - val_all_acc: 0.7085 - val_0_recalll: 0.8747 - val_1_recalll: 0.4065 - val_2_recalll: 0.3494 - val_3_recalll: 0.5857 - val_4_recalll: 0.8653 - val_0_precision: 0.7401 - val_1_precision: 0.5384 - val_2_precision: 0.5994 - val_3_precision: 0.5421 - val_4_precision: 0.8202\n",
      "Epoch 34/150\n",
      "100/100 [==============================] - 57s 569ms/step - loss: 0.6781 - all_acc: 0.7115 - 0_recalll: 0.8675 - 1_recalll: 0.3631 - 2_recalll: 0.4508 - 3_recalll: 0.5006 - 4_recalll: 0.8785 - 0_precision: 0.7748 - 1_precision: 0.4798 - 2_precision: 0.5389 - 3_precision: 0.5817 - 4_precision: 0.8075 - val_loss: 0.6908 - val_all_acc: 0.7089 - val_0_recalll: 0.8173 - val_1_recalll: 0.4085 - val_2_recalll: 0.3988 - val_3_recalll: 0.5173 - val_4_recalll: 0.9037 - val_0_precision: 0.7817 - val_1_precision: 0.5380 - val_2_precision: 0.5834 - val_3_precision: 0.5552 - val_4_precision: 0.7907\n",
      "Epoch 35/150\n",
      "100/100 [==============================] - 57s 566ms/step - loss: 0.6926 - all_acc: 0.7027 - 0_recalll: 0.8558 - 1_recalll: 0.3670 - 2_recalll: 0.4527 - 3_recalll: 0.4972 - 4_recalll: 0.8737 - 0_precision: 0.7686 - 1_precision: 0.4960 - 2_precision: 0.5339 - 3_precision: 0.5740 - 4_precision: 0.8041 - val_loss: 0.6816 - val_all_acc: 0.7129 - val_0_recalll: 0.8661 - val_1_recalll: 0.3260 - val_2_recalll: 0.5510 - val_3_recalll: 0.5342 - val_4_recalll: 0.8688 - val_0_precision: 0.7481 - val_1_precision: 0.5494 - val_2_precision: 0.5148 - val_3_precision: 0.5846 - val_4_precision: 0.8251\n",
      "Epoch 36/150\n",
      "100/100 [==============================] - 57s 573ms/step - loss: 0.6986 - all_acc: 0.7018 - 0_recalll: 0.8558 - 1_recalll: 0.3848 - 2_recalll: 0.4345 - 3_recalll: 0.4990 - 4_recalll: 0.8735 - 0_precision: 0.7671 - 1_precision: 0.5281 - 2_precision: 0.5327 - 3_precision: 0.5611 - 4_precision: 0.7990 - val_loss: 0.6843 - val_all_acc: 0.7105 - val_0_recalll: 0.9062 - val_1_recalll: 0.2563 - val_2_recalll: 0.5800 - val_3_recalll: 0.4789 - val_4_recalll: 0.8839 - val_0_precision: 0.7170 - val_1_precision: 0.5949 - val_2_precision: 0.5044 - val_3_precision: 0.6033 - val_4_precision: 0.8125\n",
      "Epoch 37/150\n",
      "100/100 [==============================] - 57s 570ms/step - loss: 0.6777 - all_acc: 0.7145 - 0_recalll: 0.8671 - 1_recalll: 0.3950 - 2_recalll: 0.4643 - 3_recalll: 0.4902 - 4_recalll: 0.8809 - 0_precision: 0.7789 - 1_precision: 0.5114 - 2_precision: 0.5634 - 3_precision: 0.5741 - 4_precision: 0.8033 - val_loss: 0.6925 - val_all_acc: 0.7079 - val_0_recalll: 0.9290 - val_1_recalll: 0.3052 - val_2_recalll: 0.3600 - val_3_recalll: 0.5600 - val_4_recalll: 0.8761 - val_0_precision: 0.6789 - val_1_precision: 0.5582 - val_2_precision: 0.6099 - val_3_precision: 0.5615 - val_4_precision: 0.8155\n",
      "Epoch 38/150\n",
      "100/100 [==============================] - 57s 568ms/step - loss: 0.6726 - all_acc: 0.7177 - 0_recalll: 0.8757 - 1_recalll: 0.3656 - 2_recalll: 0.4294 - 3_recalll: 0.5001 - 4_recalll: 0.8832 - 0_precision: 0.7821 - 1_precision: 0.4963 - 2_precision: 0.5393 - 3_precision: 0.5799 - 4_precision: 0.8093 - val_loss: 0.6805 - val_all_acc: 0.7136 - val_0_recalll: 0.8799 - val_1_recalll: 0.3721 - val_2_recalll: 0.4086 - val_3_recalll: 0.5788 - val_4_recalll: 0.8698 - val_0_precision: 0.7348 - val_1_precision: 0.5347 - val_2_precision: 0.5906 - val_3_precision: 0.5599 - val_4_precision: 0.8219\n",
      "Epoch 39/150\n",
      "100/100 [==============================] - 57s 571ms/step - loss: 0.6783 - all_acc: 0.7130 - 0_recalll: 0.8721 - 1_recalll: 0.3633 - 2_recalll: 0.4562 - 3_recalll: 0.4895 - 4_recalll: 0.8844 - 0_precision: 0.7771 - 1_precision: 0.4903 - 2_precision: 0.5344 - 3_precision: 0.5828 - 4_precision: 0.8048 - val_loss: 0.6887 - val_all_acc: 0.7052 - val_0_recalll: 0.7320 - val_1_recalll: 0.6179 - val_2_recalll: 0.3790 - val_3_recalll: 0.4690 - val_4_recalll: 0.9104 - val_0_precision: 0.8224 - val_1_precision: 0.4460 - val_2_precision: 0.6097 - val_3_precision: 0.5957 - val_4_precision: 0.7862\n",
      "Epoch 40/150\n",
      "100/100 [==============================] - 57s 567ms/step - loss: 0.6913 - all_acc: 0.7063 - 0_recalll: 0.8412 - 1_recalll: 0.3884 - 2_recalll: 0.4537 - 3_recalll: 0.5084 - 4_recalll: 0.8780 - 0_precision: 0.7621 - 1_precision: 0.4881 - 2_precision: 0.5457 - 3_precision: 0.5807 - 4_precision: 0.8050 - val_loss: 0.7041 - val_all_acc: 0.6973 - val_0_recalll: 0.8120 - val_1_recalll: 0.2798 - val_2_recalll: 0.5424 - val_3_recalll: 0.6265 - val_4_recalll: 0.8150 - val_0_precision: 0.7903 - val_1_precision: 0.5555 - val_2_precision: 0.4954 - val_3_precision: 0.5254 - val_4_precision: 0.8420\n",
      "Epoch 41/150\n",
      "100/100 [==============================] - 57s 570ms/step - loss: 0.6952 - all_acc: 0.7018 - 0_recalll: 0.8482 - 1_recalll: 0.3949 - 2_recalll: 0.4290 - 3_recalll: 0.5235 - 4_recalll: 0.8690 - 0_precision: 0.7654 - 1_precision: 0.5098 - 2_precision: 0.5321 - 3_precision: 0.5787 - 4_precision: 0.7997 - val_loss: 0.6797 - val_all_acc: 0.7129 - val_0_recalll: 0.8774 - val_1_recalll: 0.3645 - val_2_recalll: 0.5358 - val_3_recalll: 0.5388 - val_4_recalll: 0.8586 - val_0_precision: 0.7441 - val_1_precision: 0.5588 - val_2_precision: 0.5287 - val_3_precision: 0.5757 - val_4_precision: 0.8270\n",
      "Epoch 42/150\n",
      "100/100 [==============================] - 57s 572ms/step - loss: 0.6910 - all_acc: 0.7069 - 0_recalll: 0.8569 - 1_recalll: 0.3841 - 2_recalll: 0.4561 - 3_recalll: 0.4909 - 4_recalll: 0.8839 - 0_precision: 0.7674 - 1_precision: 0.4961 - 2_precision: 0.5385 - 3_precision: 0.5830 - 4_precision: 0.8044 - val_loss: 0.6722 - val_all_acc: 0.7171 - val_0_recalll: 0.8638 - val_1_recalll: 0.3955 - val_2_recalll: 0.4658 - val_3_recalll: 0.5241 - val_4_recalll: 0.8906 - val_0_precision: 0.7663 - val_1_precision: 0.5328 - val_2_precision: 0.5597 - val_3_precision: 0.5894 - val_4_precision: 0.8054\n",
      "Epoch 43/150\n",
      "100/100 [==============================] - 56s 564ms/step - loss: 0.6882 - all_acc: 0.7077 - 0_recalll: 0.8518 - 1_recalll: 0.4031 - 2_recalll: 0.4636 - 3_recalll: 0.4970 - 4_recalll: 0.8817 - 0_precision: 0.7593 - 1_precision: 0.5241 - 2_precision: 0.5384 - 3_precision: 0.5744 - 4_precision: 0.8052 - val_loss: 0.6762 - val_all_acc: 0.7134 - val_0_recalll: 0.7984 - val_1_recalll: 0.4724 - val_2_recalll: 0.4629 - val_3_recalll: 0.4942 - val_4_recalll: 0.9019 - val_0_precision: 0.7888 - val_1_precision: 0.5096 - val_2_precision: 0.5816 - val_3_precision: 0.5904 - val_4_precision: 0.7920\n",
      "Epoch 44/150\n",
      "100/100 [==============================] - 58s 576ms/step - loss: 0.6996 - all_acc: 0.7059 - 0_recalll: 0.8404 - 1_recalll: 0.3996 - 2_recalll: 0.4615 - 3_recalll: 0.5119 - 4_recalll: 0.8823 - 0_precision: 0.7522 - 1_precision: 0.5331 - 2_precision: 0.5466 - 3_precision: 0.5875 - 4_precision: 0.8015 - val_loss: 0.6773 - val_all_acc: 0.7123 - val_0_recalll: 0.8389 - val_1_recalll: 0.4951 - val_2_recalll: 0.4794 - val_3_recalll: 0.5133 - val_4_recalll: 0.8708 - val_0_precision: 0.7713 - val_1_precision: 0.4987 - val_2_precision: 0.5518 - val_3_precision: 0.5840 - val_4_precision: 0.8186\n",
      "Epoch 45/150\n",
      "100/100 [==============================] - 57s 569ms/step - loss: 0.6818 - all_acc: 0.7105 - 0_recalll: 0.8493 - 1_recalll: 0.4023 - 2_recalll: 0.4633 - 3_recalll: 0.5182 - 4_recalll: 0.8798 - 0_precision: 0.7647 - 1_precision: 0.5272 - 2_precision: 0.5498 - 3_precision: 0.5854 - 4_precision: 0.8087 - val_loss: 0.6966 - val_all_acc: 0.7012 - val_0_recalll: 0.7591 - val_1_recalll: 0.5521 - val_2_recalll: 0.3831 - val_3_recalll: 0.4179 - val_4_recalll: 0.9286 - val_0_precision: 0.8069 - val_1_precision: 0.4792 - val_2_precision: 0.6136 - val_3_precision: 0.5866 - val_4_precision: 0.7595\n",
      "Epoch 46/150\n",
      "100/100 [==============================] - 57s 573ms/step - loss: 0.6869 - all_acc: 0.7084 - 0_recalll: 0.8508 - 1_recalll: 0.4009 - 2_recalll: 0.4573 - 3_recalll: 0.5045 - 4_recalll: 0.8805 - 0_precision: 0.7618 - 1_precision: 0.5229 - 2_precision: 0.5438 - 3_precision: 0.5791 - 4_precision: 0.8038 - val_loss: 0.6827 - val_all_acc: 0.7102 - val_0_recalll: 0.7412 - val_1_recalll: 0.5019 - val_2_recalll: 0.5312 - val_3_recalll: 0.4472 - val_4_recalll: 0.9131 - val_0_precision: 0.8179 - val_1_precision: 0.4911 - val_2_precision: 0.5513 - val_3_precision: 0.6145 - val_4_precision: 0.7832\n",
      "Epoch 47/150\n",
      "100/100 [==============================] - 57s 568ms/step - loss: 0.6774 - all_acc: 0.7092 - 0_recalll: 0.8523 - 1_recalll: 0.4185 - 2_recalll: 0.4547 - 3_recalll: 0.5192 - 4_recalll: 0.8730 - 0_precision: 0.7778 - 1_precision: 0.5235 - 2_precision: 0.5481 - 3_precision: 0.5793 - 4_precision: 0.8052 - val_loss: 0.6801 - val_all_acc: 0.7116 - val_0_recalll: 0.8828 - val_1_recalll: 0.4061 - val_2_recalll: 0.4104 - val_3_recalll: 0.6099 - val_4_recalll: 0.8425 - val_0_precision: 0.7389 - val_1_precision: 0.5513 - val_2_precision: 0.5987 - val_3_precision: 0.5486 - val_4_precision: 0.8328\n",
      "Epoch 48/150\n",
      "100/100 [==============================] - 57s 570ms/step - loss: 0.6828 - all_acc: 0.7110 - 0_recalll: 0.8577 - 1_recalll: 0.3749 - 2_recalll: 0.4729 - 3_recalll: 0.5095 - 4_recalll: 0.8797 - 0_precision: 0.7649 - 1_precision: 0.5274 - 2_precision: 0.5618 - 3_precision: 0.5885 - 4_precision: 0.8040 - val_loss: 0.6879 - val_all_acc: 0.7071 - val_0_recalll: 0.8080 - val_1_recalll: 0.3970 - val_2_recalll: 0.5886 - val_3_recalll: 0.5781 - val_4_recalll: 0.8278 - val_0_precision: 0.7871 - val_1_precision: 0.5242 - val_2_precision: 0.5209 - val_3_precision: 0.5565 - val_4_precision: 0.8403\n",
      "Epoch 49/150\n",
      "100/100 [==============================] - 57s 571ms/step - loss: 0.6896 - all_acc: 0.7063 - 0_recalll: 0.8484 - 1_recalll: 0.3761 - 2_recalll: 0.4508 - 3_recalll: 0.5268 - 4_recalll: 0.8762 - 0_precision: 0.7669 - 1_precision: 0.5027 - 2_precision: 0.5313 - 3_precision: 0.5825 - 4_precision: 0.8071 - val_loss: 0.6743 - val_all_acc: 0.7148 - val_0_recalll: 0.8337 - val_1_recalll: 0.3932 - val_2_recalll: 0.4523 - val_3_recalll: 0.5400 - val_4_recalll: 0.8907 - val_0_precision: 0.7668 - val_1_precision: 0.5390 - val_2_precision: 0.5729 - val_3_precision: 0.5729 - val_4_precision: 0.8069\n",
      "Epoch 50/150\n",
      "100/100 [==============================] - 56s 563ms/step - loss: 0.6929 - all_acc: 0.7036 - 0_recalll: 0.8462 - 1_recalll: 0.3677 - 2_recalll: 0.4491 - 3_recalll: 0.5215 - 4_recalll: 0.8736 - 0_precision: 0.7626 - 1_precision: 0.4937 - 2_precision: 0.5487 - 3_precision: 0.5877 - 4_precision: 0.7981 - val_loss: 0.6739 - val_all_acc: 0.7121 - val_0_recalll: 0.8284 - val_1_recalll: 0.4783 - val_2_recalll: 0.3452 - val_3_recalll: 0.5191 - val_4_recalll: 0.9065 - val_0_precision: 0.7687 - val_1_precision: 0.5094 - val_2_precision: 0.6163 - val_3_precision: 0.5738 - val_4_precision: 0.7953\n",
      "Epoch 51/150\n",
      "100/100 [==============================] - 57s 574ms/step - loss: 0.6814 - all_acc: 0.7070 - 0_recalll: 0.8493 - 1_recalll: 0.4029 - 2_recalll: 0.4488 - 3_recalll: 0.5302 - 4_recalll: 0.8705 - 0_precision: 0.7592 - 1_precision: 0.5261 - 2_precision: 0.5462 - 3_precision: 0.5852 - 4_precision: 0.8048 - val_loss: 0.6837 - val_all_acc: 0.7090 - val_0_recalll: 0.8805 - val_1_recalll: 0.4426 - val_2_recalll: 0.3876 - val_3_recalll: 0.4062 - val_4_recalll: 0.9347 - val_0_precision: 0.7418 - val_1_precision: 0.5209 - val_2_precision: 0.5988 - val_3_precision: 0.6080 - val_4_precision: 0.7663\n",
      "Epoch 52/150\n",
      "100/100 [==============================] - 57s 567ms/step - loss: 0.6943 - all_acc: 0.7012 - 0_recalll: 0.8477 - 1_recalll: 0.3893 - 2_recalll: 0.4467 - 3_recalll: 0.5157 - 4_recalll: 0.8699 - 0_precision: 0.7674 - 1_precision: 0.5168 - 2_precision: 0.5378 - 3_precision: 0.5875 - 4_precision: 0.7995 - val_loss: 0.6838 - val_all_acc: 0.7063 - val_0_recalll: 0.8578 - val_1_recalll: 0.3880 - val_2_recalll: 0.6149 - val_3_recalll: 0.3670 - val_4_recalll: 0.9092 - val_0_precision: 0.7553 - val_1_precision: 0.5482 - val_2_precision: 0.4841 - val_3_precision: 0.6269 - val_4_precision: 0.7914\n",
      "Epoch 53/150\n",
      "100/100 [==============================] - 57s 571ms/step - loss: 0.6826 - all_acc: 0.7095 - 0_recalll: 0.8568 - 1_recalll: 0.3983 - 2_recalll: 0.4734 - 3_recalll: 0.5265 - 4_recalll: 0.8727 - 0_precision: 0.7662 - 1_precision: 0.5226 - 2_precision: 0.5669 - 3_precision: 0.5914 - 4_precision: 0.8016 - val_loss: 0.6737 - val_all_acc: 0.7161 - val_0_recalll: 0.8317 - val_1_recalll: 0.4334 - val_2_recalll: 0.4803 - val_3_recalll: 0.5880 - val_4_recalll: 0.8562 - val_0_precision: 0.7669 - val_1_precision: 0.5208 - val_2_precision: 0.5680 - val_3_precision: 0.5692 - val_4_precision: 0.8312\n",
      "Epoch 54/150\n",
      "100/100 [==============================] - 57s 570ms/step - loss: 0.6917 - all_acc: 0.7064 - 0_recalll: 0.8634 - 1_recalll: 0.3711 - 2_recalll: 0.4885 - 3_recalll: 0.5319 - 4_recalll: 0.8665 - 0_precision: 0.7739 - 1_precision: 0.5165 - 2_precision: 0.5595 - 3_precision: 0.5841 - 4_precision: 0.8021 - val_loss: 0.6849 - val_all_acc: 0.7082 - val_0_recalll: 0.8708 - val_1_recalll: 0.3718 - val_2_recalll: 0.5976 - val_3_recalll: 0.4581 - val_4_recalll: 0.8731 - val_0_precision: 0.7496 - val_1_precision: 0.5562 - val_2_precision: 0.4673 - val_3_precision: 0.6025 - val_4_precision: 0.8239\n",
      "Epoch 55/150\n",
      "100/100 [==============================] - 56s 563ms/step - loss: 0.6846 - all_acc: 0.7054 - 0_recalll: 0.8578 - 1_recalll: 0.3850 - 2_recalll: 0.4784 - 3_recalll: 0.5184 - 4_recalll: 0.8724 - 0_precision: 0.7680 - 1_precision: 0.5070 - 2_precision: 0.5423 - 3_precision: 0.5885 - 4_precision: 0.7997 - val_loss: 0.6766 - val_all_acc: 0.7139 - val_0_recalll: 0.7565 - val_1_recalll: 0.5002 - val_2_recalll: 0.5127 - val_3_recalll: 0.5631 - val_4_recalll: 0.8651 - val_0_precision: 0.8128 - val_1_precision: 0.4943 - val_2_precision: 0.5413 - val_3_precision: 0.5760 - val_4_precision: 0.8294\n",
      "Epoch 56/150\n",
      "100/100 [==============================] - 57s 572ms/step - loss: 0.6917 - all_acc: 0.7035 - 0_recalll: 0.8481 - 1_recalll: 0.3976 - 2_recalll: 0.4658 - 3_recalll: 0.5154 - 4_recalll: 0.8725 - 0_precision: 0.7621 - 1_precision: 0.5027 - 2_precision: 0.5384 - 3_precision: 0.5815 - 4_precision: 0.8041 - val_loss: 0.6919 - val_all_acc: 0.7094 - val_0_recalll: 0.8975 - val_1_recalll: 0.4718 - val_2_recalll: 0.4324 - val_3_recalll: 0.3681 - val_4_recalll: 0.9324 - val_0_precision: 0.7262 - val_1_precision: 0.4925 - val_2_precision: 0.5688 - val_3_precision: 0.6426 - val_4_precision: 0.7763\n",
      "Epoch 57/150\n",
      "100/100 [==============================] - 56s 564ms/step - loss: 0.6922 - all_acc: 0.7071 - 0_recalll: 0.8479 - 1_recalll: 0.4026 - 2_recalll: 0.4732 - 3_recalll: 0.5233 - 4_recalll: 0.8772 - 0_precision: 0.7591 - 1_precision: 0.5196 - 2_precision: 0.5545 - 3_precision: 0.5865 - 4_precision: 0.8048 - val_loss: 0.6684 - val_all_acc: 0.7153 - val_0_recalll: 0.8302 - val_1_recalll: 0.4335 - val_2_recalll: 0.5590 - val_3_recalll: 0.4789 - val_4_recalll: 0.8893 - val_0_precision: 0.7824 - val_1_precision: 0.5147 - val_2_precision: 0.5219 - val_3_precision: 0.6080 - val_4_precision: 0.8104\n",
      "Epoch 58/150\n",
      "100/100 [==============================] - 57s 573ms/step - loss: 0.6691 - all_acc: 0.7161 - 0_recalll: 0.8637 - 1_recalll: 0.3943 - 2_recalll: 0.4674 - 3_recalll: 0.5327 - 4_recalll: 0.8815 - 0_precision: 0.7768 - 1_precision: 0.5179 - 2_precision: 0.5519 - 3_precision: 0.5958 - 4_precision: 0.8118 - val_loss: 0.6665 - val_all_acc: 0.7214 - val_0_recalll: 0.8950 - val_1_recalll: 0.3864 - val_2_recalll: 0.4783 - val_3_recalll: 0.5310 - val_4_recalll: 0.8864 - val_0_precision: 0.7340 - val_1_precision: 0.5736 - val_2_precision: 0.5703 - val_3_precision: 0.5874 - val_4_precision: 0.8192\n",
      "Epoch 59/150\n",
      "100/100 [==============================] - 58s 579ms/step - loss: 0.6754 - all_acc: 0.7105 - 0_recalll: 0.8568 - 1_recalll: 0.3831 - 2_recalll: 0.4810 - 3_recalll: 0.5232 - 4_recalll: 0.8759 - 0_precision: 0.7673 - 1_precision: 0.5167 - 2_precision: 0.5582 - 3_precision: 0.5902 - 4_precision: 0.8040 - val_loss: 0.6648 - val_all_acc: 0.7177 - val_0_recalll: 0.8446 - val_1_recalll: 0.4481 - val_2_recalll: 0.5185 - val_3_recalll: 0.5157 - val_4_recalll: 0.8786 - val_0_precision: 0.7684 - val_1_precision: 0.5371 - val_2_precision: 0.5491 - val_3_precision: 0.5893 - val_4_precision: 0.8169\n",
      "Epoch 60/150\n",
      "100/100 [==============================] - 57s 568ms/step - loss: 0.6796 - all_acc: 0.7116 - 0_recalll: 0.8497 - 1_recalll: 0.4356 - 2_recalll: 0.4724 - 3_recalll: 0.5208 - 4_recalll: 0.8788 - 0_precision: 0.7782 - 1_precision: 0.5251 - 2_precision: 0.5566 - 3_precision: 0.5817 - 4_precision: 0.8086 - val_loss: 0.6683 - val_all_acc: 0.7176 - val_0_recalll: 0.8976 - val_1_recalll: 0.3458 - val_2_recalll: 0.4509 - val_3_recalll: 0.5382 - val_4_recalll: 0.8872 - val_0_precision: 0.7323 - val_1_precision: 0.5875 - val_2_precision: 0.5634 - val_3_precision: 0.5789 - val_4_precision: 0.8117\n",
      "Epoch 61/150\n",
      "100/100 [==============================] - 57s 573ms/step - loss: 0.6758 - all_acc: 0.7081 - 0_recalll: 0.8696 - 1_recalll: 0.3759 - 2_recalll: 0.4597 - 3_recalll: 0.5132 - 4_recalll: 0.8728 - 0_precision: 0.7785 - 1_precision: 0.5150 - 2_precision: 0.5473 - 3_precision: 0.5652 - 4_precision: 0.8072 - val_loss: 0.6644 - val_all_acc: 0.7195 - val_0_recalll: 0.8182 - val_1_recalll: 0.4817 - val_2_recalll: 0.5136 - val_3_recalll: 0.4999 - val_4_recalll: 0.8939 - val_0_precision: 0.7858 - val_1_precision: 0.5173 - val_2_precision: 0.5456 - val_3_precision: 0.6080 - val_4_precision: 0.8107\n",
      "Epoch 62/150\n",
      "100/100 [==============================] - 57s 568ms/step - loss: 0.6698 - all_acc: 0.7173 - 0_recalll: 0.8760 - 1_recalll: 0.3985 - 2_recalll: 0.4601 - 3_recalll: 0.5094 - 4_recalll: 0.8798 - 0_precision: 0.7909 - 1_precision: 0.5243 - 2_precision: 0.5546 - 3_precision: 0.5759 - 4_precision: 0.8085 - val_loss: 0.6753 - val_all_acc: 0.7141 - val_0_recalll: 0.8600 - val_1_recalll: 0.3730 - val_2_recalll: 0.5477 - val_3_recalll: 0.5833 - val_4_recalll: 0.8401 - val_0_precision: 0.7661 - val_1_precision: 0.5894 - val_2_precision: 0.5267 - val_3_precision: 0.5608 - val_4_precision: 0.8389\n",
      "Epoch 63/150\n",
      "100/100 [==============================] - 57s 571ms/step - loss: 0.6640 - all_acc: 0.7201 - 0_recalll: 0.8783 - 1_recalll: 0.3671 - 2_recalll: 0.4691 - 3_recalll: 0.5120 - 4_recalll: 0.8831 - 0_precision: 0.7905 - 1_precision: 0.5117 - 2_precision: 0.5553 - 3_precision: 0.5842 - 4_precision: 0.8118 - val_loss: 0.6713 - val_all_acc: 0.7163 - val_0_recalll: 0.7907 - val_1_recalll: 0.5626 - val_2_recalll: 0.4579 - val_3_recalll: 0.5318 - val_4_recalll: 0.8771 - val_0_precision: 0.7968 - val_1_precision: 0.4818 - val_2_precision: 0.5660 - val_3_precision: 0.5978 - val_4_precision: 0.8196\n",
      "Epoch 64/150\n",
      "100/100 [==============================] - 57s 574ms/step - loss: 0.6591 - all_acc: 0.7206 - 0_recalll: 0.8795 - 1_recalll: 0.3793 - 2_recalll: 0.4801 - 3_recalll: 0.5032 - 4_recalll: 0.8831 - 0_precision: 0.7986 - 1_precision: 0.4962 - 2_precision: 0.5629 - 3_precision: 0.5797 - 4_precision: 0.8063 - val_loss: 0.6681 - val_all_acc: 0.7160 - val_0_recalll: 0.8410 - val_1_recalll: 0.4513 - val_2_recalll: 0.4636 - val_3_recalll: 0.5976 - val_4_recalll: 0.8486 - val_0_precision: 0.7677 - val_1_precision: 0.5312 - val_2_precision: 0.5930 - val_3_precision: 0.5605 - val_4_precision: 0.8318\n",
      "Epoch 65/150\n",
      "100/100 [==============================] - 57s 569ms/step - loss: 0.6640 - all_acc: 0.7166 - 0_recalll: 0.8803 - 1_recalll: 0.3728 - 2_recalll: 0.4460 - 3_recalll: 0.5144 - 4_recalll: 0.8772 - 0_precision: 0.7812 - 1_precision: 0.5131 - 2_precision: 0.5511 - 3_precision: 0.5810 - 4_precision: 0.8074 - val_loss: 0.6670 - val_all_acc: 0.7180 - val_0_recalll: 0.8280 - val_1_recalll: 0.5126 - val_2_recalll: 0.3658 - val_3_recalll: 0.5094 - val_4_recalll: 0.9121 - val_0_precision: 0.7800 - val_1_precision: 0.5103 - val_2_precision: 0.6259 - val_3_precision: 0.5841 - val_4_precision: 0.7963\n",
      "Epoch 66/150\n",
      "100/100 [==============================] - 57s 568ms/step - loss: 0.6756 - all_acc: 0.7157 - 0_recalll: 0.8613 - 1_recalll: 0.3976 - 2_recalll: 0.4652 - 3_recalll: 0.5175 - 4_recalll: 0.8846 - 0_precision: 0.7736 - 1_precision: 0.5182 - 2_precision: 0.5521 - 3_precision: 0.5861 - 4_precision: 0.8111 - val_loss: 0.6650 - val_all_acc: 0.7180 - val_0_recalll: 0.8572 - val_1_recalll: 0.5064 - val_2_recalll: 0.3688 - val_3_recalll: 0.5700 - val_4_recalll: 0.8747 - val_0_precision: 0.7636 - val_1_precision: 0.5174 - val_2_precision: 0.6077 - val_3_precision: 0.5698 - val_4_precision: 0.8217\n",
      "Epoch 67/150\n",
      "100/100 [==============================] - 57s 566ms/step - loss: 0.6807 - all_acc: 0.7107 - 0_recalll: 0.8645 - 1_recalll: 0.3792 - 2_recalll: 0.4565 - 3_recalll: 0.5352 - 4_recalll: 0.8749 - 0_precision: 0.7608 - 1_precision: 0.5021 - 2_precision: 0.5578 - 3_precision: 0.5910 - 4_precision: 0.8098 - val_loss: 0.6607 - val_all_acc: 0.7219 - val_0_recalll: 0.8463 - val_1_recalll: 0.4117 - val_2_recalll: 0.5009 - val_3_recalll: 0.5256 - val_4_recalll: 0.8936 - val_0_precision: 0.7705 - val_1_precision: 0.5331 - val_2_precision: 0.5723 - val_3_precision: 0.6007 - val_4_precision: 0.8098\n",
      "Epoch 68/150\n",
      "100/100 [==============================] - 57s 571ms/step - loss: 0.6730 - all_acc: 0.7146 - 0_recalll: 0.8596 - 1_recalll: 0.4008 - 2_recalll: 0.4800 - 3_recalll: 0.5253 - 4_recalll: 0.8794 - 0_precision: 0.7723 - 1_precision: 0.5182 - 2_precision: 0.5711 - 3_precision: 0.5919 - 4_precision: 0.8064 - val_loss: 0.6627 - val_all_acc: 0.7188 - val_0_recalll: 0.8176 - val_1_recalll: 0.4705 - val_2_recalll: 0.4786 - val_3_recalll: 0.5561 - val_4_recalll: 0.8753 - val_0_precision: 0.7846 - val_1_precision: 0.5110 - val_2_precision: 0.5775 - val_3_precision: 0.5829 - val_4_precision: 0.8208\n",
      "Epoch 69/150\n",
      "100/100 [==============================] - 57s 567ms/step - loss: 0.6850 - all_acc: 0.7088 - 0_recalll: 0.8491 - 1_recalll: 0.4180 - 2_recalll: 0.4664 - 3_recalll: 0.5177 - 4_recalll: 0.8785 - 0_precision: 0.7625 - 1_precision: 0.5181 - 2_precision: 0.5556 - 3_precision: 0.5875 - 4_precision: 0.8064 - val_loss: 0.6730 - val_all_acc: 0.7126 - val_0_recalll: 0.8924 - val_1_recalll: 0.3636 - val_2_recalll: 0.5437 - val_3_recalll: 0.3700 - val_4_recalll: 0.9340 - val_0_precision: 0.7396 - val_1_precision: 0.5607 - val_2_precision: 0.5454 - val_3_precision: 0.6424 - val_4_precision: 0.7719\n",
      "Epoch 70/150\n",
      "100/100 [==============================] - 58s 577ms/step - loss: 0.6905 - all_acc: 0.7058 - 0_recalll: 0.8558 - 1_recalll: 0.3791 - 2_recalll: 0.4679 - 3_recalll: 0.5143 - 4_recalll: 0.8763 - 0_precision: 0.7616 - 1_precision: 0.5094 - 2_precision: 0.5501 - 3_precision: 0.5820 - 4_precision: 0.8045 - val_loss: 0.6589 - val_all_acc: 0.7191 - val_0_recalll: 0.8700 - val_1_recalll: 0.3570 - val_2_recalll: 0.5238 - val_3_recalll: 0.5382 - val_4_recalll: 0.8798 - val_0_precision: 0.7621 - val_1_precision: 0.5842 - val_2_precision: 0.5568 - val_3_precision: 0.5828 - val_4_precision: 0.8141\n",
      "Epoch 71/150\n",
      "100/100 [==============================] - 57s 575ms/step - loss: 0.6722 - all_acc: 0.7148 - 0_recalll: 0.8668 - 1_recalll: 0.3957 - 2_recalll: 0.4578 - 3_recalll: 0.5285 - 4_recalll: 0.8803 - 0_precision: 0.7865 - 1_precision: 0.5079 - 2_precision: 0.5517 - 3_precision: 0.5892 - 4_precision: 0.8074 - val_loss: 0.6599 - val_all_acc: 0.7195 - val_0_recalll: 0.8255 - val_1_recalll: 0.4143 - val_2_recalll: 0.5295 - val_3_recalll: 0.5490 - val_4_recalll: 0.8766 - val_0_precision: 0.7870 - val_1_precision: 0.5403 - val_2_precision: 0.5608 - val_3_precision: 0.5826 - val_4_precision: 0.8177\n",
      "Epoch 72/150\n",
      "100/100 [==============================] - 57s 570ms/step - loss: 0.6681 - all_acc: 0.7194 - 0_recalll: 0.8794 - 1_recalll: 0.3753 - 2_recalll: 0.4534 - 3_recalll: 0.5233 - 4_recalll: 0.8810 - 0_precision: 0.7932 - 1_precision: 0.4966 - 2_precision: 0.5427 - 3_precision: 0.5888 - 4_precision: 0.8095 - val_loss: 0.6613 - val_all_acc: 0.7220 - val_0_recalll: 0.8111 - val_1_recalll: 0.5245 - val_2_recalll: 0.4400 - val_3_recalll: 0.5044 - val_4_recalll: 0.9097 - val_0_precision: 0.7885 - val_1_precision: 0.5111 - val_2_precision: 0.6151 - val_3_precision: 0.6049 - val_4_precision: 0.7993\n",
      "Epoch 73/150\n",
      "100/100 [==============================] - 57s 572ms/step - loss: 0.6576 - all_acc: 0.7239 - 0_recalll: 0.8723 - 1_recalll: 0.4102 - 2_recalll: 0.4595 - 3_recalll: 0.5240 - 4_recalll: 0.8863 - 0_precision: 0.7904 - 1_precision: 0.5116 - 2_precision: 0.5604 - 3_precision: 0.5993 - 4_precision: 0.8127 - val_loss: 0.6684 - val_all_acc: 0.7195 - val_0_recalll: 0.8932 - val_1_recalll: 0.4464 - val_2_recalll: 0.4604 - val_3_recalll: 0.4876 - val_4_recalll: 0.8962 - val_0_precision: 0.7283 - val_1_precision: 0.5065 - val_2_precision: 0.5774 - val_3_precision: 0.6216 - val_4_precision: 0.8105\n",
      "Epoch 74/150\n",
      "100/100 [==============================] - 57s 566ms/step - loss: 0.6623 - all_acc: 0.7189 - 0_recalll: 0.8680 - 1_recalll: 0.4081 - 2_recalll: 0.4597 - 3_recalll: 0.5232 - 4_recalll: 0.8826 - 0_precision: 0.7844 - 1_precision: 0.5178 - 2_precision: 0.5429 - 3_precision: 0.5937 - 4_precision: 0.8116 - val_loss: 0.6698 - val_all_acc: 0.7125 - val_0_recalll: 0.8314 - val_1_recalll: 0.4899 - val_2_recalll: 0.4993 - val_3_recalll: 0.3619 - val_4_recalll: 0.9427 - val_0_precision: 0.7775 - val_1_precision: 0.5104 - val_2_precision: 0.5771 - val_3_precision: 0.6453 - val_4_precision: 0.7638\n",
      "Epoch 75/150\n",
      "100/100 [==============================] - 57s 569ms/step - loss: 0.6728 - all_acc: 0.7111 - 0_recalll: 0.8518 - 1_recalll: 0.4188 - 2_recalll: 0.4713 - 3_recalll: 0.5002 - 4_recalll: 0.8829 - 0_precision: 0.7697 - 1_precision: 0.5393 - 2_precision: 0.5449 - 3_precision: 0.5775 - 4_precision: 0.8082 - val_loss: 0.6646 - val_all_acc: 0.7181 - val_0_recalll: 0.8953 - val_1_recalll: 0.3040 - val_2_recalll: 0.4670 - val_3_recalll: 0.5122 - val_4_recalll: 0.9059 - val_0_precision: 0.7305 - val_1_precision: 0.5557 - val_2_precision: 0.5838 - val_3_precision: 0.5875 - val_4_precision: 0.8011\n",
      "Epoch 76/150\n",
      "100/100 [==============================] - 57s 569ms/step - loss: 0.6659 - all_acc: 0.7179 - 0_recalll: 0.8624 - 1_recalll: 0.3822 - 2_recalll: 0.4735 - 3_recalll: 0.5284 - 4_recalll: 0.8831 - 0_precision: 0.7708 - 1_precision: 0.5067 - 2_precision: 0.5649 - 3_precision: 0.6011 - 4_precision: 0.8076 - val_loss: 0.6668 - val_all_acc: 0.7177 - val_0_recalll: 0.8846 - val_1_recalll: 0.4151 - val_2_recalll: 0.4578 - val_3_recalll: 0.6318 - val_4_recalll: 0.8310 - val_0_precision: 0.7479 - val_1_precision: 0.5357 - val_2_precision: 0.6035 - val_3_precision: 0.5569 - val_4_precision: 0.8467\n",
      "Epoch 77/150\n",
      "100/100 [==============================] - 57s 572ms/step - loss: 0.6680 - all_acc: 0.7139 - 0_recalll: 0.8450 - 1_recalll: 0.4358 - 2_recalll: 0.4699 - 3_recalll: 0.5332 - 4_recalll: 0.8784 - 0_precision: 0.7654 - 1_precision: 0.5389 - 2_precision: 0.5754 - 3_precision: 0.5942 - 4_precision: 0.8059 - val_loss: 0.6672 - val_all_acc: 0.7156 - val_0_recalll: 0.8308 - val_1_recalll: 0.3790 - val_2_recalll: 0.6009 - val_3_recalll: 0.5757 - val_4_recalll: 0.8428 - val_0_precision: 0.7809 - val_1_precision: 0.5556 - val_2_precision: 0.5197 - val_3_precision: 0.5767 - val_4_precision: 0.8398\n",
      "Epoch 78/150\n",
      "100/100 [==============================] - 57s 575ms/step - loss: 0.6723 - all_acc: 0.7172 - 0_recalll: 0.8599 - 1_recalll: 0.3695 - 2_recalll: 0.5059 - 3_recalll: 0.5354 - 4_recalll: 0.8801 - 0_precision: 0.7676 - 1_precision: 0.5153 - 2_precision: 0.5798 - 3_precision: 0.6048 - 4_precision: 0.8055 - val_loss: 0.6585 - val_all_acc: 0.7216 - val_0_recalll: 0.8727 - val_1_recalll: 0.4145 - val_2_recalll: 0.4939 - val_3_recalll: 0.4929 - val_4_recalll: 0.9017 - val_0_precision: 0.7394 - val_1_precision: 0.5345 - val_2_precision: 0.5771 - val_3_precision: 0.6137 - val_4_precision: 0.8060\n",
      "Epoch 79/150\n",
      "100/100 [==============================] - 57s 570ms/step - loss: 0.6702 - all_acc: 0.7147 - 0_recalll: 0.8572 - 1_recalll: 0.3977 - 2_recalll: 0.4873 - 3_recalll: 0.5372 - 4_recalll: 0.8759 - 0_precision: 0.7698 - 1_precision: 0.5263 - 2_precision: 0.5622 - 3_precision: 0.5947 - 4_precision: 0.8091 - val_loss: 0.6668 - val_all_acc: 0.7159 - val_0_recalll: 0.7573 - val_1_recalll: 0.4781 - val_2_recalll: 0.5272 - val_3_recalll: 0.5679 - val_4_recalll: 0.8685 - val_0_precision: 0.8195 - val_1_precision: 0.4958 - val_2_precision: 0.5397 - val_3_precision: 0.5809 - val_4_precision: 0.8280\n",
      "Epoch 80/150\n",
      "100/100 [==============================] - 57s 569ms/step - loss: 0.6767 - all_acc: 0.7132 - 0_recalll: 0.8506 - 1_recalll: 0.4023 - 2_recalll: 0.4924 - 3_recalll: 0.5109 - 4_recalll: 0.8794 - 0_precision: 0.7751 - 1_precision: 0.5173 - 2_precision: 0.5593 - 3_precision: 0.5812 - 4_precision: 0.8085 - val_loss: 0.6651 - val_all_acc: 0.7191 - val_0_recalll: 0.8207 - val_1_recalll: 0.3290 - val_2_recalll: 0.5403 - val_3_recalll: 0.5669 - val_4_recalll: 0.8824 - val_0_precision: 0.7969 - val_1_precision: 0.5591 - val_2_precision: 0.5295 - val_3_precision: 0.5794 - val_4_precision: 0.8194\n",
      "Epoch 81/150\n",
      "100/100 [==============================] - 57s 569ms/step - loss: 0.6598 - all_acc: 0.7187 - 0_recalll: 0.8673 - 1_recalll: 0.3916 - 2_recalll: 0.4803 - 3_recalll: 0.5176 - 4_recalll: 0.8835 - 0_precision: 0.7852 - 1_precision: 0.5215 - 2_precision: 0.5589 - 3_precision: 0.5926 - 4_precision: 0.8097 - val_loss: 0.6639 - val_all_acc: 0.7177 - val_0_recalll: 0.8962 - val_1_recalll: 0.2763 - val_2_recalll: 0.4396 - val_3_recalll: 0.5576 - val_4_recalll: 0.8948 - val_0_precision: 0.7311 - val_1_precision: 0.5796 - val_2_precision: 0.5745 - val_3_precision: 0.5748 - val_4_precision: 0.8108\n",
      "Epoch 82/150\n",
      "100/100 [==============================] - 57s 573ms/step - loss: 0.6565 - all_acc: 0.7223 - 0_recalll: 0.8701 - 1_recalll: 0.3761 - 2_recalll: 0.4790 - 3_recalll: 0.5162 - 4_recalll: 0.8848 - 0_precision: 0.7914 - 1_precision: 0.4933 - 2_precision: 0.5706 - 3_precision: 0.5850 - 4_precision: 0.8129 - val_loss: 0.6639 - val_all_acc: 0.7210 - val_0_recalll: 0.8752 - val_1_recalll: 0.3843 - val_2_recalll: 0.5871 - val_3_recalll: 0.4758 - val_4_recalll: 0.8925 - val_0_precision: 0.7430 - val_1_precision: 0.5526 - val_2_precision: 0.5197 - val_3_precision: 0.6270 - val_4_precision: 0.8190\n",
      "Epoch 83/150\n",
      "100/100 [==============================] - 57s 572ms/step - loss: 0.6611 - all_acc: 0.7171 - 0_recalll: 0.8718 - 1_recalll: 0.3755 - 2_recalll: 0.4607 - 3_recalll: 0.5080 - 4_recalll: 0.8849 - 0_precision: 0.7881 - 1_precision: 0.5026 - 2_precision: 0.5413 - 3_precision: 0.5864 - 4_precision: 0.8092 - val_loss: 0.6514 - val_all_acc: 0.7240 - val_0_recalll: 0.8679 - val_1_recalll: 0.4098 - val_2_recalll: 0.4927 - val_3_recalll: 0.5343 - val_4_recalll: 0.8912 - val_0_precision: 0.7506 - val_1_precision: 0.5624 - val_2_precision: 0.5801 - val_3_precision: 0.5981 - val_4_precision: 0.8141\n",
      "Epoch 84/150\n",
      "100/100 [==============================] - 57s 568ms/step - loss: 0.6640 - all_acc: 0.7175 - 0_recalll: 0.8656 - 1_recalll: 0.3781 - 2_recalll: 0.4624 - 3_recalll: 0.5384 - 4_recalll: 0.8812 - 0_precision: 0.7712 - 1_precision: 0.4981 - 2_precision: 0.5541 - 3_precision: 0.5934 - 4_precision: 0.8147 - val_loss: 0.6567 - val_all_acc: 0.7223 - val_0_recalll: 0.8478 - val_1_recalll: 0.5350 - val_2_recalll: 0.4659 - val_3_recalll: 0.5024 - val_4_recalll: 0.8903 - val_0_precision: 0.7610 - val_1_precision: 0.4882 - val_2_precision: 0.5846 - val_3_precision: 0.6258 - val_4_precision: 0.8157\n",
      "Epoch 85/150\n",
      "100/100 [==============================] - 57s 574ms/step - loss: 0.6639 - all_acc: 0.7169 - 0_recalll: 0.8574 - 1_recalll: 0.4225 - 2_recalll: 0.4846 - 3_recalll: 0.5326 - 4_recalll: 0.8785 - 0_precision: 0.7828 - 1_precision: 0.5228 - 2_precision: 0.5658 - 3_precision: 0.5980 - 4_precision: 0.8082 - val_loss: 0.6540 - val_all_acc: 0.7212 - val_0_recalll: 0.8322 - val_1_recalll: 0.3666 - val_2_recalll: 0.5851 - val_3_recalll: 0.5300 - val_4_recalll: 0.8832 - val_0_precision: 0.7708 - val_1_precision: 0.5256 - val_2_precision: 0.5285 - val_3_precision: 0.6158 - val_4_precision: 0.8221\n",
      "Epoch 86/150\n",
      "100/100 [==============================] - 57s 569ms/step - loss: 0.6602 - all_acc: 0.7216 - 0_recalll: 0.8678 - 1_recalll: 0.3885 - 2_recalll: 0.4987 - 3_recalll: 0.5414 - 4_recalll: 0.8814 - 0_precision: 0.7826 - 1_precision: 0.5211 - 2_precision: 0.5670 - 3_precision: 0.6108 - 4_precision: 0.8098 - val_loss: 0.6532 - val_all_acc: 0.7228 - val_0_recalll: 0.8849 - val_1_recalll: 0.2836 - val_2_recalll: 0.5819 - val_3_recalll: 0.5305 - val_4_recalll: 0.8864 - val_0_precision: 0.7469 - val_1_precision: 0.5933 - val_2_precision: 0.5261 - val_3_precision: 0.6130 - val_4_precision: 0.8199\n",
      "Epoch 87/150\n",
      "100/100 [==============================] - 58s 576ms/step - loss: 0.6639 - all_acc: 0.7160 - 0_recalll: 0.8646 - 1_recalll: 0.3717 - 2_recalll: 0.5108 - 3_recalll: 0.5251 - 4_recalll: 0.8782 - 0_precision: 0.7724 - 1_precision: 0.5106 - 2_precision: 0.5783 - 3_precision: 0.5930 - 4_precision: 0.8099 - val_loss: 0.6636 - val_all_acc: 0.7180 - val_0_recalll: 0.8647 - val_1_recalll: 0.4967 - val_2_recalll: 0.3474 - val_3_recalll: 0.4814 - val_4_recalll: 0.9221 - val_0_precision: 0.7621 - val_1_precision: 0.5151 - val_2_precision: 0.6489 - val_3_precision: 0.5912 - val_4_precision: 0.7869\n",
      "Epoch 88/150\n",
      "100/100 [==============================] - 57s 568ms/step - loss: 0.6669 - all_acc: 0.7152 - 0_recalll: 0.8579 - 1_recalll: 0.4140 - 2_recalll: 0.4835 - 3_recalll: 0.5195 - 4_recalll: 0.8806 - 0_precision: 0.7809 - 1_precision: 0.5244 - 2_precision: 0.5649 - 3_precision: 0.5846 - 4_precision: 0.8089 - val_loss: 0.6601 - val_all_acc: 0.7144 - val_0_recalll: 0.7913 - val_1_recalll: 0.4620 - val_2_recalll: 0.5988 - val_3_recalll: 0.4201 - val_4_recalll: 0.9108 - val_0_precision: 0.7979 - val_1_precision: 0.5033 - val_2_precision: 0.5269 - val_3_precision: 0.6324 - val_4_precision: 0.7938\n",
      "Epoch 89/150\n",
      "100/100 [==============================] - 58s 575ms/step - loss: 0.6656 - all_acc: 0.7159 - 0_recalll: 0.8688 - 1_recalll: 0.3929 - 2_recalll: 0.4602 - 3_recalll: 0.5093 - 4_recalll: 0.8825 - 0_precision: 0.7849 - 1_precision: 0.4974 - 2_precision: 0.5455 - 3_precision: 0.5851 - 4_precision: 0.8101 - val_loss: 0.6539 - val_all_acc: 0.7239 - val_0_recalll: 0.8439 - val_1_recalll: 0.4860 - val_2_recalll: 0.4892 - val_3_recalll: 0.4632 - val_4_recalll: 0.9170 - val_0_precision: 0.7753 - val_1_precision: 0.5235 - val_2_precision: 0.6030 - val_3_precision: 0.6255 - val_4_precision: 0.7914\n",
      "Epoch 90/150\n",
      "100/100 [==============================] - 57s 572ms/step - loss: 0.6466 - all_acc: 0.7242 - 0_recalll: 0.8872 - 1_recalll: 0.3939 - 2_recalll: 0.4688 - 3_recalll: 0.5077 - 4_recalll: 0.8859 - 0_precision: 0.7968 - 1_precision: 0.5142 - 2_precision: 0.5642 - 3_precision: 0.5873 - 4_precision: 0.8110 - val_loss: 0.6524 - val_all_acc: 0.7260 - val_0_recalll: 0.8718 - val_1_recalll: 0.4103 - val_2_recalll: 0.4737 - val_3_recalll: 0.5610 - val_4_recalll: 0.8846 - val_0_precision: 0.7568 - val_1_precision: 0.5617 - val_2_precision: 0.5987 - val_3_precision: 0.5916 - val_4_precision: 0.8183\n",
      "Epoch 91/150\n",
      "100/100 [==============================] - 57s 567ms/step - loss: 0.6523 - all_acc: 0.7233 - 0_recalll: 0.8729 - 1_recalll: 0.4001 - 2_recalll: 0.4793 - 3_recalll: 0.5440 - 4_recalll: 0.8797 - 0_precision: 0.7848 - 1_precision: 0.5222 - 2_precision: 0.5662 - 3_precision: 0.5997 - 4_precision: 0.8169 - val_loss: 0.6631 - val_all_acc: 0.7190 - val_0_recalll: 0.9133 - val_1_recalll: 0.3710 - val_2_recalll: 0.3590 - val_3_recalll: 0.5748 - val_4_recalll: 0.8856 - val_0_precision: 0.7168 - val_1_precision: 0.5466 - val_2_precision: 0.6263 - val_3_precision: 0.5767 - val_4_precision: 0.8161\n",
      "Epoch 92/150\n",
      "100/100 [==============================] - 57s 571ms/step - loss: 0.6575 - all_acc: 0.7196 - 0_recalll: 0.8646 - 1_recalll: 0.4235 - 2_recalll: 0.4516 - 3_recalll: 0.5268 - 4_recalll: 0.8848 - 0_precision: 0.7827 - 1_precision: 0.5288 - 2_precision: 0.5490 - 3_precision: 0.5953 - 4_precision: 0.8119 - val_loss: 0.6640 - val_all_acc: 0.7182 - val_0_recalll: 0.8240 - val_1_recalll: 0.3116 - val_2_recalll: 0.5648 - val_3_recalll: 0.5955 - val_4_recalll: 0.8619 - val_0_precision: 0.7958 - val_1_precision: 0.5692 - val_2_precision: 0.5143 - val_3_precision: 0.5765 - val_4_precision: 0.8328\n",
      "Epoch 93/150\n",
      "100/100 [==============================] - 57s 567ms/step - loss: 0.6554 - all_acc: 0.7214 - 0_recalll: 0.8711 - 1_recalll: 0.3950 - 2_recalll: 0.4780 - 3_recalll: 0.5432 - 4_recalll: 0.8806 - 0_precision: 0.7795 - 1_precision: 0.5100 - 2_precision: 0.5652 - 3_precision: 0.5981 - 4_precision: 0.8163 - val_loss: 0.6624 - val_all_acc: 0.7191 - val_0_recalll: 0.8266 - val_1_recalll: 0.5329 - val_2_recalll: 0.4378 - val_3_recalll: 0.6539 - val_4_recalll: 0.8244 - val_0_precision: 0.7789 - val_1_precision: 0.5160 - val_2_precision: 0.6184 - val_3_precision: 0.5579 - val_4_precision: 0.8547\n",
      "Epoch 94/150\n",
      "100/100 [==============================] - 57s 571ms/step - loss: 0.6613 - all_acc: 0.7141 - 0_recalll: 0.8528 - 1_recalll: 0.4218 - 2_recalll: 0.4676 - 3_recalll: 0.5377 - 4_recalll: 0.8751 - 0_precision: 0.7731 - 1_precision: 0.5127 - 2_precision: 0.5604 - 3_precision: 0.5906 - 4_precision: 0.8111 - val_loss: 0.6611 - val_all_acc: 0.7205 - val_0_recalll: 0.8495 - val_1_recalll: 0.3240 - val_2_recalll: 0.5258 - val_3_recalll: 0.5372 - val_4_recalll: 0.8957 - val_0_precision: 0.7700 - val_1_precision: 0.5747 - val_2_precision: 0.5493 - val_3_precision: 0.5921 - val_4_precision: 0.8096\n",
      "Epoch 95/150\n",
      "100/100 [==============================] - 57s 569ms/step - loss: 0.6574 - all_acc: 0.7171 - 0_recalll: 0.8583 - 1_recalll: 0.4203 - 2_recalll: 0.4840 - 3_recalll: 0.5194 - 4_recalll: 0.8825 - 0_precision: 0.7769 - 1_precision: 0.5104 - 2_precision: 0.5706 - 3_precision: 0.5940 - 4_precision: 0.8069 - val_loss: 0.6554 - val_all_acc: 0.7244 - val_0_recalll: 0.8894 - val_1_recalll: 0.4129 - val_2_recalll: 0.4555 - val_3_recalll: 0.5117 - val_4_recalll: 0.9038 - val_0_precision: 0.7332 - val_1_precision: 0.5411 - val_2_precision: 0.6298 - val_3_precision: 0.6080 - val_4_precision: 0.8034\n",
      "Epoch 96/150\n",
      "100/100 [==============================] - 56s 564ms/step - loss: 0.6565 - all_acc: 0.7213 - 0_recalll: 0.8738 - 1_recalll: 0.4032 - 2_recalll: 0.5016 - 3_recalll: 0.5259 - 4_recalll: 0.8824 - 0_precision: 0.7735 - 1_precision: 0.5268 - 2_precision: 0.5847 - 3_precision: 0.5993 - 4_precision: 0.8100 - val_loss: 0.6562 - val_all_acc: 0.7210 - val_0_recalll: 0.8556 - val_1_recalll: 0.4615 - val_2_recalll: 0.4160 - val_3_recalll: 0.5093 - val_4_recalll: 0.9084 - val_0_precision: 0.7648 - val_1_precision: 0.5318 - val_2_precision: 0.6292 - val_3_precision: 0.5916 - val_4_precision: 0.7960\n",
      "Epoch 97/150\n",
      "100/100 [==============================] - 57s 569ms/step - loss: 0.6524 - all_acc: 0.7235 - 0_recalll: 0.8616 - 1_recalll: 0.4249 - 2_recalll: 0.4928 - 3_recalll: 0.5293 - 4_recalll: 0.8878 - 0_precision: 0.7842 - 1_precision: 0.5300 - 2_precision: 0.5817 - 3_precision: 0.6030 - 4_precision: 0.8127 - val_loss: 0.6599 - val_all_acc: 0.7171 - val_0_recalll: 0.8996 - val_1_recalll: 0.3696 - val_2_recalll: 0.5600 - val_3_recalll: 0.3947 - val_4_recalll: 0.9245 - val_0_precision: 0.7323 - val_1_precision: 0.5824 - val_2_precision: 0.5496 - val_3_precision: 0.6441 - val_4_precision: 0.7826\n",
      "Epoch 98/150\n",
      "100/100 [==============================] - 57s 569ms/step - loss: 0.6528 - all_acc: 0.7221 - 0_recalll: 0.8568 - 1_recalll: 0.4316 - 2_recalll: 0.4843 - 3_recalll: 0.5321 - 4_recalll: 0.8826 - 0_precision: 0.7751 - 1_precision: 0.5319 - 2_precision: 0.5774 - 3_precision: 0.5991 - 4_precision: 0.8135 - val_loss: 0.6520 - val_all_acc: 0.7247 - val_0_recalll: 0.8836 - val_1_recalll: 0.4547 - val_2_recalll: 0.4579 - val_3_recalll: 0.5317 - val_4_recalll: 0.8895 - val_0_precision: 0.7362 - val_1_precision: 0.5212 - val_2_precision: 0.6170 - val_3_precision: 0.6158 - val_4_precision: 0.8144\n",
      "Epoch 99/150\n",
      "100/100 [==============================] - 57s 572ms/step - loss: 0.6570 - all_acc: 0.7194 - 0_recalll: 0.8677 - 1_recalll: 0.3941 - 2_recalll: 0.4827 - 3_recalll: 0.5224 - 4_recalll: 0.8846 - 0_precision: 0.7782 - 1_precision: 0.5216 - 2_precision: 0.5713 - 3_precision: 0.5883 - 4_precision: 0.8099 - val_loss: 0.6550 - val_all_acc: 0.7230 - val_0_recalll: 0.8986 - val_1_recalll: 0.3339 - val_2_recalll: 0.4550 - val_3_recalll: 0.5646 - val_4_recalll: 0.8875 - val_0_precision: 0.7350 - val_1_precision: 0.5772 - val_2_precision: 0.6012 - val_3_precision: 0.5787 - val_4_precision: 0.8193\n",
      "Epoch 100/150\n",
      "100/100 [==============================] - 57s 573ms/step - loss: 0.6489 - all_acc: 0.7188 - 0_recalll: 0.8519 - 1_recalll: 0.4148 - 2_recalll: 0.4807 - 3_recalll: 0.5298 - 4_recalll: 0.8850 - 0_precision: 0.7706 - 1_precision: 0.5178 - 2_precision: 0.5672 - 3_precision: 0.5926 - 4_precision: 0.8157 - val_loss: 0.6536 - val_all_acc: 0.7239 - val_0_recalll: 0.8484 - val_1_recalll: 0.3587 - val_2_recalll: 0.5278 - val_3_recalll: 0.5312 - val_4_recalll: 0.8989 - val_0_precision: 0.7852 - val_1_precision: 0.5723 - val_2_precision: 0.5602 - val_3_precision: 0.5967 - val_4_precision: 0.8073\n",
      "Epoch 101/150\n",
      "100/100 [==============================] - 57s 569ms/step - loss: 0.6612 - all_acc: 0.7190 - 0_recalll: 0.8595 - 1_recalll: 0.4327 - 2_recalll: 0.4844 - 3_recalll: 0.5440 - 4_recalll: 0.8767 - 0_precision: 0.7749 - 1_precision: 0.5371 - 2_precision: 0.5693 - 3_precision: 0.5949 - 4_precision: 0.8140 - val_loss: 0.6514 - val_all_acc: 0.7229 - val_0_recalll: 0.8616 - val_1_recalll: 0.4291 - val_2_recalll: 0.4507 - val_3_recalll: 0.5936 - val_4_recalll: 0.8683 - val_0_precision: 0.7670 - val_1_precision: 0.5702 - val_2_precision: 0.6047 - val_3_precision: 0.5691 - val_4_precision: 0.8255\n",
      "Epoch 102/150\n",
      "100/100 [==============================] - 58s 576ms/step - loss: 0.6515 - all_acc: 0.7243 - 0_recalll: 0.8528 - 1_recalll: 0.4549 - 2_recalll: 0.5058 - 3_recalll: 0.5251 - 4_recalll: 0.8859 - 0_precision: 0.7719 - 1_precision: 0.5449 - 2_precision: 0.5831 - 3_precision: 0.6053 - 4_precision: 0.8162 - val_loss: 0.6552 - val_all_acc: 0.7233 - val_0_recalll: 0.8450 - val_1_recalll: 0.4055 - val_2_recalll: 0.5612 - val_3_recalll: 0.5677 - val_4_recalll: 0.8640 - val_0_precision: 0.7799 - val_1_precision: 0.5655 - val_2_precision: 0.5450 - val_3_precision: 0.5883 - val_4_precision: 0.8320\n",
      "Epoch 103/150\n",
      "100/100 [==============================] - 57s 567ms/step - loss: 0.6626 - all_acc: 0.7173 - 0_recalll: 0.8622 - 1_recalll: 0.4223 - 2_recalll: 0.4950 - 3_recalll: 0.5312 - 4_recalll: 0.8776 - 0_precision: 0.7763 - 1_precision: 0.5293 - 2_precision: 0.5831 - 3_precision: 0.5910 - 4_precision: 0.8088 - val_loss: 0.6573 - val_all_acc: 0.7191 - val_0_recalll: 0.8491 - val_1_recalll: 0.4785 - val_2_recalll: 0.5039 - val_3_recalll: 0.4018 - val_4_recalll: 0.9340 - val_0_precision: 0.7791 - val_1_precision: 0.5404 - val_2_precision: 0.5800 - val_3_precision: 0.6320 - val_4_precision: 0.7757\n",
      "Epoch 104/150\n",
      "100/100 [==============================] - 57s 575ms/step - loss: 0.6482 - all_acc: 0.7245 - 0_recalll: 0.8608 - 1_recalll: 0.4242 - 2_recalll: 0.4806 - 3_recalll: 0.5465 - 4_recalll: 0.8870 - 0_precision: 0.7854 - 1_precision: 0.5216 - 2_precision: 0.5663 - 3_precision: 0.6068 - 4_precision: 0.8175 - val_loss: 0.6526 - val_all_acc: 0.7233 - val_0_recalll: 0.8785 - val_1_recalll: 0.4248 - val_2_recalll: 0.5181 - val_3_recalll: 0.5410 - val_4_recalll: 0.8733 - val_0_precision: 0.7502 - val_1_precision: 0.5587 - val_2_precision: 0.5732 - val_3_precision: 0.5969 - val_4_precision: 0.8231\n",
      "Epoch 105/150\n",
      "100/100 [==============================] - 57s 571ms/step - loss: 0.6665 - all_acc: 0.7126 - 0_recalll: 0.8554 - 1_recalll: 0.4437 - 2_recalll: 0.4721 - 3_recalll: 0.5290 - 4_recalll: 0.8722 - 0_precision: 0.7733 - 1_precision: 0.5198 - 2_precision: 0.5792 - 3_precision: 0.5872 - 4_precision: 0.8061 - val_loss: 0.6516 - val_all_acc: 0.7252 - val_0_recalll: 0.8727 - val_1_recalll: 0.4448 - val_2_recalll: 0.4431 - val_3_recalll: 0.5587 - val_4_recalll: 0.8851 - val_0_precision: 0.7647 - val_1_precision: 0.5473 - val_2_precision: 0.6131 - val_3_precision: 0.5863 - val_4_precision: 0.8166\n",
      "Epoch 106/150\n",
      "100/100 [==============================] - 57s 573ms/step - loss: 0.6637 - all_acc: 0.7123 - 0_recalll: 0.8602 - 1_recalll: 0.4214 - 2_recalll: 0.4889 - 3_recalll: 0.5322 - 4_recalll: 0.8707 - 0_precision: 0.7822 - 1_precision: 0.5222 - 2_precision: 0.5724 - 3_precision: 0.5903 - 4_precision: 0.8015 - val_loss: 0.6519 - val_all_acc: 0.7241 - val_0_recalll: 0.8590 - val_1_recalll: 0.3614 - val_2_recalll: 0.5380 - val_3_recalll: 0.5340 - val_4_recalll: 0.8909 - val_0_precision: 0.7758 - val_1_precision: 0.5752 - val_2_precision: 0.5565 - val_3_precision: 0.5998 - val_4_precision: 0.8117\n",
      "Epoch 107/150\n",
      "100/100 [==============================] - 57s 574ms/step - loss: 0.6663 - all_acc: 0.7166 - 0_recalll: 0.8596 - 1_recalll: 0.4083 - 2_recalll: 0.5184 - 3_recalll: 0.5191 - 4_recalll: 0.8784 - 0_precision: 0.7800 - 1_precision: 0.5124 - 2_precision: 0.5838 - 3_precision: 0.5956 - 4_precision: 0.8040 - val_loss: 0.6552 - val_all_acc: 0.7205 - val_0_recalll: 0.8886 - val_1_recalll: 0.3155 - val_2_recalll: 0.6115 - val_3_recalll: 0.5662 - val_4_recalll: 0.8492 - val_0_precision: 0.7485 - val_1_precision: 0.6160 - val_2_precision: 0.5322 - val_3_precision: 0.5815 - val_4_precision: 0.8417\n",
      "Epoch 108/150\n",
      "100/100 [==============================] - 55s 555ms/step - loss: 0.6617 - all_acc: 0.7137 - 0_recalll: 0.8569 - 1_recalll: 0.4065 - 2_recalll: 0.4891 - 3_recalll: 0.5246 - 4_recalll: 0.8760 - 0_precision: 0.7735 - 1_precision: 0.5177 - 2_precision: 0.5628 - 3_precision: 0.5944 - 4_precision: 0.8097 - val_loss: 0.6497 - val_all_acc: 0.7241 - val_0_recalll: 0.8460 - val_1_recalll: 0.4691 - val_2_recalll: 0.4483 - val_3_recalll: 0.5845 - val_4_recalll: 0.8727 - val_0_precision: 0.7809 - val_1_precision: 0.5238 - val_2_precision: 0.6189 - val_3_precision: 0.5783 - val_4_precision: 0.8266\n",
      "Epoch 109/150\n",
      "100/100 [==============================] - 52s 521ms/step - loss: 0.6520 - all_acc: 0.7246 - 0_recalll: 0.8718 - 1_recalll: 0.4428 - 2_recalll: 0.4772 - 3_recalll: 0.5317 - 4_recalll: 0.8862 - 0_precision: 0.7867 - 1_precision: 0.5516 - 2_precision: 0.5706 - 3_precision: 0.6013 - 4_precision: 0.8119 - val_loss: 0.6488 - val_all_acc: 0.7237 - val_0_recalll: 0.8504 - val_1_recalll: 0.4554 - val_2_recalll: 0.4550 - val_3_recalll: 0.5714 - val_4_recalll: 0.8771 - val_0_precision: 0.7742 - val_1_precision: 0.5430 - val_2_precision: 0.6115 - val_3_precision: 0.5813 - val_4_precision: 0.8178\n",
      "Epoch 110/150\n",
      "100/100 [==============================] - 53s 527ms/step - loss: 0.6331 - all_acc: 0.7344 - 0_recalll: 0.8835 - 1_recalll: 0.3994 - 2_recalll: 0.4889 - 3_recalll: 0.5474 - 4_recalll: 0.8873 - 0_precision: 0.7932 - 1_precision: 0.5054 - 2_precision: 0.5914 - 3_precision: 0.6091 - 4_precision: 0.8218 - val_loss: 0.6523 - val_all_acc: 0.7251 - val_0_recalll: 0.8376 - val_1_recalll: 0.4941 - val_2_recalll: 0.4642 - val_3_recalll: 0.6049 - val_4_recalll: 0.8592 - val_0_precision: 0.7848 - val_1_precision: 0.5375 - val_2_precision: 0.5999 - val_3_precision: 0.5762 - val_4_precision: 0.8369\n",
      "Epoch 111/150\n",
      "100/100 [==============================] - 53s 529ms/step - loss: 0.6291 - all_acc: 0.7325 - 0_recalll: 0.8833 - 1_recalll: 0.3801 - 2_recalll: 0.4868 - 3_recalll: 0.5241 - 4_recalll: 0.8886 - 0_precision: 0.7945 - 1_precision: 0.5017 - 2_precision: 0.5748 - 3_precision: 0.5953 - 4_precision: 0.8205 - val_loss: 0.6510 - val_all_acc: 0.7250 - val_0_recalll: 0.8830 - val_1_recalll: 0.4074 - val_2_recalll: 0.4944 - val_3_recalll: 0.5423 - val_4_recalll: 0.8840 - val_0_precision: 0.7423 - val_1_precision: 0.5531 - val_2_precision: 0.5933 - val_3_precision: 0.6009 - val_4_precision: 0.8202\n",
      "Epoch 112/150\n",
      "100/100 [==============================] - 53s 533ms/step - loss: 0.6442 - all_acc: 0.7222 - 0_recalll: 0.8640 - 1_recalll: 0.4244 - 2_recalll: 0.4718 - 3_recalll: 0.5232 - 4_recalll: 0.8818 - 0_precision: 0.7827 - 1_precision: 0.5324 - 2_precision: 0.5464 - 3_precision: 0.5872 - 4_precision: 0.8198 - val_loss: 0.6530 - val_all_acc: 0.7194 - val_0_recalll: 0.8468 - val_1_recalll: 0.4189 - val_2_recalll: 0.5696 - val_3_recalll: 0.3998 - val_4_recalll: 0.9313 - val_0_precision: 0.7756 - val_1_precision: 0.5655 - val_2_precision: 0.5582 - val_3_precision: 0.6407 - val_4_precision: 0.7766\n",
      "Epoch 113/150\n",
      "100/100 [==============================] - 53s 533ms/step - loss: 0.6453 - all_acc: 0.7238 - 0_recalll: 0.8638 - 1_recalll: 0.4119 - 2_recalll: 0.5076 - 3_recalll: 0.5105 - 4_recalll: 0.8898 - 0_precision: 0.7853 - 1_precision: 0.5275 - 2_precision: 0.5774 - 3_precision: 0.5921 - 4_precision: 0.8098 - val_loss: 0.6552 - val_all_acc: 0.7212 - val_0_recalll: 0.8096 - val_1_recalll: 0.4550 - val_2_recalll: 0.5246 - val_3_recalll: 0.6099 - val_4_recalll: 0.8485 - val_0_precision: 0.8049 - val_1_precision: 0.5360 - val_2_precision: 0.5658 - val_3_precision: 0.5689 - val_4_precision: 0.8405\n",
      "Epoch 114/150\n",
      "100/100 [==============================] - 53s 534ms/step - loss: 0.6566 - all_acc: 0.7188 - 0_recalll: 0.8578 - 1_recalll: 0.4550 - 2_recalll: 0.4654 - 3_recalll: 0.5290 - 4_recalll: 0.8830 - 0_precision: 0.7803 - 1_precision: 0.5288 - 2_precision: 0.5559 - 3_precision: 0.5985 - 4_precision: 0.8140 - val_loss: 0.6611 - val_all_acc: 0.7186 - val_0_recalll: 0.8493 - val_1_recalll: 0.4981 - val_2_recalll: 0.5721 - val_3_recalll: 0.5299 - val_4_recalll: 0.8494 - val_0_precision: 0.7711 - val_1_precision: 0.5230 - val_2_precision: 0.5221 - val_3_precision: 0.5942 - val_4_precision: 0.8450\n",
      "Epoch 115/150\n",
      "100/100 [==============================] - 53s 532ms/step - loss: 0.6555 - all_acc: 0.7236 - 0_recalll: 0.8676 - 1_recalll: 0.4243 - 2_recalll: 0.4928 - 3_recalll: 0.5313 - 4_recalll: 0.8829 - 0_precision: 0.7794 - 1_precision: 0.5214 - 2_precision: 0.5863 - 3_precision: 0.6037 - 4_precision: 0.8118 - val_loss: 0.6419 - val_all_acc: 0.7275 - val_0_recalll: 0.8819 - val_1_recalll: 0.4356 - val_2_recalll: 0.4753 - val_3_recalll: 0.5227 - val_4_recalll: 0.8987 - val_0_precision: 0.7571 - val_1_precision: 0.5652 - val_2_precision: 0.5938 - val_3_precision: 0.6082 - val_4_precision: 0.8112\n",
      "Epoch 116/150\n",
      " 25/100 [======>.......................] - ETA: 31s - loss: 0.6255 - all_acc: 0.7275 - 0_recalll: 0.8988 - 1_recalll: 0.4139 - 2_recalll: 0.4767 - 3_recalll: 0.5110 - 4_recalll: 0.8890 - 0_precision: 0.7957 - 1_precision: 0.5507 - 2_precision: 0.5546 - 3_precision: 0.5983 - 4_precision: 0.8136"
     ]
    }
   ],
   "source": [
    "_=baby.fit(dataset['train'], steps_per_epoch=100, epochs=150, \n",
    "                             validation_data= dataset['val'], validation_steps=50,\n",
    "                             callbacks=[tb], class_weight=class_weights['five'], verbose=1, shuffle=False)"
   ]
  },
  {
   "cell_type": "code",
   "execution_count": null,
   "metadata": {},
   "outputs": [],
   "source": [
    "baby.save(os.path.join(MODELS_DIR, 'baby_lstm_conv_length.h5'))"
   ]
  },
  {
   "cell_type": "code",
   "execution_count": null,
   "metadata": {},
   "outputs": [],
   "source": [
    "results = baby.evaluate(dataset['test'], steps=5000)"
   ]
  },
  {
   "cell_type": "code",
   "execution_count": null,
   "metadata": {},
   "outputs": [],
   "source": [
    "def get_f1_scores(results):\n",
    "    m = {}\n",
    "    m[1] = (results[2], results[7])\n",
    "    m[2] = (results[3], results[8])\n",
    "    m[3] = (results[4], results[9])\n",
    "    m[4] = (results[5], results[10])\n",
    "    m[5] = (results[6], results[11])\n",
    "    f = {}\n",
    "    total = 0\n",
    "    for i in m:\n",
    "        f[i] = 2 * np.product(m[i]) / np.sum(m[i])\n",
    "        total+=f[i]\n",
    "    f['macro'] = total/5\n",
    "    return f, m"
   ]
  },
  {
   "cell_type": "raw",
   "metadata": {},
   "source": [
    "m = {}\n",
    "m[1] = (0.83421457,  0.8248274)\n",
    "m[2] = (0.4835567, 0.52841955)\n",
    "m[3] = (0.53576946, 0.5889259)\n",
    "m[4] = (0.496211, 0.63264257)\n",
    "m[5] = (0.9135826, 0.8000824)"
   ]
  },
  {
   "cell_type": "raw",
   "metadata": {},
   "source": [
    "total = 0\n",
    "for i in m.values():\n",
    "    total += 2 * np.product(i)/np.sum(i)"
   ]
  },
  {
   "cell_type": "raw",
   "metadata": {},
   "source": [
    "0.6609671536622624"
   ]
  },
  {
   "cell_type": "code",
   "execution_count": 22,
   "metadata": {},
   "outputs": [
    {
     "ename": "InvalidArgumentError",
     "evalue": "ConcatOp : Ranks of all input tensors should match: shape[0] = [512,50] vs. shape[6] = [512] [Op:ConcatV2] name: concat",
     "output_type": "error",
     "traceback": [
      "\u001b[0;31m---------------------------------------------------------------------------\u001b[0m",
      "\u001b[0;31mInvalidArgumentError\u001b[0m                      Traceback (most recent call last)",
      "\u001b[0;32m<ipython-input-22-439d6f9cf115>\u001b[0m in \u001b[0;36m<module>\u001b[0;34m\u001b[0m\n\u001b[1;32m      1\u001b[0m \u001b[0mtruth\u001b[0m\u001b[0;34m,\u001b[0m \u001b[0mpredictions\u001b[0m \u001b[0;34m=\u001b[0m \u001b[0;34m[\u001b[0m\u001b[0;34m]\u001b[0m\u001b[0;34m,\u001b[0m \u001b[0;34m[\u001b[0m\u001b[0;34m]\u001b[0m\u001b[0;34m\u001b[0m\u001b[0;34m\u001b[0m\u001b[0m\n\u001b[1;32m      2\u001b[0m \u001b[0;32mfor\u001b[0m \u001b[0mx\u001b[0m\u001b[0;34m,\u001b[0m \u001b[0my\u001b[0m \u001b[0;32min\u001b[0m \u001b[0mdataset\u001b[0m\u001b[0;34m[\u001b[0m\u001b[0;34m'val'\u001b[0m\u001b[0;34m]\u001b[0m\u001b[0;34m:\u001b[0m\u001b[0;34m\u001b[0m\u001b[0;34m\u001b[0m\u001b[0m\n\u001b[0;32m----> 3\u001b[0;31m     \u001b[0mpred\u001b[0m \u001b[0;34m=\u001b[0m \u001b[0mbaby\u001b[0m\u001b[0;34m(\u001b[0m\u001b[0mx\u001b[0m\u001b[0;34m)\u001b[0m\u001b[0;34m\u001b[0m\u001b[0;34m\u001b[0m\u001b[0m\n\u001b[0m\u001b[1;32m      4\u001b[0m     \u001b[0mtruth\u001b[0m\u001b[0;34m.\u001b[0m\u001b[0mappend\u001b[0m\u001b[0;34m(\u001b[0m\u001b[0my\u001b[0m\u001b[0;34m[\u001b[0m\u001b[0;34m'stars'\u001b[0m\u001b[0;34m]\u001b[0m\u001b[0;34m.\u001b[0m\u001b[0mnumpy\u001b[0m\u001b[0;34m(\u001b[0m\u001b[0;34m)\u001b[0m\u001b[0;34m)\u001b[0m\u001b[0;34m\u001b[0m\u001b[0;34m\u001b[0m\u001b[0m\n\u001b[1;32m      5\u001b[0m     \u001b[0mpredictions\u001b[0m\u001b[0;34m.\u001b[0m\u001b[0mappend\u001b[0m\u001b[0;34m(\u001b[0m\u001b[0mtf\u001b[0m\u001b[0;34m.\u001b[0m\u001b[0margmax\u001b[0m\u001b[0;34m(\u001b[0m\u001b[0mpred\u001b[0m\u001b[0;34m[\u001b[0m\u001b[0;34m'stars'\u001b[0m\u001b[0;34m]\u001b[0m\u001b[0;34m,\u001b[0m \u001b[0maxis\u001b[0m\u001b[0;34m=\u001b[0m\u001b[0;34m-\u001b[0m\u001b[0;36m1\u001b[0m\u001b[0;34m)\u001b[0m\u001b[0;34m.\u001b[0m\u001b[0mnumpy\u001b[0m\u001b[0;34m(\u001b[0m\u001b[0;34m)\u001b[0m\u001b[0;34m)\u001b[0m\u001b[0;34m\u001b[0m\u001b[0;34m\u001b[0m\u001b[0m\n",
      "\u001b[0;32m~/anaconda3/envs/yelp-nlu_3.6/lib/python3.6/site-packages/tensorflow/python/keras/engine/base_layer.py\u001b[0m in \u001b[0;36m__call__\u001b[0;34m(self, inputs, *args, **kwargs)\u001b[0m\n\u001b[1;32m    658\u001b[0m           with base_layer_utils.autocast_context_manager(\n\u001b[1;32m    659\u001b[0m               input_list, self._mixed_precision_policy.should_cast_variables):\n\u001b[0;32m--> 660\u001b[0;31m             \u001b[0moutputs\u001b[0m \u001b[0;34m=\u001b[0m \u001b[0mself\u001b[0m\u001b[0;34m.\u001b[0m\u001b[0mcall\u001b[0m\u001b[0;34m(\u001b[0m\u001b[0minputs\u001b[0m\u001b[0;34m,\u001b[0m \u001b[0;34m*\u001b[0m\u001b[0margs\u001b[0m\u001b[0;34m,\u001b[0m \u001b[0;34m**\u001b[0m\u001b[0mkwargs\u001b[0m\u001b[0;34m)\u001b[0m\u001b[0;34m\u001b[0m\u001b[0;34m\u001b[0m\u001b[0m\n\u001b[0m\u001b[1;32m    661\u001b[0m           \u001b[0mself\u001b[0m\u001b[0;34m.\u001b[0m\u001b[0m_handle_activity_regularization\u001b[0m\u001b[0;34m(\u001b[0m\u001b[0minputs\u001b[0m\u001b[0;34m,\u001b[0m \u001b[0moutputs\u001b[0m\u001b[0;34m)\u001b[0m\u001b[0;34m\u001b[0m\u001b[0;34m\u001b[0m\u001b[0m\n\u001b[1;32m    662\u001b[0m           \u001b[0mself\u001b[0m\u001b[0;34m.\u001b[0m\u001b[0m_set_mask_metadata\u001b[0m\u001b[0;34m(\u001b[0m\u001b[0minputs\u001b[0m\u001b[0;34m,\u001b[0m \u001b[0moutputs\u001b[0m\u001b[0;34m,\u001b[0m \u001b[0mprevious_mask\u001b[0m\u001b[0;34m)\u001b[0m\u001b[0;34m\u001b[0m\u001b[0;34m\u001b[0m\u001b[0m\n",
      "\u001b[0;32m~/anaconda3/envs/yelp-nlu_3.6/lib/python3.6/site-packages/tensorflow/python/keras/engine/network.py\u001b[0m in \u001b[0;36mcall\u001b[0;34m(self, inputs, training, mask)\u001b[0m\n\u001b[1;32m    868\u001b[0m                                 ' implement a `call` method.')\n\u001b[1;32m    869\u001b[0m \u001b[0;34m\u001b[0m\u001b[0m\n\u001b[0;32m--> 870\u001b[0;31m     \u001b[0;32mreturn\u001b[0m \u001b[0mself\u001b[0m\u001b[0;34m.\u001b[0m\u001b[0m_run_internal_graph\u001b[0m\u001b[0;34m(\u001b[0m\u001b[0minputs\u001b[0m\u001b[0;34m,\u001b[0m \u001b[0mtraining\u001b[0m\u001b[0;34m=\u001b[0m\u001b[0mtraining\u001b[0m\u001b[0;34m,\u001b[0m \u001b[0mmask\u001b[0m\u001b[0;34m=\u001b[0m\u001b[0mmask\u001b[0m\u001b[0;34m)\u001b[0m\u001b[0;34m\u001b[0m\u001b[0;34m\u001b[0m\u001b[0m\n\u001b[0m\u001b[1;32m    871\u001b[0m \u001b[0;34m\u001b[0m\u001b[0m\n\u001b[1;32m    872\u001b[0m   \u001b[0;32mdef\u001b[0m \u001b[0mcompute_output_shape\u001b[0m\u001b[0;34m(\u001b[0m\u001b[0mself\u001b[0m\u001b[0;34m,\u001b[0m \u001b[0minput_shape\u001b[0m\u001b[0;34m)\u001b[0m\u001b[0;34m:\u001b[0m\u001b[0;34m\u001b[0m\u001b[0;34m\u001b[0m\u001b[0m\n",
      "\u001b[0;32m~/anaconda3/envs/yelp-nlu_3.6/lib/python3.6/site-packages/tensorflow/python/keras/engine/network.py\u001b[0m in \u001b[0;36m_run_internal_graph\u001b[0;34m(self, inputs, training, mask)\u001b[0m\n\u001b[1;32m   1009\u001b[0m \u001b[0;34m\u001b[0m\u001b[0m\n\u001b[1;32m   1010\u001b[0m           \u001b[0;31m# Compute outputs.\u001b[0m\u001b[0;34m\u001b[0m\u001b[0;34m\u001b[0m\u001b[0;34m\u001b[0m\u001b[0m\n\u001b[0;32m-> 1011\u001b[0;31m           \u001b[0moutput_tensors\u001b[0m \u001b[0;34m=\u001b[0m \u001b[0mlayer\u001b[0m\u001b[0;34m(\u001b[0m\u001b[0mcomputed_tensors\u001b[0m\u001b[0;34m,\u001b[0m \u001b[0;34m**\u001b[0m\u001b[0mkwargs\u001b[0m\u001b[0;34m)\u001b[0m\u001b[0;34m\u001b[0m\u001b[0;34m\u001b[0m\u001b[0m\n\u001b[0m\u001b[1;32m   1012\u001b[0m \u001b[0;34m\u001b[0m\u001b[0m\n\u001b[1;32m   1013\u001b[0m           \u001b[0;31m# Update tensor_dict.\u001b[0m\u001b[0;34m\u001b[0m\u001b[0;34m\u001b[0m\u001b[0;34m\u001b[0m\u001b[0m\n",
      "\u001b[0;32m~/anaconda3/envs/yelp-nlu_3.6/lib/python3.6/site-packages/tensorflow/python/keras/engine/base_layer.py\u001b[0m in \u001b[0;36m__call__\u001b[0;34m(self, inputs, *args, **kwargs)\u001b[0m\n\u001b[1;32m    658\u001b[0m           with base_layer_utils.autocast_context_manager(\n\u001b[1;32m    659\u001b[0m               input_list, self._mixed_precision_policy.should_cast_variables):\n\u001b[0;32m--> 660\u001b[0;31m             \u001b[0moutputs\u001b[0m \u001b[0;34m=\u001b[0m \u001b[0mself\u001b[0m\u001b[0;34m.\u001b[0m\u001b[0mcall\u001b[0m\u001b[0;34m(\u001b[0m\u001b[0minputs\u001b[0m\u001b[0;34m,\u001b[0m \u001b[0;34m*\u001b[0m\u001b[0margs\u001b[0m\u001b[0;34m,\u001b[0m \u001b[0;34m**\u001b[0m\u001b[0mkwargs\u001b[0m\u001b[0;34m)\u001b[0m\u001b[0;34m\u001b[0m\u001b[0;34m\u001b[0m\u001b[0m\n\u001b[0m\u001b[1;32m    661\u001b[0m           \u001b[0mself\u001b[0m\u001b[0;34m.\u001b[0m\u001b[0m_handle_activity_regularization\u001b[0m\u001b[0;34m(\u001b[0m\u001b[0minputs\u001b[0m\u001b[0;34m,\u001b[0m \u001b[0moutputs\u001b[0m\u001b[0;34m)\u001b[0m\u001b[0;34m\u001b[0m\u001b[0;34m\u001b[0m\u001b[0m\n\u001b[1;32m    662\u001b[0m           \u001b[0mself\u001b[0m\u001b[0;34m.\u001b[0m\u001b[0m_set_mask_metadata\u001b[0m\u001b[0;34m(\u001b[0m\u001b[0minputs\u001b[0m\u001b[0;34m,\u001b[0m \u001b[0moutputs\u001b[0m\u001b[0;34m,\u001b[0m \u001b[0mprevious_mask\u001b[0m\u001b[0;34m)\u001b[0m\u001b[0;34m\u001b[0m\u001b[0;34m\u001b[0m\u001b[0m\n",
      "\u001b[0;32m~/anaconda3/envs/yelp-nlu_3.6/lib/python3.6/site-packages/tensorflow/python/keras/layers/merge.py\u001b[0m in \u001b[0;36mcall\u001b[0;34m(self, inputs)\u001b[0m\n\u001b[1;32m    180\u001b[0m         \u001b[0;32mreturn\u001b[0m \u001b[0my\u001b[0m\u001b[0;34m\u001b[0m\u001b[0;34m\u001b[0m\u001b[0m\n\u001b[1;32m    181\u001b[0m     \u001b[0;32melse\u001b[0m\u001b[0;34m:\u001b[0m\u001b[0;34m\u001b[0m\u001b[0;34m\u001b[0m\u001b[0m\n\u001b[0;32m--> 182\u001b[0;31m       \u001b[0;32mreturn\u001b[0m \u001b[0mself\u001b[0m\u001b[0;34m.\u001b[0m\u001b[0m_merge_function\u001b[0m\u001b[0;34m(\u001b[0m\u001b[0minputs\u001b[0m\u001b[0;34m)\u001b[0m\u001b[0;34m\u001b[0m\u001b[0;34m\u001b[0m\u001b[0m\n\u001b[0m\u001b[1;32m    183\u001b[0m \u001b[0;34m\u001b[0m\u001b[0m\n\u001b[1;32m    184\u001b[0m   \u001b[0;34m@\u001b[0m\u001b[0mtf_utils\u001b[0m\u001b[0;34m.\u001b[0m\u001b[0mshape_type_conversion\u001b[0m\u001b[0;34m\u001b[0m\u001b[0;34m\u001b[0m\u001b[0m\n",
      "\u001b[0;32m~/anaconda3/envs/yelp-nlu_3.6/lib/python3.6/site-packages/tensorflow/python/keras/layers/merge.py\u001b[0m in \u001b[0;36m_merge_function\u001b[0;34m(self, inputs)\u001b[0m\n\u001b[1;32m    393\u001b[0m \u001b[0;34m\u001b[0m\u001b[0m\n\u001b[1;32m    394\u001b[0m   \u001b[0;32mdef\u001b[0m \u001b[0m_merge_function\u001b[0m\u001b[0;34m(\u001b[0m\u001b[0mself\u001b[0m\u001b[0;34m,\u001b[0m \u001b[0minputs\u001b[0m\u001b[0;34m)\u001b[0m\u001b[0;34m:\u001b[0m\u001b[0;34m\u001b[0m\u001b[0;34m\u001b[0m\u001b[0m\n\u001b[0;32m--> 395\u001b[0;31m     \u001b[0;32mreturn\u001b[0m \u001b[0mK\u001b[0m\u001b[0;34m.\u001b[0m\u001b[0mconcatenate\u001b[0m\u001b[0;34m(\u001b[0m\u001b[0minputs\u001b[0m\u001b[0;34m,\u001b[0m \u001b[0maxis\u001b[0m\u001b[0;34m=\u001b[0m\u001b[0mself\u001b[0m\u001b[0;34m.\u001b[0m\u001b[0maxis\u001b[0m\u001b[0;34m)\u001b[0m\u001b[0;34m\u001b[0m\u001b[0;34m\u001b[0m\u001b[0m\n\u001b[0m\u001b[1;32m    396\u001b[0m \u001b[0;34m\u001b[0m\u001b[0m\n\u001b[1;32m    397\u001b[0m   \u001b[0;34m@\u001b[0m\u001b[0mtf_utils\u001b[0m\u001b[0;34m.\u001b[0m\u001b[0mshape_type_conversion\u001b[0m\u001b[0;34m\u001b[0m\u001b[0;34m\u001b[0m\u001b[0m\n",
      "\u001b[0;32m~/anaconda3/envs/yelp-nlu_3.6/lib/python3.6/site-packages/tensorflow/python/keras/backend.py\u001b[0m in \u001b[0;36mconcatenate\u001b[0;34m(tensors, axis)\u001b[0m\n\u001b[1;32m   2347\u001b[0m     \u001b[0;32mreturn\u001b[0m \u001b[0msparse_ops\u001b[0m\u001b[0;34m.\u001b[0m\u001b[0msparse_concat\u001b[0m\u001b[0;34m(\u001b[0m\u001b[0maxis\u001b[0m\u001b[0;34m,\u001b[0m \u001b[0mtensors\u001b[0m\u001b[0;34m)\u001b[0m\u001b[0;34m\u001b[0m\u001b[0;34m\u001b[0m\u001b[0m\n\u001b[1;32m   2348\u001b[0m   \u001b[0;32melse\u001b[0m\u001b[0;34m:\u001b[0m\u001b[0;34m\u001b[0m\u001b[0;34m\u001b[0m\u001b[0m\n\u001b[0;32m-> 2349\u001b[0;31m     \u001b[0;32mreturn\u001b[0m \u001b[0marray_ops\u001b[0m\u001b[0;34m.\u001b[0m\u001b[0mconcat\u001b[0m\u001b[0;34m(\u001b[0m\u001b[0;34m[\u001b[0m\u001b[0mto_dense\u001b[0m\u001b[0;34m(\u001b[0m\u001b[0mx\u001b[0m\u001b[0;34m)\u001b[0m \u001b[0;32mfor\u001b[0m \u001b[0mx\u001b[0m \u001b[0;32min\u001b[0m \u001b[0mtensors\u001b[0m\u001b[0;34m]\u001b[0m\u001b[0;34m,\u001b[0m \u001b[0maxis\u001b[0m\u001b[0;34m)\u001b[0m\u001b[0;34m\u001b[0m\u001b[0;34m\u001b[0m\u001b[0m\n\u001b[0m\u001b[1;32m   2350\u001b[0m \u001b[0;34m\u001b[0m\u001b[0m\n\u001b[1;32m   2351\u001b[0m \u001b[0;34m\u001b[0m\u001b[0m\n",
      "\u001b[0;32m~/anaconda3/envs/yelp-nlu_3.6/lib/python3.6/site-packages/tensorflow/python/util/dispatch.py\u001b[0m in \u001b[0;36mwrapper\u001b[0;34m(*args, **kwargs)\u001b[0m\n\u001b[1;32m    178\u001b[0m     \u001b[0;34m\"\"\"Call target, and fall back on dispatchers if there is a TypeError.\"\"\"\u001b[0m\u001b[0;34m\u001b[0m\u001b[0;34m\u001b[0m\u001b[0m\n\u001b[1;32m    179\u001b[0m     \u001b[0;32mtry\u001b[0m\u001b[0;34m:\u001b[0m\u001b[0;34m\u001b[0m\u001b[0;34m\u001b[0m\u001b[0m\n\u001b[0;32m--> 180\u001b[0;31m       \u001b[0;32mreturn\u001b[0m \u001b[0mtarget\u001b[0m\u001b[0;34m(\u001b[0m\u001b[0;34m*\u001b[0m\u001b[0margs\u001b[0m\u001b[0;34m,\u001b[0m \u001b[0;34m**\u001b[0m\u001b[0mkwargs\u001b[0m\u001b[0;34m)\u001b[0m\u001b[0;34m\u001b[0m\u001b[0;34m\u001b[0m\u001b[0m\n\u001b[0m\u001b[1;32m    181\u001b[0m     \u001b[0;32mexcept\u001b[0m \u001b[0;34m(\u001b[0m\u001b[0mTypeError\u001b[0m\u001b[0;34m,\u001b[0m \u001b[0mValueError\u001b[0m\u001b[0;34m)\u001b[0m\u001b[0;34m:\u001b[0m\u001b[0;34m\u001b[0m\u001b[0;34m\u001b[0m\u001b[0m\n\u001b[1;32m    182\u001b[0m       \u001b[0;31m# Note: convert_to_eager_tensor currently raises a ValueError, not a\u001b[0m\u001b[0;34m\u001b[0m\u001b[0;34m\u001b[0m\u001b[0;34m\u001b[0m\u001b[0m\n",
      "\u001b[0;32m~/anaconda3/envs/yelp-nlu_3.6/lib/python3.6/site-packages/tensorflow/python/ops/array_ops.py\u001b[0m in \u001b[0;36mconcat\u001b[0;34m(values, axis, name)\u001b[0m\n\u001b[1;32m   1269\u001b[0m               tensor_shape.scalar())\n\u001b[1;32m   1270\u001b[0m       \u001b[0;32mreturn\u001b[0m \u001b[0midentity\u001b[0m\u001b[0;34m(\u001b[0m\u001b[0mvalues\u001b[0m\u001b[0;34m[\u001b[0m\u001b[0;36m0\u001b[0m\u001b[0;34m]\u001b[0m\u001b[0;34m,\u001b[0m \u001b[0mname\u001b[0m\u001b[0;34m=\u001b[0m\u001b[0mscope\u001b[0m\u001b[0;34m)\u001b[0m\u001b[0;34m\u001b[0m\u001b[0;34m\u001b[0m\u001b[0m\n\u001b[0;32m-> 1271\u001b[0;31m   \u001b[0;32mreturn\u001b[0m \u001b[0mgen_array_ops\u001b[0m\u001b[0;34m.\u001b[0m\u001b[0mconcat_v2\u001b[0m\u001b[0;34m(\u001b[0m\u001b[0mvalues\u001b[0m\u001b[0;34m=\u001b[0m\u001b[0mvalues\u001b[0m\u001b[0;34m,\u001b[0m \u001b[0maxis\u001b[0m\u001b[0;34m=\u001b[0m\u001b[0maxis\u001b[0m\u001b[0;34m,\u001b[0m \u001b[0mname\u001b[0m\u001b[0;34m=\u001b[0m\u001b[0mname\u001b[0m\u001b[0;34m)\u001b[0m\u001b[0;34m\u001b[0m\u001b[0;34m\u001b[0m\u001b[0m\n\u001b[0m\u001b[1;32m   1272\u001b[0m \u001b[0;34m\u001b[0m\u001b[0m\n\u001b[1;32m   1273\u001b[0m \u001b[0;34m\u001b[0m\u001b[0m\n",
      "\u001b[0;32m~/anaconda3/envs/yelp-nlu_3.6/lib/python3.6/site-packages/tensorflow/python/ops/gen_array_ops.py\u001b[0m in \u001b[0;36mconcat_v2\u001b[0;34m(values, axis, name)\u001b[0m\n\u001b[1;32m   1207\u001b[0m       \u001b[0;32melse\u001b[0m\u001b[0;34m:\u001b[0m\u001b[0;34m\u001b[0m\u001b[0;34m\u001b[0m\u001b[0m\n\u001b[1;32m   1208\u001b[0m         \u001b[0mmessage\u001b[0m \u001b[0;34m=\u001b[0m \u001b[0me\u001b[0m\u001b[0;34m.\u001b[0m\u001b[0mmessage\u001b[0m\u001b[0;34m\u001b[0m\u001b[0;34m\u001b[0m\u001b[0m\n\u001b[0;32m-> 1209\u001b[0;31m       \u001b[0m_six\u001b[0m\u001b[0;34m.\u001b[0m\u001b[0mraise_from\u001b[0m\u001b[0;34m(\u001b[0m\u001b[0m_core\u001b[0m\u001b[0;34m.\u001b[0m\u001b[0m_status_to_exception\u001b[0m\u001b[0;34m(\u001b[0m\u001b[0me\u001b[0m\u001b[0;34m.\u001b[0m\u001b[0mcode\u001b[0m\u001b[0;34m,\u001b[0m \u001b[0mmessage\u001b[0m\u001b[0;34m)\u001b[0m\u001b[0;34m,\u001b[0m \u001b[0;32mNone\u001b[0m\u001b[0;34m)\u001b[0m\u001b[0;34m\u001b[0m\u001b[0;34m\u001b[0m\u001b[0m\n\u001b[0m\u001b[1;32m   1210\u001b[0m   \u001b[0;31m# Add nodes to the TensorFlow graph.\u001b[0m\u001b[0;34m\u001b[0m\u001b[0;34m\u001b[0m\u001b[0;34m\u001b[0m\u001b[0m\n\u001b[1;32m   1211\u001b[0m   \u001b[0;32mif\u001b[0m \u001b[0;32mnot\u001b[0m \u001b[0misinstance\u001b[0m\u001b[0;34m(\u001b[0m\u001b[0mvalues\u001b[0m\u001b[0;34m,\u001b[0m \u001b[0;34m(\u001b[0m\u001b[0mlist\u001b[0m\u001b[0;34m,\u001b[0m \u001b[0mtuple\u001b[0m\u001b[0;34m)\u001b[0m\u001b[0;34m)\u001b[0m\u001b[0;34m:\u001b[0m\u001b[0;34m\u001b[0m\u001b[0;34m\u001b[0m\u001b[0m\n",
      "\u001b[0;32m~/anaconda3/envs/yelp-nlu_3.6/lib/python3.6/site-packages/six.py\u001b[0m in \u001b[0;36mraise_from\u001b[0;34m(value, from_value)\u001b[0m\n",
      "\u001b[0;31mInvalidArgumentError\u001b[0m: ConcatOp : Ranks of all input tensors should match: shape[0] = [512,50] vs. shape[6] = [512] [Op:ConcatV2] name: concat"
     ]
    }
   ],
   "source": [
    "truth, predictions = [], []\n",
    "for x, y in dataset['val']:\n",
    "    pred = baby(x)\n",
    "    truth.append(y['stars'].numpy())\n",
    "    predictions.append(tf.argmax(pred['stars'], axis=-1).numpy())\n",
    "predictions=np.array(predictions).flatten()\n",
    "truth = np.array(truth).flatten()\n",
    "print(classification_report(truth, predictions))"
   ]
  },
  {
   "cell_type": "raw",
   "metadata": {},
   "source": [
    "              precision    recall  f1-score   support\n",
    "\n",
    "           0       0.76      0.88      0.81      3685\n",
    "           1       0.54      0.41      0.47      2105\n",
    "           2       0.63      0.45      0.52      2875\n",
    "           3       0.61      0.52      0.56      5605\n",
    "           4       0.80      0.91      0.85     11330\n",
    "\n",
    "    accuracy                           0.73     25600\n",
    "   macro avg       0.67      0.63      0.64     25600\n",
    "weighted avg       0.71      0.73      0.71     25600"
   ]
  },
  {
   "cell_type": "code",
   "execution_count": 37,
   "metadata": {},
   "outputs": [
    {
     "data": {
      "text/plain": [
       "array([[ 3248,   320,    44,    25,    48],\n",
       "       [  741,   863,   384,    81,    36],\n",
       "       [  204,   362,  1283,   868,   158],\n",
       "       [   44,    37,   305,  2915,  2304],\n",
       "       [   59,     6,    29,   921, 10315]])"
      ]
     },
     "execution_count": 37,
     "metadata": {},
     "output_type": "execute_result"
    }
   ],
   "source": [
    "confusion_matrix(truth, predictions, labels=[0, 1, 2, 3, 4])"
   ]
  },
  {
   "cell_type": "raw",
   "metadata": {},
   "source": [
    "array([[ 3248,   320,    44,    25,    48],\n",
    "       [  741,   863,   384,    81,    36],\n",
    "       [  204,   362,  1283,   868,   158],\n",
    "       [   44,    37,   305,  2915,  2304],\n",
    "       [   59,     6,    29,   921, 10315]])"
   ]
  },
  {
   "cell_type": "code",
   "execution_count": 24,
   "metadata": {},
   "outputs": [],
   "source": [
    "baby_embedding = baby.layers[1].get_weights()[0]\n",
    "baby_dict = {key: baby_embedding[val] for key, val in keys_to_ix.items()}"
   ]
  },
  {
   "cell_type": "code",
   "execution_count": 38,
   "metadata": {},
   "outputs": [],
   "source": [
    "dists, ix = neighbors(baby_dict['came'.encode()], baby_dict)"
   ]
  },
  {
   "cell_type": "code",
   "execution_count": 39,
   "metadata": {},
   "outputs": [
    {
     "data": {
      "text/html": [
       "<div>\n",
       "<style scoped>\n",
       "    .dataframe tbody tr th:only-of-type {\n",
       "        vertical-align: middle;\n",
       "    }\n",
       "\n",
       "    .dataframe tbody tr th {\n",
       "        vertical-align: top;\n",
       "    }\n",
       "\n",
       "    .dataframe thead th {\n",
       "        text-align: right;\n",
       "    }\n",
       "</style>\n",
       "<table border=\"1\" class=\"dataframe\">\n",
       "  <thead>\n",
       "    <tr style=\"text-align: right;\">\n",
       "      <th></th>\n",
       "      <th>0</th>\n",
       "    </tr>\n",
       "  </thead>\n",
       "  <tbody>\n",
       "    <tr>\n",
       "      <th>b'came'</th>\n",
       "      <td>0.000000</td>\n",
       "    </tr>\n",
       "    <tr>\n",
       "      <th>b'pinpoint'</th>\n",
       "      <td>0.339795</td>\n",
       "    </tr>\n",
       "    <tr>\n",
       "      <th>b'informed'</th>\n",
       "      <td>0.395082</td>\n",
       "    </tr>\n",
       "    <tr>\n",
       "      <th>b'salumi'</th>\n",
       "      <td>0.396992</td>\n",
       "    </tr>\n",
       "    <tr>\n",
       "      <th>b'sayings'</th>\n",
       "      <td>0.404698</td>\n",
       "    </tr>\n",
       "    <tr>\n",
       "      <th>b'help'</th>\n",
       "      <td>0.405624</td>\n",
       "    </tr>\n",
       "    <tr>\n",
       "      <th>b'konpa'</th>\n",
       "      <td>0.406454</td>\n",
       "    </tr>\n",
       "    <tr>\n",
       "      <th>b'prioritize'</th>\n",
       "      <td>0.407701</td>\n",
       "    </tr>\n",
       "    <tr>\n",
       "      <th>b'softshell'</th>\n",
       "      <td>0.412198</td>\n",
       "    </tr>\n",
       "    <tr>\n",
       "      <th>b'returned'</th>\n",
       "      <td>0.416061</td>\n",
       "    </tr>\n",
       "  </tbody>\n",
       "</table>\n",
       "</div>"
      ],
      "text/plain": [
       "                      0\n",
       "b'came'        0.000000\n",
       "b'pinpoint'    0.339795\n",
       "b'informed'    0.395082\n",
       "b'salumi'      0.396992\n",
       "b'sayings'     0.404698\n",
       "b'help'        0.405624\n",
       "b'konpa'       0.406454\n",
       "b'prioritize'  0.407701\n",
       "b'softshell'   0.412198\n",
       "b'returned'    0.416061"
      ]
     },
     "execution_count": 39,
     "metadata": {},
     "output_type": "execute_result"
    }
   ],
   "source": [
    "dists[dists.columns[ix[::1]]].T.head(10)"
   ]
  },
  {
   "cell_type": "code",
   "execution_count": 27,
   "metadata": {},
   "outputs": [
    {
     "name": "stderr",
     "output_type": "stream",
     "text": [
      "/home/kaan/anaconda3/envs/yelp-nlu_3.6/lib/python3.6/site-packages/scipy/spatial/distance.py:720: RuntimeWarning: invalid value encountered in double_scalars\n",
      "  dist = 1.0 - uv / np.sqrt(uu * vv)\n"
     ]
    }
   ],
   "source": [
    "dists_glove, ix_glove = neighbors(glove_lookup['tender'.encode()], glove_lookup)"
   ]
  },
  {
   "cell_type": "code",
   "execution_count": 31,
   "metadata": {},
   "outputs": [
    {
     "data": {
      "text/html": [
       "<div>\n",
       "<style scoped>\n",
       "    .dataframe tbody tr th:only-of-type {\n",
       "        vertical-align: middle;\n",
       "    }\n",
       "\n",
       "    .dataframe tbody tr th {\n",
       "        vertical-align: top;\n",
       "    }\n",
       "\n",
       "    .dataframe thead th {\n",
       "        text-align: right;\n",
       "    }\n",
       "</style>\n",
       "<table border=\"1\" class=\"dataframe\">\n",
       "  <thead>\n",
       "    <tr style=\"text-align: right;\">\n",
       "      <th></th>\n",
       "      <th>0</th>\n",
       "    </tr>\n",
       "  </thead>\n",
       "  <tbody>\n",
       "    <tr>\n",
       "      <th>b'tender'</th>\n",
       "      <td>0.000000</td>\n",
       "    </tr>\n",
       "    <tr>\n",
       "      <th>b'cooked'</th>\n",
       "      <td>0.315023</td>\n",
       "    </tr>\n",
       "    <tr>\n",
       "      <th>b'dried'</th>\n",
       "      <td>0.336386</td>\n",
       "    </tr>\n",
       "    <tr>\n",
       "      <th>b'frozen'</th>\n",
       "      <td>0.338629</td>\n",
       "    </tr>\n",
       "    <tr>\n",
       "      <th>b'pound'</th>\n",
       "      <td>0.344971</td>\n",
       "    </tr>\n",
       "    <tr>\n",
       "      <th>b'sweetened'</th>\n",
       "      <td>0.345886</td>\n",
       "    </tr>\n",
       "    <tr>\n",
       "      <th>b'fresh'</th>\n",
       "      <td>0.346587</td>\n",
       "    </tr>\n",
       "    <tr>\n",
       "      <th>b'softened'</th>\n",
       "      <td>0.357254</td>\n",
       "    </tr>\n",
       "    <tr>\n",
       "      <th>b'add'</th>\n",
       "      <td>0.359478</td>\n",
       "    </tr>\n",
       "    <tr>\n",
       "      <th>b'meltingly'</th>\n",
       "      <td>0.359663</td>\n",
       "    </tr>\n",
       "  </tbody>\n",
       "</table>\n",
       "</div>"
      ],
      "text/plain": [
       "                     0\n",
       "b'tender'     0.000000\n",
       "b'cooked'     0.315023\n",
       "b'dried'      0.336386\n",
       "b'frozen'     0.338629\n",
       "b'pound'      0.344971\n",
       "b'sweetened'  0.345886\n",
       "b'fresh'      0.346587\n",
       "b'softened'   0.357254\n",
       "b'add'        0.359478\n",
       "b'meltingly'  0.359663"
      ]
     },
     "execution_count": 31,
     "metadata": {},
     "output_type": "execute_result"
    }
   ],
   "source": [
    "dists_glove[dists_glove.columns[ix_glove[::1]]].T.head(10)"
   ]
  },
  {
   "cell_type": "code",
   "execution_count": null,
   "metadata": {},
   "outputs": [],
   "source": []
  }
 ],
 "metadata": {
  "kernelspec": {
   "display_name": "yelp-nlu_3.6",
   "language": "python",
   "name": "yelp-nlu_3.6"
  },
  "language_info": {
   "codemirror_mode": {
    "name": "ipython",
    "version": 3
   },
   "file_extension": ".py",
   "mimetype": "text/x-python",
   "name": "python",
   "nbconvert_exporter": "python",
   "pygments_lexer": "ipython3",
   "version": "3.6.8"
  }
 },
 "nbformat": 4,
 "nbformat_minor": 2
}
