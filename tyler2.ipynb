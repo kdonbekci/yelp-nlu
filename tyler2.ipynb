{
 "cells": [
  {
   "cell_type": "code",
   "execution_count": 2,
   "metadata": {},
   "outputs": [],
   "source": [
    "from packages import *\n",
    "import pandas as pd\n",
    "import tensorflow as tf\n",
    "from tensorflow.keras.layers import *\n",
    "from tensorflow.data.experimental import AUTOTUNE\n",
    "from sklearn.feature_extraction.text import CountVectorizer\n",
    "from sklearn.svm import LinearSVC\n",
    "from sklearn.metrics import f1_score, r2_score\n",
    "from sklearn.utils import shuffle\n",
    "from sklearn.model_selection import train_test_split\n",
    "from nltk.tokenize import word_tokenize\n",
    "import re\n",
    "from collections import Counter\n",
    "\n",
    "import numpy as np\n",
    "from tensorflow.keras.preprocessing import sequence\n",
    "from tensorflow.keras.models import Sequential\n",
    "from tensorflow.keras.layers import Dense\n",
    "from tensorflow.keras.layers import Embedding\n",
    "from tensorflow.keras.layers import GlobalAveragePooling1D\n",
    "from tensorflow.keras.datasets import imdb\n",
    "\n",
    "%load_ext autoreload\n",
    "%autoreload 2"
   ]
  },
  {
   "cell_type": "code",
   "execution_count": 3,
   "metadata": {},
   "outputs": [
    {
     "data": {
      "text/plain": [
       "'2.0.0-alpha0'"
      ]
     },
     "execution_count": 3,
     "metadata": {},
     "output_type": "execute_result"
    }
   ],
   "source": [
    "tf.__version__"
   ]
  },
  {
   "cell_type": "code",
   "execution_count": 4,
   "metadata": {},
   "outputs": [],
   "source": [
    "epsilon = 1e-7\n",
    "fp = 'float32'\n",
    "tf.config.gpu.set_per_process_memory_growth(True)\n",
    "tf.config.gpu.set_per_process_memory_fraction(.2)\n",
    "tf.keras.backend.set_floatx(fp)\n",
    "tf.keras.backend.set_epsilon(epsilon)\n",
    "tf.keras.backend.set_image_data_format('channels_last')"
   ]
  },
  {
   "cell_type": "code",
   "execution_count": 5,
   "metadata": {},
   "outputs": [],
   "source": [
    "batch_size = 100\n",
    "glove_dim = 50\n",
    "input_shape = (300, glove_dim, 1)\n",
    "max_length = 300\n",
    "shuffle_buffer_size = batch_size*4\n",
    "prefetch_buffer_size = 1\n",
    "random_seed = np.random.randint(0, 100)\n",
    "test_ratio = 0.33"
   ]
  },
  {
   "cell_type": "code",
   "execution_count": 6,
   "metadata": {},
   "outputs": [],
   "source": [
    "def shuffle_sample(dictionary, n_sample=None, random_seed=42):\n",
    "    lens = [len(l) for l in dictionary.values()]\n",
    "    assert min(lens) == max(lens)\n",
    "    n_data = lens[0]\n",
    "    processed = {}\n",
    "    for key, array in dictionary.items():\n",
    "        if n_sample is not None:\n",
    "            processed[key] = shuffle(array, random_state=random_seed)[:n_sample]\n",
    "        else:\n",
    "            processed[key] = shuffle(array, random_state=random_seed)[:n_sample]\n",
    "    return processed"
   ]
  },
  {
   "cell_type": "code",
   "execution_count": 7,
   "metadata": {},
   "outputs": [],
   "source": [
    "data = shuffle_sample(load_data({'review': ['text', 'stars']})['review'],\n",
    "                             random_seed=random_seed\n",
    "                            )\n",
    "x_train, x_test, y_train, y_test = train_test_split(data['text'],\n",
    "                                                    data['stars'],\n",
    "                                                    test_size = test_ratio,\n",
    "                                                   )"
   ]
  },
  {
   "cell_type": "code",
   "execution_count": 8,
   "metadata": {},
   "outputs": [],
   "source": [
    "glove_lookup = load_pickle(os.path.join(GLOVE_DIR, 'glove-{}D.pkl'.format(glove_dim)))\n",
    "unk_key = '<UNK>'"
   ]
  },
  {
   "cell_type": "code",
   "execution_count": 9,
   "metadata": {},
   "outputs": [],
   "source": [
    "unk_vector = np.mean(np.array(list(glove_lookup.values())), axis=0)\n",
    "glove_lookup[unk_key] = unk_vector"
   ]
  },
  {
   "cell_type": "code",
   "execution_count": 10,
   "metadata": {},
   "outputs": [
    {
     "name": "stdout",
     "output_type": "stream",
     "text": [
      "Loading data...\n",
      "4479553 train sequences\n",
      "2206347 test sequences\n",
      "Average train sequence length: 602\n",
      "Average test sequence length: 603\n"
     ]
    }
   ],
   "source": [
    "print('Loading data...')\n",
    "# (x_train, y_train), (x_test, y_test) = imdb.load_data(num_words=max_features)\n",
    "x_train_tf = tf.data.Dataset.from_tensor_slices(x_train)\n",
    "y_train_tf = tf.data.Dataset.from_tensor_slices(y_train - 1) # to make stars 0-indexed\n",
    "\n",
    "x_test_tf = tf.data.Dataset.from_tensor_slices(x_test)\n",
    "y_test_tf = tf.data.Dataset.from_tensor_slices(y_test - 1)\n",
    "print(len(x_train), 'train sequences')\n",
    "print(len(x_test), 'test sequences')\n",
    "print('Average train sequence length: {}'.format(\n",
    "    np.mean(list(map(len, x_train)), dtype=int)))\n",
    "print('Average test sequence length: {}'.format(\n",
    "    np.mean(list(map(len, x_test)), dtype=int)))"
   ]
  },
  {
   "cell_type": "code",
   "execution_count": 11,
   "metadata": {},
   "outputs": [],
   "source": [
    "def clean_token(t):\n",
    "    t = t.lower()\n",
    "    m = re.match('^[^\\w\\'](\\w+).*', t)\n",
    "    if m is not None:\n",
    "        return m.group(1)\n",
    "    else:\n",
    "        return t\n",
    "\n",
    "def tokenize(s):\n",
    "    tokens = []\n",
    "    for t in word_tokenize(s):\n",
    "        tokens.append(clean_token(t))\n",
    "    return tokens\n",
    "\n",
    "# Returns an np.array of glove embeddings for each\n",
    "# word in the given string of shape (word_count, glove_dims)\n",
    "def get_glove_embeddings(tokens):\n",
    "    embeddings = []\n",
    "    \n",
    "    for i, word in enumerate(tokens):\n",
    "#         if i > \n",
    "        if word in glove_lookup:\n",
    "            embeddings.append(glove_lookup[word])\n",
    "        else:\n",
    "            embeddings.append(np.zeros(glove_dim))\n",
    "            \n",
    "#     return(np.array(embeddings, dtype=np.float16))\n",
    "    return(np.array(embeddings, dtype=np.float32))\n",
    "\n",
    "def test_embed(arr):\n",
    "    return get_glove_embeddings(tokenize(arr))\n",
    "\n",
    "def embed(tensor):\n",
    "    return get_glove_embeddings(tokenize(str(tensor.numpy())))\n",
    "\n",
    "@tf.function\n",
    "def fix_dimensions(tensor):\n",
    "    return tf.image.resize_image_with_crop_or_pad(tf.expand_dims(tensor, axis=-1), 300, glove_dim)"
   ]
  },
  {
   "cell_type": "code",
   "execution_count": 12,
   "metadata": {},
   "outputs": [],
   "source": [
    "train_dataset_embed = tf.data.Dataset.map(x_train_tf,  lambda review: tf.py_function( embed, [review], tf.float32 ), num_parallel_calls=AUTOTUNE) \n",
    "test_dataset_embed = tf.data.Dataset.map(x_test_tf,  lambda review: tf.py_function( embed, [review], tf.float32 ),num_parallel_calls=AUTOTUNE) "
   ]
  },
  {
   "cell_type": "code",
   "execution_count": 13,
   "metadata": {},
   "outputs": [],
   "source": [
    "train_dataset_embed = tf.data.Dataset.map(train_dataset_embed, fix_dimensions, num_parallel_calls=AUTOTUNE) \n",
    "test_dataset_embed = tf.data.Dataset.map(test_dataset_embed, fix_dimensions, num_parallel_calls=AUTOTUNE) "
   ]
  },
  {
   "cell_type": "code",
   "execution_count": 14,
   "metadata": {},
   "outputs": [],
   "source": [
    "train_dataset = tf.data.Dataset.zip((train_dataset_embed, y_train_tf))\n",
    "test_dataset = tf.data.Dataset.zip((test_dataset_embed, y_test_tf))"
   ]
  },
  {
   "cell_type": "code",
   "execution_count": 15,
   "metadata": {},
   "outputs": [],
   "source": [
    "train_dataset = tf.data.Dataset.shuffle(train_dataset, buffer_size=shuffle_buffer_size)\n",
    "test_dataset = tf.data.Dataset.shuffle(test_dataset, buffer_size=shuffle_buffer_size)"
   ]
  },
  {
   "cell_type": "code",
   "execution_count": 16,
   "metadata": {},
   "outputs": [],
   "source": [
    "train_dataset = tf.data.Dataset.batch(train_dataset, batch_size=batch_size)\n",
    "test_dataset = tf.data.Dataset.batch(test_dataset, batch_size=batch_size)"
   ]
  },
  {
   "cell_type": "code",
   "execution_count": 17,
   "metadata": {},
   "outputs": [],
   "source": [
    "train_dataset = tf.data.Dataset.prefetch(train_dataset, buffer_size=prefetch_buffer_size)\n",
    "test_dataset = tf.data.Dataset.prefetch(test_dataset, buffer_size=prefetch_buffer_size)"
   ]
  },
  {
   "cell_type": "markdown",
   "metadata": {},
   "source": [
    "# Prep Data"
   ]
  },
  {
   "cell_type": "raw",
   "metadata": {},
   "source": [
    "Step #1: \n",
    "(# of obsv, # of words, # of glove dims, ...)\n",
    "(16, 300, 50, 1)\n",
    "Access an observation:\n",
    "X[3].numpy()[0]"
   ]
  },
  {
   "cell_type": "code",
   "execution_count": 18,
   "metadata": {},
   "outputs": [],
   "source": [
    "# Step 1: Get data from tensor\n",
    "X = []\n",
    "Y = []\n",
    "for x_batch, y_batch in train_dataset.take(10000 // batch_size):\n",
    "    X.append(x_batch)\n",
    "    Y.append(y_batch)"
   ]
  },
  {
   "cell_type": "code",
   "execution_count": 19,
   "metadata": {},
   "outputs": [],
   "source": [
    "def prep_train_tyler(X):\n",
    "    data = np.dstack([X[0].numpy()[i] for i in range(X[0].shape[0])])\n",
    "    for j in range(10000 // batch_size):\n",
    "        if j == 0:\n",
    "            continue\n",
    "        data = np.append(data, np.dstack([X[j].numpy()[i] for i in range(X[j].shape[0])]), axis = 2)\n",
    "    print(\"Shape:\", data.shape)\n",
    "    return(data)\n",
    "\n",
    "def prep_test_tyler(Y):\n",
    "    data = np.concatenate([Y[i].numpy() for i in range(len(Y))])\n",
    "    print(\"Shape:\", data.shape)\n",
    "    return(data)"
   ]
  },
  {
   "cell_type": "code",
   "execution_count": 20,
   "metadata": {},
   "outputs": [
    {
     "name": "stdout",
     "output_type": "stream",
     "text": [
      "Shape: (300, 50, 10000)\n"
     ]
    }
   ],
   "source": [
    "x_train_mdl = prep_train_tyler(X)"
   ]
  },
  {
   "cell_type": "code",
   "execution_count": 21,
   "metadata": {},
   "outputs": [],
   "source": [
    "x_train_mdl = x_train_mdl.T"
   ]
  },
  {
   "cell_type": "code",
   "execution_count": 22,
   "metadata": {},
   "outputs": [
    {
     "name": "stdout",
     "output_type": "stream",
     "text": [
      "Shape: (1, 1, 10000)\n"
     ]
    }
   ],
   "source": [
    "y_train_mdl = prep_train_tyler(Y)"
   ]
  },
  {
   "cell_type": "code",
   "execution_count": 23,
   "metadata": {},
   "outputs": [],
   "source": [
    "y_train_mdl = y_train_mdl.T"
   ]
  },
  {
   "cell_type": "code",
   "execution_count": 24,
   "metadata": {},
   "outputs": [],
   "source": [
    "y_train_mdl = y_train_mdl.reshape(y_train_mdl.shape[:2])"
   ]
  },
  {
   "cell_type": "code",
   "execution_count": 25,
   "metadata": {},
   "outputs": [
    {
     "data": {
      "text/plain": [
       "(10000, 1)"
      ]
     },
     "execution_count": 25,
     "metadata": {},
     "output_type": "execute_result"
    }
   ],
   "source": [
    "y_train_mdl.shape"
   ]
  },
  {
   "cell_type": "code",
   "execution_count": 26,
   "metadata": {},
   "outputs": [
    {
     "data": {
      "text/plain": [
       "(10000, 50, 300)"
      ]
     },
     "execution_count": 26,
     "metadata": {},
     "output_type": "execute_result"
    }
   ],
   "source": [
    "x_train_mdl.shape"
   ]
  },
  {
   "cell_type": "code",
   "execution_count": 27,
   "metadata": {},
   "outputs": [],
   "source": [
    "x_test_mdl = x_train_mdl\n",
    "y_test_mdl = y_train_mdl"
   ]
  },
  {
   "cell_type": "code",
   "execution_count": 28,
   "metadata": {},
   "outputs": [
    {
     "data": {
      "text/plain": [
       "(10000, 50, 300)"
      ]
     },
     "execution_count": 28,
     "metadata": {},
     "output_type": "execute_result"
    }
   ],
   "source": [
    "x_test_mdl.shape"
   ]
  },
  {
   "cell_type": "code",
   "execution_count": 29,
   "metadata": {},
   "outputs": [
    {
     "data": {
      "text/plain": [
       "(10000, 1)"
      ]
     },
     "execution_count": 29,
     "metadata": {},
     "output_type": "execute_result"
    }
   ],
   "source": [
    "y_test_mdl.shape"
   ]
  },
  {
   "cell_type": "code",
   "execution_count": 30,
   "metadata": {},
   "outputs": [
    {
     "name": "stdout",
     "output_type": "stream",
     "text": [
      "Build model...\n",
      "Train on 8000 samples, validate on 2000 samples\n",
      "Epoch 1/100\n",
      "8000/8000 [==============================] - 2s 289us/sample - loss: 1.7114 - accuracy: 0.4004 - val_loss: 1.4466 - val_accuracy: 0.4585\n",
      "Epoch 2/100\n",
      "8000/8000 [==============================] - 2s 232us/sample - loss: 1.1662 - accuracy: 0.5459 - val_loss: 1.5884 - val_accuracy: 0.4190\n",
      "Epoch 3/100\n",
      "8000/8000 [==============================] - 2s 229us/sample - loss: 0.9188 - accuracy: 0.6424 - val_loss: 1.3718 - val_accuracy: 0.4735\n",
      "Epoch 4/100\n",
      "8000/8000 [==============================] - 2s 233us/sample - loss: 0.7611 - accuracy: 0.7092 - val_loss: 1.4347 - val_accuracy: 0.4410\n",
      "Epoch 5/100\n",
      "8000/8000 [==============================] - 2s 235us/sample - loss: 0.6045 - accuracy: 0.7794 - val_loss: 1.5612 - val_accuracy: 0.4810\n",
      "Epoch 6/100\n",
      "8000/8000 [==============================] - 2s 232us/sample - loss: 0.4970 - accuracy: 0.8255 - val_loss: 1.6905 - val_accuracy: 0.4690\n",
      "Epoch 7/100\n",
      "8000/8000 [==============================] - 2s 230us/sample - loss: 0.3866 - accuracy: 0.8729 - val_loss: 1.8463 - val_accuracy: 0.4685\n",
      "Epoch 8/100\n",
      "8000/8000 [==============================] - 2s 234us/sample - loss: 0.3200 - accuracy: 0.8984 - val_loss: 1.8398 - val_accuracy: 0.4385\n",
      "Epoch 9/100\n",
      "8000/8000 [==============================] - 2s 234us/sample - loss: 0.2544 - accuracy: 0.9245 - val_loss: 1.9834 - val_accuracy: 0.4300\n",
      "Epoch 10/100\n",
      "8000/8000 [==============================] - 2s 233us/sample - loss: 0.1961 - accuracy: 0.9477 - val_loss: 2.2052 - val_accuracy: 0.4440\n",
      "Epoch 11/100\n",
      "8000/8000 [==============================] - 2s 233us/sample - loss: 0.1492 - accuracy: 0.9625 - val_loss: 2.2732 - val_accuracy: 0.4115\n",
      "Epoch 12/100\n",
      "8000/8000 [==============================] - 2s 233us/sample - loss: 0.1164 - accuracy: 0.9718 - val_loss: 2.3392 - val_accuracy: 0.4520\n",
      "Epoch 13/100\n",
      "8000/8000 [==============================] - 2s 233us/sample - loss: 0.0877 - accuracy: 0.9806 - val_loss: 2.4991 - val_accuracy: 0.4415\n",
      "Epoch 14/100\n",
      "8000/8000 [==============================] - 2s 239us/sample - loss: 0.0685 - accuracy: 0.9862 - val_loss: 3.0966 - val_accuracy: 0.4120\n",
      "Epoch 15/100\n",
      "8000/8000 [==============================] - 2s 237us/sample - loss: 0.0577 - accuracy: 0.9894 - val_loss: 2.8029 - val_accuracy: 0.4270\n",
      "Epoch 16/100\n",
      "8000/8000 [==============================] - 2s 237us/sample - loss: 0.0412 - accuracy: 0.9921 - val_loss: 2.9317 - val_accuracy: 0.4415\n",
      "Epoch 17/100\n",
      "8000/8000 [==============================] - 2s 235us/sample - loss: 0.0414 - accuracy: 0.9900 - val_loss: 3.0680 - val_accuracy: 0.4340\n",
      "Epoch 18/100\n",
      "8000/8000 [==============================] - 2s 234us/sample - loss: 0.0313 - accuracy: 0.9918 - val_loss: 3.1828 - val_accuracy: 0.4370\n",
      "Epoch 19/100\n",
      "8000/8000 [==============================] - 2s 233us/sample - loss: 0.0254 - accuracy: 0.9939 - val_loss: 3.3103 - val_accuracy: 0.4375\n",
      "Epoch 20/100\n",
      "8000/8000 [==============================] - 2s 233us/sample - loss: 0.0166 - accuracy: 0.9959 - val_loss: 3.4868 - val_accuracy: 0.4530\n",
      "Epoch 21/100\n",
      "8000/8000 [==============================] - 2s 235us/sample - loss: 0.0188 - accuracy: 0.9951 - val_loss: 3.8272 - val_accuracy: 0.4070\n",
      "Epoch 22/100\n",
      "8000/8000 [==============================] - 2s 236us/sample - loss: 0.0296 - accuracy: 0.9931 - val_loss: 3.5901 - val_accuracy: 0.4380\n",
      "Epoch 23/100\n",
      "8000/8000 [==============================] - 2s 234us/sample - loss: 0.0127 - accuracy: 0.9964 - val_loss: 3.7339 - val_accuracy: 0.4455\n",
      "Epoch 24/100\n",
      "8000/8000 [==============================] - 2s 232us/sample - loss: 0.0106 - accuracy: 0.9967 - val_loss: 3.8431 - val_accuracy: 0.4405\n",
      "Epoch 25/100\n",
      "8000/8000 [==============================] - 2s 232us/sample - loss: 0.0299 - accuracy: 0.9923 - val_loss: 4.0460 - val_accuracy: 0.4340\n",
      "Epoch 26/100\n",
      "8000/8000 [==============================] - 2s 236us/sample - loss: 0.0137 - accuracy: 0.9975 - val_loss: 4.0090 - val_accuracy: 0.4440\n",
      "Epoch 27/100\n",
      "8000/8000 [==============================] - 2s 233us/sample - loss: 0.0149 - accuracy: 0.9977 - val_loss: 4.0755 - val_accuracy: 0.4405\n",
      "Epoch 28/100\n",
      "8000/8000 [==============================] - 2s 235us/sample - loss: 0.0133 - accuracy: 0.9971 - val_loss: 4.1340 - val_accuracy: 0.4365\n",
      "Epoch 29/100\n",
      "8000/8000 [==============================] - 2s 235us/sample - loss: 0.0030 - accuracy: 0.9992 - val_loss: 4.3109 - val_accuracy: 0.4370\n",
      "Epoch 30/100\n",
      "8000/8000 [==============================] - 2s 236us/sample - loss: 0.0106 - accuracy: 0.9975 - val_loss: 4.4358 - val_accuracy: 0.4365\n",
      "Epoch 31/100\n",
      "8000/8000 [==============================] - 2s 233us/sample - loss: 0.0147 - accuracy: 0.9965 - val_loss: 4.4475 - val_accuracy: 0.4365\n",
      "Epoch 32/100\n",
      "8000/8000 [==============================] - 2s 233us/sample - loss: 0.0054 - accuracy: 0.9981 - val_loss: 4.4467 - val_accuracy: 0.4395\n",
      "Epoch 33/100\n",
      "8000/8000 [==============================] - 2s 236us/sample - loss: 0.0080 - accuracy: 0.9974 - val_loss: 4.6870 - val_accuracy: 0.4345\n",
      "Epoch 34/100\n",
      "8000/8000 [==============================] - 2s 231us/sample - loss: 0.0062 - accuracy: 0.9981 - val_loss: 4.8174 - val_accuracy: 0.4455\n",
      "Epoch 35/100\n",
      "8000/8000 [==============================] - 2s 229us/sample - loss: 0.0131 - accuracy: 0.9974 - val_loss: 4.7953 - val_accuracy: 0.4500\n",
      "Epoch 36/100\n",
      "8000/8000 [==============================] - 2s 229us/sample - loss: 0.0084 - accuracy: 0.9986 - val_loss: 4.8906 - val_accuracy: 0.4405\n",
      "Epoch 37/100\n",
      "8000/8000 [==============================] - 2s 229us/sample - loss: 2.2333e-04 - accuracy: 1.0000 - val_loss: 5.7766 - val_accuracy: 0.3645\n",
      "Epoch 38/100\n",
      "8000/8000 [==============================] - 2s 232us/sample - loss: 0.0027 - accuracy: 0.9990 - val_loss: 5.0255 - val_accuracy: 0.4450\n",
      "Epoch 39/100\n",
      "8000/8000 [==============================] - 2s 227us/sample - loss: 0.0172 - accuracy: 0.9960 - val_loss: 5.0906 - val_accuracy: 0.4310\n",
      "Epoch 40/100\n",
      "8000/8000 [==============================] - 2s 232us/sample - loss: 0.0063 - accuracy: 0.9983 - val_loss: 5.0812 - val_accuracy: 0.4365\n",
      "Epoch 41/100\n",
      "8000/8000 [==============================] - 2s 233us/sample - loss: 0.0067 - accuracy: 0.9985 - val_loss: 5.4386 - val_accuracy: 0.4315\n",
      "Epoch 42/100\n",
      "8000/8000 [==============================] - 2s 230us/sample - loss: 1.8930e-04 - accuracy: 1.0000 - val_loss: 5.3160 - val_accuracy: 0.4370\n",
      "Epoch 43/100\n",
      "8000/8000 [==============================] - 2s 231us/sample - loss: 0.0146 - accuracy: 0.9966 - val_loss: 5.3500 - val_accuracy: 0.4370\n",
      "Epoch 44/100\n",
      "8000/8000 [==============================] - 2s 230us/sample - loss: 0.0169 - accuracy: 0.9967 - val_loss: 5.4383 - val_accuracy: 0.4325\n",
      "Epoch 45/100\n",
      "8000/8000 [==============================] - 2s 235us/sample - loss: 9.1335e-05 - accuracy: 1.0000 - val_loss: 5.4584 - val_accuracy: 0.4295\n",
      "Epoch 46/100\n",
      "8000/8000 [==============================] - 2s 228us/sample - loss: 0.0032 - accuracy: 0.9994 - val_loss: 5.6030 - val_accuracy: 0.4425\n",
      "Epoch 47/100\n",
      "8000/8000 [==============================] - 2s 231us/sample - loss: 0.0020 - accuracy: 0.9994 - val_loss: 5.7580 - val_accuracy: 0.4380\n",
      "Epoch 48/100\n",
      "8000/8000 [==============================] - 2s 231us/sample - loss: 0.0089 - accuracy: 0.9970 - val_loss: 5.9162 - val_accuracy: 0.4250\n",
      "Epoch 49/100\n",
      "8000/8000 [==============================] - 2s 230us/sample - loss: 6.0584e-05 - accuracy: 1.0000 - val_loss: 5.9108 - val_accuracy: 0.4285\n",
      "Epoch 50/100\n",
      "8000/8000 [==============================] - 2s 231us/sample - loss: 0.0028 - accuracy: 0.9990 - val_loss: 5.8272 - val_accuracy: 0.4265\n",
      "Epoch 51/100\n",
      "8000/8000 [==============================] - 2s 231us/sample - loss: 0.0126 - accuracy: 0.9971 - val_loss: 5.9851 - val_accuracy: 0.4315\n",
      "Epoch 52/100\n",
      "8000/8000 [==============================] - 2s 233us/sample - loss: 3.4837e-05 - accuracy: 1.0000 - val_loss: 5.9860 - val_accuracy: 0.4320\n",
      "Epoch 53/100\n",
      "8000/8000 [==============================] - 2s 233us/sample - loss: 0.0061 - accuracy: 0.9976 - val_loss: 6.0656 - val_accuracy: 0.4345\n",
      "Epoch 54/100\n",
      "8000/8000 [==============================] - 2s 233us/sample - loss: 3.7723e-05 - accuracy: 1.0000 - val_loss: 6.1203 - val_accuracy: 0.4365\n",
      "Epoch 55/100\n",
      "8000/8000 [==============================] - 2s 231us/sample - loss: 0.0106 - accuracy: 0.9984 - val_loss: 6.3722 - val_accuracy: 0.4305\n",
      "Epoch 56/100\n",
      "8000/8000 [==============================] - 2s 233us/sample - loss: 0.0054 - accuracy: 0.9983 - val_loss: 7.1433 - val_accuracy: 0.4045\n",
      "Epoch 57/100\n",
      "8000/8000 [==============================] - 2s 232us/sample - loss: 2.1557e-04 - accuracy: 1.0000 - val_loss: 6.3750 - val_accuracy: 0.4285\n",
      "Epoch 58/100\n",
      "8000/8000 [==============================] - 2s 233us/sample - loss: 0.0064 - accuracy: 0.9983 - val_loss: 6.5326 - val_accuracy: 0.4440\n",
      "Epoch 59/100\n",
      "8000/8000 [==============================] - 2s 233us/sample - loss: 2.4386e-05 - accuracy: 1.0000 - val_loss: 6.3238 - val_accuracy: 0.4355\n",
      "Epoch 60/100\n",
      "8000/8000 [==============================] - 2s 235us/sample - loss: 0.0050 - accuracy: 0.9981 - val_loss: 6.5840 - val_accuracy: 0.4350\n",
      "Epoch 61/100\n",
      "8000/8000 [==============================] - 2s 234us/sample - loss: 1.4961e-05 - accuracy: 1.0000 - val_loss: 6.3923 - val_accuracy: 0.4410\n",
      "Epoch 62/100\n",
      "8000/8000 [==============================] - 2s 231us/sample - loss: 0.0011 - accuracy: 0.9995 - val_loss: 6.5889 - val_accuracy: 0.4400\n",
      "Epoch 63/100\n",
      "8000/8000 [==============================] - 2s 231us/sample - loss: 8.0240e-06 - accuracy: 1.0000 - val_loss: 6.6176 - val_accuracy: 0.4375\n",
      "Epoch 64/100\n",
      "8000/8000 [==============================] - 2s 231us/sample - loss: 0.0203 - accuracy: 0.9965 - val_loss: 6.7094 - val_accuracy: 0.4210\n",
      "Epoch 65/100\n",
      "8000/8000 [==============================] - 2s 229us/sample - loss: 5.7796e-05 - accuracy: 1.0000 - val_loss: 6.6505 - val_accuracy: 0.4345\n",
      "Epoch 66/100\n",
      "8000/8000 [==============================] - 2s 231us/sample - loss: 0.0022 - accuracy: 0.9994 - val_loss: 6.7598 - val_accuracy: 0.4290\n",
      "Epoch 67/100\n",
      "8000/8000 [==============================] - 2s 228us/sample - loss: 0.0029 - accuracy: 0.9989 - val_loss: 6.7010 - val_accuracy: 0.4290\n",
      "Epoch 68/100\n",
      "8000/8000 [==============================] - 2s 234us/sample - loss: 1.4889e-05 - accuracy: 1.0000 - val_loss: 6.7091 - val_accuracy: 0.4355\n",
      "Epoch 69/100\n",
      "8000/8000 [==============================] - 2s 233us/sample - loss: 0.0077 - accuracy: 0.9977 - val_loss: 7.0416 - val_accuracy: 0.4345\n",
      "Epoch 70/100\n",
      "8000/8000 [==============================] - 2s 233us/sample - loss: 2.2456e-05 - accuracy: 1.0000 - val_loss: 6.9446 - val_accuracy: 0.4405\n",
      "Epoch 71/100\n",
      "8000/8000 [==============================] - 2s 235us/sample - loss: 0.0075 - accuracy: 0.9976 - val_loss: 7.1760 - val_accuracy: 0.4110\n",
      "Epoch 72/100\n",
      "8000/8000 [==============================] - 2s 232us/sample - loss: 4.1260e-04 - accuracy: 0.9999 - val_loss: 6.9824 - val_accuracy: 0.4395\n",
      "Epoch 73/100\n",
      "8000/8000 [==============================] - 2s 232us/sample - loss: 2.9198e-06 - accuracy: 1.0000 - val_loss: 6.9663 - val_accuracy: 0.4390\n",
      "Epoch 74/100\n",
      "8000/8000 [==============================] - 2s 232us/sample - loss: 0.0021 - accuracy: 0.9996 - val_loss: 7.0432 - val_accuracy: 0.4420\n",
      "Epoch 75/100\n",
      "8000/8000 [==============================] - 2s 233us/sample - loss: 0.0047 - accuracy: 0.9986 - val_loss: 7.2593 - val_accuracy: 0.4405\n",
      "Epoch 76/100\n",
      "8000/8000 [==============================] - 2s 232us/sample - loss: 6.7867e-06 - accuracy: 1.0000 - val_loss: 7.1562 - val_accuracy: 0.4380\n",
      "Epoch 77/100\n",
      "8000/8000 [==============================] - 2s 234us/sample - loss: 0.0022 - accuracy: 0.9994 - val_loss: 7.1592 - val_accuracy: 0.4230\n",
      "Epoch 78/100\n",
      "8000/8000 [==============================] - 2s 233us/sample - loss: 3.3520e-06 - accuracy: 1.0000 - val_loss: 7.3122 - val_accuracy: 0.4415\n",
      "Epoch 79/100\n",
      "8000/8000 [==============================] - 2s 232us/sample - loss: 0.0106 - accuracy: 0.9983 - val_loss: 7.6801 - val_accuracy: 0.4325\n",
      "Epoch 80/100\n",
      "8000/8000 [==============================] - 2s 231us/sample - loss: 2.1491e-05 - accuracy: 1.0000 - val_loss: 7.3307 - val_accuracy: 0.4310\n",
      "Epoch 81/100\n",
      "8000/8000 [==============================] - 2s 236us/sample - loss: 0.0024 - accuracy: 0.9990 - val_loss: 7.6403 - val_accuracy: 0.4260\n",
      "Epoch 82/100\n",
      "8000/8000 [==============================] - 2s 233us/sample - loss: 2.7376e-05 - accuracy: 1.0000 - val_loss: 7.5449 - val_accuracy: 0.4360\n",
      "Epoch 83/100\n",
      "8000/8000 [==============================] - 2s 232us/sample - loss: 0.0021 - accuracy: 0.9994 - val_loss: 7.5793 - val_accuracy: 0.4300\n",
      "Epoch 84/100\n",
      "8000/8000 [==============================] - 2s 232us/sample - loss: 2.1219e-05 - accuracy: 1.0000 - val_loss: 7.6842 - val_accuracy: 0.4455\n",
      "Epoch 85/100\n",
      "8000/8000 [==============================] - 2s 236us/sample - loss: 0.0044 - accuracy: 0.9987 - val_loss: 7.7328 - val_accuracy: 0.4345\n",
      "Epoch 86/100\n",
      "8000/8000 [==============================] - 2s 234us/sample - loss: 3.3684e-06 - accuracy: 1.0000 - val_loss: 7.6798 - val_accuracy: 0.4395\n",
      "Epoch 87/100\n",
      "8000/8000 [==============================] - 2s 240us/sample - loss: 0.0064 - accuracy: 0.9987 - val_loss: 7.7790 - val_accuracy: 0.4285\n",
      "Epoch 88/100\n",
      "8000/8000 [==============================] - 2s 232us/sample - loss: 3.6424e-06 - accuracy: 1.0000 - val_loss: 7.7167 - val_accuracy: 0.4335\n",
      "Epoch 89/100\n",
      "8000/8000 [==============================] - 2s 233us/sample - loss: 7.7639e-07 - accuracy: 1.0000 - val_loss: 7.6562 - val_accuracy: 0.4365\n",
      "Epoch 90/100\n",
      "8000/8000 [==============================] - 2s 237us/sample - loss: 0.0020 - accuracy: 0.9992 - val_loss: 7.8042 - val_accuracy: 0.4475\n",
      "Epoch 91/100\n",
      "8000/8000 [==============================] - 2s 241us/sample - loss: 8.2743e-07 - accuracy: 1.0000 - val_loss: 7.6774 - val_accuracy: 0.4355\n",
      "Epoch 92/100\n",
      "8000/8000 [==============================] - 2s 235us/sample - loss: 0.0018 - accuracy: 0.9995 - val_loss: 7.8659 - val_accuracy: 0.4250\n",
      "Epoch 93/100\n",
      "8000/8000 [==============================] - 2s 237us/sample - loss: 3.1008e-06 - accuracy: 1.0000 - val_loss: 7.8712 - val_accuracy: 0.4415\n",
      "Epoch 94/100\n",
      "8000/8000 [==============================] - 2s 233us/sample - loss: 5.9437e-07 - accuracy: 1.0000 - val_loss: 8.8480 - val_accuracy: 0.4340\n",
      "Epoch 95/100\n",
      "8000/8000 [==============================] - 2s 233us/sample - loss: 0.0066 - accuracy: 0.9976 - val_loss: 7.7213 - val_accuracy: 0.4165\n",
      "Epoch 96/100\n",
      "8000/8000 [==============================] - 2s 232us/sample - loss: 5.0204e-05 - accuracy: 1.0000 - val_loss: 7.6430 - val_accuracy: 0.4285\n",
      "Epoch 97/100\n",
      "8000/8000 [==============================] - 2s 234us/sample - loss: 0.0060 - accuracy: 0.9985 - val_loss: 7.9062 - val_accuracy: 0.4385\n",
      "Epoch 98/100\n",
      "8000/8000 [==============================] - 2s 237us/sample - loss: 1.3892e-05 - accuracy: 1.0000 - val_loss: 7.8936 - val_accuracy: 0.4435\n",
      "Epoch 99/100\n",
      "8000/8000 [==============================] - 2s 238us/sample - loss: 8.4529e-07 - accuracy: 1.0000 - val_loss: 7.8848 - val_accuracy: 0.4405\n",
      "Epoch 100/100\n",
      "8000/8000 [==============================] - 2s 234us/sample - loss: 0.0028 - accuracy: 0.9995 - val_loss: 7.8821 - val_accuracy: 0.4420\n"
     ]
    },
    {
     "data": {
      "text/plain": [
       "<tensorflow.python.keras.callbacks.History at 0x7f9aa70ea518>"
      ]
     },
     "execution_count": 30,
     "metadata": {},
     "output_type": "execute_result"
    }
   ],
   "source": [
    "print('Build model...')\n",
    "# Build model\n",
    "model = Sequential()\n",
    "model.add(Flatten())\n",
    "model.add(Dense(50, activation='relu', input_shape=(15000,)))\n",
    "model.add(Dense(50, activation='softmax'))\n",
    "model.compile(optimizer='rmsprop',\n",
    "              loss='sparse_categorical_crossentropy',\n",
    "              metrics=['accuracy'])\n",
    "model.fit(x_train_mdl, y_train_mdl,\n",
    "          batch_size=batch_size,\n",
    "          epochs=100,\n",
    "          validation_split=.2,\n",
    "#           validation_data=(x_test_mdl, y_test_mdl)\n",
    "         )"
   ]
  },
  {
   "cell_type": "code",
   "execution_count": 69,
   "metadata": {},
   "outputs": [
    {
     "data": {
      "text/plain": [
       "(10000, 15000)"
      ]
     },
     "execution_count": 69,
     "metadata": {},
     "output_type": "execute_result"
    }
   ],
   "source": [
    "nsamples, nx, ny = x_train_mdl.shape\n",
    "x_softmax = x_train_mdl.reshape((nsamples,nx*ny))\n",
    "x_softmax.shape"
   ]
  },
  {
   "cell_type": "code",
   "execution_count": 70,
   "metadata": {},
   "outputs": [
    {
     "data": {
      "text/plain": [
       "(10000,)"
      ]
     },
     "execution_count": 70,
     "metadata": {},
     "output_type": "execute_result"
    }
   ],
   "source": [
    "nsamples, nx = y_train_mdl.shape\n",
    "y_softmax = y_train_mdl.reshape((nsamples,))\n",
    "y_softmax.shape"
   ]
  },
  {
   "cell_type": "code",
   "execution_count": 78,
   "metadata": {},
   "outputs": [],
   "source": [
    "x_train = x_softmax[:8000]\n",
    "y_train = y_softmax[:8000]\n",
    "\n",
    "x_test = x_softmax[8000:]\n",
    "y_test = y_softmax[8000:]"
   ]
  },
  {
   "cell_type": "code",
   "execution_count": 79,
   "metadata": {},
   "outputs": [],
   "source": [
    "from sklearn.linear_model import LogisticRegression"
   ]
  },
  {
   "cell_type": "code",
   "execution_count": 80,
   "metadata": {},
   "outputs": [
    {
     "name": "stderr",
     "output_type": "stream",
     "text": [
      "/home/kaan/anaconda3/envs/yelp-nlu_3.6/lib/python3.6/site-packages/sklearn/linear_model/logistic.py:432: FutureWarning: Default solver will be changed to 'lbfgs' in 0.22. Specify a solver to silence this warning.\n",
      "  FutureWarning)\n",
      "/home/kaan/anaconda3/envs/yelp-nlu_3.6/lib/python3.6/site-packages/sklearn/linear_model/logistic.py:469: FutureWarning: Default multi_class will be changed to 'auto' in 0.22. Specify the multi_class option to silence this warning.\n",
      "  \"this warning.\", FutureWarning)\n"
     ]
    }
   ],
   "source": [
    "classifier = LogisticRegression()\n",
    "classifier.fit(x_train, y_train)\n",
    "score = classifier.score(x_test, y_test)"
   ]
  },
  {
   "cell_type": "code",
   "execution_count": 81,
   "metadata": {},
   "outputs": [
    {
     "name": "stdout",
     "output_type": "stream",
     "text": [
      "Accuracy:  0.412\n"
     ]
    }
   ],
   "source": [
    "print(\"Accuracy: \", score)"
   ]
  },
  {
   "cell_type": "code",
   "execution_count": null,
   "metadata": {},
   "outputs": [],
   "source": []
  }
 ],
 "metadata": {
  "kernelspec": {
   "display_name": "yelp-nlu_3.6",
   "language": "python",
   "name": "yelp-nlu_3.6"
  },
  "language_info": {
   "codemirror_mode": {
    "name": "ipython",
    "version": 3
   },
   "file_extension": ".py",
   "mimetype": "text/x-python",
   "name": "python",
   "nbconvert_exporter": "python",
   "pygments_lexer": "ipython3",
   "version": "3.6.8"
  }
 },
 "nbformat": 4,
 "nbformat_minor": 2
}
