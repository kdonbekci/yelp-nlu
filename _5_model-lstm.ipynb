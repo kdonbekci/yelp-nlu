{
 "cells": [
  {
   "cell_type": "code",
   "execution_count": 1,
   "metadata": {},
   "outputs": [],
   "source": [
    "from packages import *\n",
    "import tensorflow as tf\n",
    "from datetime import datetime, timedelta\n",
    "import time\n",
    "import pandas as pd\n",
    "import tensorflow.keras.backend as K\n",
    "from tensorflow.keras.utils import plot_model\n",
    "from tensorflow.keras.models import Model, Sequential\n",
    "from tensorflow.keras.layers import *\n",
    "from sklearn.metrics import classification_report, precision_recall_fscore_support, confusion_matrix\n",
    "from sklearn.model_selection import train_test_split\n",
    "from sklearn.utils.class_weight import compute_class_weight\n",
    "from sklearn.utils import shuffle\n",
    "%load_ext autoreload\n",
    "%autoreload 2"
   ]
  },
  {
   "cell_type": "markdown",
   "metadata": {},
   "source": [
    "# LSTM Model\n",
    "\n",
    "This notebook will be our workspace for the model that involves only LSTM."
   ]
  },
  {
   "cell_type": "code",
   "execution_count": 2,
   "metadata": {},
   "outputs": [],
   "source": [
    "tf.config.gpu.set_per_process_memory_growth(True)\n",
    "tf.config.gpu.set_per_process_memory_fraction(.40)\n",
    "tf.keras.backend.set_image_data_format('channels_last')"
   ]
  },
  {
   "cell_type": "markdown",
   "metadata": {},
   "source": [
    "## Dataset"
   ]
  },
  {
   "cell_type": "code",
   "execution_count": 3,
   "metadata": {},
   "outputs": [
    {
     "name": "stdout",
     "output_type": "stream",
     "text": [
      "using random_seed: 100\n"
     ]
    }
   ],
   "source": [
    "glove_dim = 50\n",
    "max_length = 300\n",
    "chunk_count = 100\n",
    "random_seed = 100 #np.random.randint(0, 1000000000)\n",
    "print('using random_seed: {}'.format(random_seed))\n",
    "splits = ['train', 'val', 'test'] #60:20:20"
   ]
  },
  {
   "cell_type": "code",
   "execution_count": 4,
   "metadata": {},
   "outputs": [
    {
     "name": "stdout",
     "output_type": "stream",
     "text": [
      "(60:20:20)\n",
      "oops 1 times.\n"
     ]
    }
   ],
   "source": [
    "tf_text_filenames = [os.path.join(DATASET_DIR, 'preprocessed', 'tfrecord', 'xext',  #xext temporarily\n",
    "                                  'review-text-{:02d}.tf'.format(i)) for i in range(chunk_count)]\n",
    "tf_ix_filenames = [os.path.join(DATASET_DIR, 'preprocessed', 'tfrecord', 'ix', \n",
    "                                  'review-ix-{:02d}.tf'.format(i)) for i in range(chunk_count)]\n",
    "all_stars = (load_data({'review': ['stars']})['review']['stars'] - 1).astype(np.int32)# this is so that stars are 0-indexed\n",
    "N = {}\n",
    "stars_chunked = all_stars.reshape((chunk_count, 6685900//chunk_count))\n",
    "\n",
    "class_weights = compute_class_weight('balanced', [0, 1, 2, 3, 4], all_stars)\n",
    "class_weights = {'five': class_weights, 'ternary': np.array([class_weights[0], class_weights[1:4].sum() , class_weights[4]])}\n",
    "\n",
    "tf_text, tf_ix, stars= {}, {}, {}\n",
    "\n",
    "tf_text['train'], tf_text_filenames_val_test, tf_ix['train'], tf_ix_filenames_val_test, stars['train'], stars_val_test \\\n",
    "= train_test_split(tf_text_filenames, tf_ix_filenames, stars_chunked, random_state=random_seed, test_size = .4)\n",
    "\n",
    "tf_text['val'], tf_text['test'], tf_ix['val'], tf_ix['test'], stars['val'], stars['test'] \\\n",
    "= train_test_split(tf_text_filenames_val_test, tf_ix_filenames_val_test, stars_val_test, random_state=random_seed, test_size = .5)\n",
    "\n",
    "for split in splits:\n",
    "    stars[split] = stars[split].reshape(np.product(stars[split].shape))\n",
    "    N[split] = len(stars[split])\n",
    "\n",
    "print('({}:{}:{})'.format(len(tf_text['train']), len(tf_text['val']), len(tf_text['test'])))\n",
    "\n",
    "glove_lookup = load_pickle(os.path.join(GLOVE_DIR, 'glove-{}D-byte-float32.pkl'.format(glove_dim)))\n",
    "keys_to_ix = load_pickle(os.path.join(GLOVE_DIR, 'glove-byte-keys_to_ix.pkl'))\n",
    "ix_to_key = {value: key for key, value in keys_to_ix.items()}\n",
    "\n",
    "unk_vector = np.mean(np.array(list(glove_lookup.values())), axis=0)\n",
    "null_vector = np.zeros(glove_dim)\n",
    "glove_lookup[UNK_KEY.encode('ascii')] = unk_vector #if using byte glove dict\n",
    "glove_lookup[NULL_KEY.encode('ascii')] = null_vector\n",
    "\n",
    "oops = 0\n",
    "glove_lookup_array = []\n",
    "for i in range(len(ix_to_key)):\n",
    "    if ix_to_key[i] not in glove_lookup:\n",
    "        oops+=1\n",
    "    glove_lookup_array.append(glove_lookup.get(ix_to_key[i], null_vector))\n",
    "glove_lookup_array = np.array(glove_lookup_array, dtype=np.float32)\n",
    "print('oops {} times.'.format(oops))\n",
    "\n",
    "@tf.function\n",
    "def _parse_function(proto, to_ix):\n",
    "    # define your tfrecord again. Remember that you saved your image as a string.\n",
    "    keys_to_features = {'review': tf.io.FixedLenFeature([300,], tf.int64) if to_ix else tf.io.FixedLenFeature([300,], tf.string),}\n",
    "    \n",
    "    # Load one example\n",
    "    parsed_features = tf.io.parse_single_example(proto, keys_to_features)\n",
    "    \n",
    "    return parsed_features \n",
    "\n",
    "embedding = tf.constant(glove_lookup_array)\n",
    "@tf.function\n",
    "def embed(tensor):\n",
    "    return tf.gather(embedding, tensor)\n",
    "\n",
    "@tf.function\n",
    "def add_channel(tensor):\n",
    "    return tf.expand_dims(tensor, -1)\n",
    "\n",
    "# 11 GB in memory\n",
    "# X = []\n",
    "# x = tf.data.TFRecordDataset(tf_text['train'])\n",
    "# for y in x :\n",
    "#     X.append(y)"
   ]
  },
  {
   "cell_type": "code",
   "execution_count": 5,
   "metadata": {},
   "outputs": [],
   "source": [
    "@tf.function\n",
    "def get_review_length(review):\n",
    "    return tf.cast(tf.reduce_sum(tf.cast(tf.not_equal(review, 0), tf.int32)), tf.float32)"
   ]
  },
  {
   "cell_type": "code",
   "execution_count": 6,
   "metadata": {},
   "outputs": [],
   "source": [
    "def make_dataset(batch_size, to_embed=False, to_ix=False, channelize=True, to_ternary_task=False, features=None): \n",
    "    '''\n",
    "    Note: once created dataset remains the same from iteration to iteration. \n",
    "    In Keras.fit, once given steps_per_epoch the data for epochs are not the same.\n",
    "    Validation data is the same.\n",
    "    If cell is rerun, then the same order of data will be fed.\n",
    "    '''\n",
    "    if to_ternary_task:\n",
    "        star_mapping = tf.constant([0, 1, 1, 1, 2], dtype=tf.int32)\n",
    "    def _prepare_star(star):\n",
    "        if to_ternary_task: return {'stars': tf.gather(star_mapping, star)}\n",
    "        return {'stars': star}\n",
    "    def _parse_transform(x):\n",
    "        parsed = _parse_function(x, True)['review']\n",
    "        out = {}\n",
    "        if features:\n",
    "            out = {key: f(parsed) for key, f in features.items()}\n",
    "        if to_ix:\n",
    "            out['review-ix'] = tf.cast(parsed, tf.int32)\n",
    "        if to_embed:\n",
    "            if channelize:\n",
    "                out['review-embed'] = add_channel(embed(parsed))\n",
    "            else:\n",
    "                out['review-embed'] = embed(parsed) \n",
    "        return out   \n",
    "    \n",
    "    shuffle_buffer_size = batch_size * 100\n",
    "    prefetch_buffer_size = 4\n",
    "    files = tf_ix\n",
    "    dataset = {}\n",
    "    num_batches = {}\n",
    "    for split in splits:\n",
    "        dataset[split] = tf.data.TFRecordDataset(files[split])\n",
    "        stars_dataset = tf.data.Dataset.from_tensor_slices(stars[split])\n",
    "        dataset[split] = tf.data.Dataset.zip((dataset[split], stars_dataset))\n",
    "        dataset[split] = dataset[split].shuffle(shuffle_buffer_size, seed=random_seed)\n",
    "        dataset[split] = dataset[split].repeat()\n",
    "        dataset[split] = dataset[split].map(lambda x, y: (_parse_transform(x), _prepare_star(y)), num_parallel_calls=12)\n",
    "        dataset[split] = dataset[split].batch(batch_size)\n",
    "        dataset[split] = dataset[split].prefetch(prefetch_buffer_size)\n",
    "        num_batches[split] = N[split] // batch_size\n",
    "    print('num_batches: {}, batch_size: {}, shuffle_buffer_size: {}, prefetch_buffer_size: {}'.format(num_batches, batch_size, \n",
    "                                                                                 shuffle_buffer_size, prefetch_buffer_size))\n",
    "    return dataset, num_batches"
   ]
  },
  {
   "cell_type": "code",
   "execution_count": 7,
   "metadata": {},
   "outputs": [],
   "source": [
    "# %%time\n",
    "# for i, (x, y) in enumerate(dataset['train']):\n",
    "#     if i == 500:\n",
    "#         break\n",
    "# for i, (x, y) in enumerate(dataset['train']):\n",
    "#     if i == 500:\n",
    "#         break\n",
    "# # Wall time: 30.1 --> 14.2 --> 4.3 s wow (64 batchsize, glovedim = 300)"
   ]
  },
  {
   "cell_type": "code",
   "execution_count": 8,
   "metadata": {},
   "outputs": [],
   "source": [
    "# for x_init, y_init in dataset['train']:break"
   ]
  },
  {
   "cell_type": "markdown",
   "metadata": {},
   "source": [
    "# Models"
   ]
  },
  {
   "cell_type": "markdown",
   "metadata": {},
   "source": [
    "### BabyBlueberry\n",
    "Convolutional Model with GLoVe embeddings."
   ]
  },
  {
   "cell_type": "code",
   "execution_count": 9,
   "metadata": {},
   "outputs": [],
   "source": [
    "@rename('all_acc')\n",
    "def all_class_accuracy(y_true, y_pred):\n",
    "    return tf.keras.metrics.sparse_categorical_accuracy(y_true, y_pred) \n",
    "\n",
    "def one_class_recall(label):\n",
    "    @rename('{}_recalll'.format(label))\n",
    "    def single_class_recall(y_true, y_pred): # (64, 1), (64, 5) should return (64,)\n",
    "        truth = K.flatten(K.cast(y_true, 'int32'))\n",
    "        preds = K.cast(K.argmax(y_pred, axis=-1), 'int32')\n",
    "        recall_mask = K.cast(K.equal(truth, label), 'int32')        \n",
    "        recall = K.cast(K.equal(preds, truth), 'int32') * recall_mask\n",
    "        recall = K.cast(K.sum(recall) / K.maximum(K.sum(recall_mask), 1), 'float32')\n",
    "        return  K.ones(batch_size, dtype='float32') * recall\n",
    "    return single_class_recall\n",
    "\n",
    "def one_class_precision(label):\n",
    "    @rename('{}_precision'.format(label))\n",
    "    def single_class_precision(y_true, y_pred): # (64, 1), (64, 5) should return (64,)\n",
    "        truth = K.flatten(K.cast(y_true, 'int32'))\n",
    "        preds = K.cast(K.argmax(y_pred, axis=-1), 'int32')\n",
    "        precision_mask = K.cast(K.equal(preds, label), 'int32')          \n",
    "        precision = K.cast(K.equal(preds, truth), 'int32') * precision_mask\n",
    "        precision = K.cast(K.sum(precision) / K.maximum(K.sum(precision_mask), 1), 'float32')\n",
    "        return  K.ones(batch_size, dtype='float32') * precision\n",
    "    return single_class_precision"
   ]
  },
  {
   "cell_type": "code",
   "execution_count": 10,
   "metadata": {},
   "outputs": [],
   "source": [
    "star_metrics = [all_class_accuracy]\n",
    "star_metrics += [one_class_recall(i) for i in range(5)] + [one_class_precision(i) for i in range(5)]"
   ]
  },
  {
   "cell_type": "code",
   "execution_count": 11,
   "metadata": {},
   "outputs": [],
   "source": [
    "def get_kernel_spec(filters, height, width):\n",
    "    return {'filters':filters, 'height': height, 'width': width}"
   ]
  },
  {
   "cell_type": "code",
   "execution_count": 12,
   "metadata": {},
   "outputs": [],
   "source": [
    "class BabyBerry:\n",
    "    \n",
    "    def build(dropout_rate, lstm_units, out_units):\n",
    "        ix_input = Input(shape= (max_length,), name='review-ix')\n",
    "        glove_input = Input(shape=(max_length, glove_dim), name='review-embed')\n",
    "        length_input = Input(shape=(1,), name='review-length')\n",
    "        \n",
    "        \n",
    "        embedding = Embedding(input_dim=len(glove_lookup_array), output_dim=glove_dim, \n",
    "                              input_length=max_length, name='trained_embed')(ix_input)\n",
    "                        \n",
    "        average_embedding = Average(name='average_embed')([embedding, glove_input])\n",
    "        \n",
    "        x = LSTM(units=lstm_units, go_backwards=True, name='lstm')(average_embedding)\n",
    "        x = Concatenate(name='concat_conv_lstm')([x, length_input])\n",
    "        x = Dropout(rate=dropout_rate, name='dropout_1')(x)\n",
    "        x = Dense(100, activation='relu', name='dense_1')(x)\n",
    "        out = Dense(out_units, activation='softmax', name='stars')(x)\n",
    "        \n",
    "     \n",
    "        return tf.keras.models.Model(inputs={'review-embed':glove_input, 'review-ix': ix_input, 'review-length':length_input}, \n",
    "                                     outputs={'stars': out}, name='BabyBerry')\n",
    "        \n",
    "    @tf.function\n",
    "    def loss_fn(truth, logits):\n",
    "        loss = tf.keras.losses.sparse_categorical_crossentropy(truth, logits)\n",
    "        return loss"
   ]
  },
  {
   "cell_type": "code",
   "execution_count": 13,
   "metadata": {},
   "outputs": [
    {
     "name": "stdout",
     "output_type": "stream",
     "text": [
      "num_batches: {'train': 15670, 'val': 5223, 'test': 5223}, batch_size: 256, shuffle_buffer_size: 25600, prefetch_buffer_size: 4\n"
     ]
    }
   ],
   "source": [
    "batch_size = 256\n",
    "dataset, num_batches = make_dataset(batch_size=batch_size, to_embed=True, to_ix=True, channelize=False, \n",
    "                                    features={'review-length':get_review_length})"
   ]
  },
  {
   "cell_type": "code",
   "execution_count": 14,
   "metadata": {},
   "outputs": [
    {
     "name": "stderr",
     "output_type": "stream",
     "text": [
      "WARNING: Logging before flag parsing goes to stderr.\n",
      "W0609 16:56:50.811561 140330905569088 tf_logging.py:161] <tensorflow.python.keras.layers.recurrent.UnifiedLSTM object at 0x7fa114bffdd8>: Note that this layer is not optimized for performance. Please use tf.keras.layers.CuDNNLSTM for better performance on GPU.\n"
     ]
    }
   ],
   "source": [
    "baby = BabyBerry.build(dropout_rate=.1, lstm_units=500, out_units=5)\n",
    "adam = tf.keras.optimizers.Adam()\n",
    "baby.compile(optimizer=adam, metrics={'stars': star_metrics} ,loss={'stars': BabyBerry.loss_fn})"
   ]
  },
  {
   "cell_type": "code",
   "execution_count": 15,
   "metadata": {},
   "outputs": [],
   "source": [
    "log_dir = os.path.join(SRC_DIR, 'logs', '{}-LSTM-BabyBerry'.format(datetime.fromtimestamp(time.time()).strftime('%d-%m_%H-%M-%S')))\n",
    "tb = tf.keras.callbacks.TensorBoard(log_dir=log_dir, write_graph=False, update_freq='batch')"
   ]
  },
  {
   "cell_type": "code",
   "execution_count": null,
   "metadata": {},
   "outputs": [
    {
     "name": "stdout",
     "output_type": "stream",
     "text": [
      "Epoch 1/150\n",
      "100/100 [==============================] - 53s 533ms/step - loss: 1.7786 - all_acc: 0.4078 - 0_recalll: 0.0910 - 1_recalll: 0.0146 - 2_recalll: 0.0338 - 3_recalll: 0.1327 - 4_recalll: 0.8255 - 0_precision: 0.1740 - 1_precision: 0.0237 - 2_precision: 0.0732 - 3_precision: 0.2185 - 4_precision: 0.4618 - val_loss: 1.2857 - val_all_acc: 0.4808 - val_0_recalll: 0.3428 - val_1_recalll: 0.0024 - val_2_recalll: 0.0000e+00 - val_3_recalll: 0.0021 - val_4_recalll: 0.9702 - val_0_precision: 0.5287 - val_1_precision: 0.0500 - val_2_precision: 0.0000e+00 - val_3_precision: 0.0767 - val_4_precision: 0.4768\n",
      "Epoch 2/150\n",
      "100/100 [==============================] - 55s 555ms/step - loss: 1.2947 - all_acc: 0.4745 - 0_recalll: 0.3373 - 1_recalll: 0.0228 - 2_recalll: 0.0515 - 3_recalll: 0.1847 - 4_recalll: 0.8594 - 0_precision: 0.3934 - 1_precision: 0.0924 - 2_precision: 0.1760 - 3_precision: 0.3006 - 4_precision: 0.5429 - val_loss: 1.1115 - val_all_acc: 0.5493 - val_0_recalll: 0.5624 - val_1_recalll: 0.1200 - val_2_recalll: 0.4850 - val_3_recalll: 0.2187 - val_4_recalll: 0.8042 - val_0_precision: 0.5289 - val_1_precision: 0.2927 - val_2_precision: 0.2622 - val_3_precision: 0.4168 - val_4_precision: 0.7218\n",
      "Epoch 3/150\n",
      "100/100 [==============================] - 56s 560ms/step - loss: 1.1124 - all_acc: 0.5418 - 0_recalll: 0.7223 - 1_recalll: 0.0483 - 2_recalll: 0.1204 - 3_recalll: 0.2898 - 4_recalll: 0.8198 - 0_precision: 0.5327 - 1_precision: 0.1302 - 2_precision: 0.2719 - 3_precision: 0.3902 - 4_precision: 0.6405 - val_loss: 0.9961 - val_all_acc: 0.5817 - val_0_recalll: 0.7618 - val_1_recalll: 0.0000e+00 - val_2_recalll: 0.4317 - val_3_recalll: 0.2957 - val_4_recalll: 0.8116 - val_0_precision: 0.5887 - val_1_precision: 0.0000e+00 - val_2_precision: 0.2829 - val_3_precision: 0.4097 - val_4_precision: 0.7368\n",
      "Epoch 4/150\n",
      "100/100 [==============================] - 57s 568ms/step - loss: 1.0521 - all_acc: 0.5656 - 0_recalll: 0.7261 - 1_recalll: 0.0649 - 2_recalll: 0.2069 - 3_recalll: 0.3423 - 4_recalll: 0.8144 - 0_precision: 0.5988 - 1_precision: 0.1702 - 2_precision: 0.3089 - 3_precision: 0.4013 - 4_precision: 0.6974 - val_loss: 1.0375 - val_all_acc: 0.5933 - val_0_recalll: 0.7801 - val_1_recalll: 0.0195 - val_2_recalll: 0.0085 - val_3_recalll: 0.4433 - val_4_recalll: 0.8640 - val_0_precision: 0.6400 - val_1_precision: 0.2433 - val_2_precision: 0.1500 - val_3_precision: 0.3550 - val_4_precision: 0.6994\n",
      "Epoch 5/150\n",
      "100/100 [==============================] - 57s 567ms/step - loss: 1.0538 - all_acc: 0.5629 - 0_recalll: 0.6716 - 1_recalll: 0.1271 - 2_recalll: 0.1696 - 3_recalll: 0.3278 - 4_recalll: 0.8390 - 0_precision: 0.5783 - 1_precision: 0.2449 - 2_precision: 0.3153 - 3_precision: 0.3988 - 4_precision: 0.7016 - val_loss: 0.9514 - val_all_acc: 0.5958 - val_0_recalll: 0.7257 - val_1_recalll: 0.3771 - val_2_recalll: 0.2162 - val_3_recalll: 0.3571 - val_4_recalll: 0.8068 - val_0_precision: 0.6263 - val_1_precision: 0.2879 - val_2_precision: 0.3388 - val_3_precision: 0.4430 - val_4_precision: 0.7511\n",
      "Epoch 6/150\n",
      "100/100 [==============================] - 57s 569ms/step - loss: 0.9299 - all_acc: 0.6081 - 0_recalll: 0.7926 - 1_recalll: 0.1494 - 2_recalll: 0.2580 - 3_recalll: 0.3962 - 4_recalll: 0.8374 - 0_precision: 0.6422 - 1_precision: 0.3328 - 2_precision: 0.3550 - 3_precision: 0.4523 - 4_precision: 0.7426 - val_loss: 0.8985 - val_all_acc: 0.6220 - val_0_recalll: 0.6279 - val_1_recalll: 0.5240 - val_2_recalll: 0.1133 - val_3_recalll: 0.5719 - val_4_recalll: 0.7906 - val_0_precision: 0.7604 - val_1_precision: 0.3301 - val_2_precision: 0.4062 - val_3_precision: 0.4516 - val_4_precision: 0.7963\n",
      "Epoch 7/150\n",
      "100/100 [==============================] - 57s 565ms/step - loss: 0.9223 - all_acc: 0.6084 - 0_recalll: 0.7772 - 1_recalll: 0.2194 - 2_recalll: 0.2541 - 3_recalll: 0.4116 - 4_recalll: 0.8313 - 0_precision: 0.6652 - 1_precision: 0.3630 - 2_precision: 0.3547 - 3_precision: 0.4603 - 4_precision: 0.7456 - val_loss: 0.8519 - val_all_acc: 0.6345 - val_0_recalll: 0.6906 - val_1_recalll: 0.3665 - val_2_recalll: 0.3927 - val_3_recalll: 0.3107 - val_4_recalll: 0.8852 - val_0_precision: 0.7277 - val_1_precision: 0.3435 - val_2_precision: 0.3956 - val_3_precision: 0.4952 - val_4_precision: 0.7465\n",
      "Epoch 8/150\n",
      "100/100 [==============================] - 57s 569ms/step - loss: 0.8650 - all_acc: 0.6348 - 0_recalll: 0.8136 - 1_recalll: 0.2125 - 2_recalll: 0.3136 - 3_recalll: 0.4415 - 4_recalll: 0.8372 - 0_precision: 0.6771 - 1_precision: 0.3583 - 2_precision: 0.4060 - 3_precision: 0.4778 - 4_precision: 0.7655 - val_loss: 0.8310 - val_all_acc: 0.6466 - val_0_recalll: 0.8581 - val_1_recalll: 0.1585 - val_2_recalll: 0.3694 - val_3_recalll: 0.4393 - val_4_recalll: 0.8441 - val_0_precision: 0.6355 - val_1_precision: 0.4165 - val_2_precision: 0.4120 - val_3_precision: 0.4877 - val_4_precision: 0.7806\n",
      "Epoch 9/150\n",
      "100/100 [==============================] - 57s 572ms/step - loss: 0.8716 - all_acc: 0.6319 - 0_recalll: 0.8161 - 1_recalll: 0.2304 - 2_recalll: 0.3125 - 3_recalll: 0.4215 - 4_recalll: 0.8377 - 0_precision: 0.6976 - 1_precision: 0.4089 - 2_precision: 0.4149 - 3_precision: 0.4777 - 4_precision: 0.7567 - val_loss: 0.9035 - val_all_acc: 0.6348 - val_0_recalll: 0.7736 - val_1_recalll: 0.2116 - val_2_recalll: 0.3132 - val_3_recalll: 0.2053 - val_4_recalll: 0.9614 - val_0_precision: 0.7000 - val_1_precision: 0.4172 - val_2_precision: 0.4258 - val_3_precision: 0.5006 - val_4_precision: 0.6787\n",
      "Epoch 10/150\n",
      "100/100 [==============================] - 57s 572ms/step - loss: 0.8607 - all_acc: 0.6396 - 0_recalll: 0.7887 - 1_recalll: 0.2110 - 2_recalll: 0.3453 - 3_recalll: 0.4022 - 4_recalll: 0.8561 - 0_precision: 0.7086 - 1_precision: 0.3785 - 2_precision: 0.4116 - 3_precision: 0.4794 - 4_precision: 0.7654 - val_loss: 0.8348 - val_all_acc: 0.6467 - val_0_recalll: 0.8263 - val_1_recalll: 0.3691 - val_2_recalll: 0.2272 - val_3_recalll: 0.2852 - val_4_recalll: 0.9237 - val_0_precision: 0.6877 - val_1_precision: 0.3673 - val_2_precision: 0.4468 - val_3_precision: 0.5072 - val_4_precision: 0.7294\n",
      "Epoch 11/150\n",
      "100/100 [==============================] - 57s 573ms/step - loss: 0.8322 - all_acc: 0.6453 - 0_recalll: 0.8206 - 1_recalll: 0.2092 - 2_recalll: 0.3564 - 3_recalll: 0.4598 - 4_recalll: 0.8436 - 0_precision: 0.6993 - 1_precision: 0.3602 - 2_precision: 0.4270 - 3_precision: 0.5040 - 4_precision: 0.7675 - val_loss: 0.8257 - val_all_acc: 0.6493 - val_0_recalll: 0.8568 - val_1_recalll: 0.3141 - val_2_recalll: 0.3516 - val_3_recalll: 0.5243 - val_4_recalll: 0.7846 - val_0_precision: 0.6838 - val_1_precision: 0.3893 - val_2_precision: 0.4237 - val_3_precision: 0.4841 - val_4_precision: 0.8190\n",
      "Epoch 12/150\n",
      "100/100 [==============================] - 57s 565ms/step - loss: 0.8282 - all_acc: 0.6495 - 0_recalll: 0.8252 - 1_recalll: 0.2244 - 2_recalll: 0.3478 - 3_recalll: 0.4570 - 4_recalll: 0.8460 - 0_precision: 0.7155 - 1_precision: 0.3851 - 2_precision: 0.4291 - 3_precision: 0.5028 - 4_precision: 0.7694 - val_loss: 0.8132 - val_all_acc: 0.6605 - val_0_recalll: 0.8793 - val_1_recalll: 0.2530 - val_2_recalll: 0.2508 - val_3_recalll: 0.3450 - val_4_recalll: 0.9262 - val_0_precision: 0.6761 - val_1_precision: 0.4520 - val_2_precision: 0.4806 - val_3_precision: 0.5016 - val_4_precision: 0.7354\n",
      "Epoch 13/150\n",
      "100/100 [==============================] - 57s 567ms/step - loss: 0.8069 - all_acc: 0.6579 - 0_recalll: 0.8319 - 1_recalll: 0.2414 - 2_recalll: 0.3499 - 3_recalll: 0.4354 - 4_recalll: 0.8611 - 0_precision: 0.7183 - 1_precision: 0.3991 - 2_precision: 0.4319 - 3_precision: 0.5042 - 4_precision: 0.7732 - val_loss: 0.7992 - val_all_acc: 0.6659 - val_0_recalll: 0.8930 - val_1_recalll: 0.3043 - val_2_recalll: 0.3749 - val_3_recalll: 0.4244 - val_4_recalll: 0.8546 - val_0_precision: 0.6645 - val_1_precision: 0.4293 - val_2_precision: 0.4384 - val_3_precision: 0.5323 - val_4_precision: 0.7922\n",
      "Epoch 14/150\n",
      "100/100 [==============================] - 57s 568ms/step - loss: 0.7759 - all_acc: 0.6746 - 0_recalll: 0.8463 - 1_recalll: 0.2642 - 2_recalll: 0.3602 - 3_recalll: 0.4267 - 4_recalll: 0.8686 - 0_precision: 0.7477 - 1_precision: 0.4245 - 2_precision: 0.4396 - 3_precision: 0.5107 - 4_precision: 0.7797 - val_loss: 0.7860 - val_all_acc: 0.6690 - val_0_recalll: 0.9006 - val_1_recalll: 0.1335 - val_2_recalll: 0.4996 - val_3_recalll: 0.3698 - val_4_recalll: 0.8879 - val_0_precision: 0.6482 - val_1_precision: 0.4941 - val_2_precision: 0.4416 - val_3_precision: 0.5580 - val_4_precision: 0.7743\n",
      "Epoch 15/150\n",
      "100/100 [==============================] - 57s 574ms/step - loss: 0.7682 - all_acc: 0.6795 - 0_recalll: 0.8574 - 1_recalll: 0.2581 - 2_recalll: 0.3204 - 3_recalll: 0.4526 - 4_recalll: 0.8706 - 0_precision: 0.7517 - 1_precision: 0.3936 - 2_precision: 0.4198 - 3_precision: 0.5234 - 4_precision: 0.7879 - val_loss: 0.8049 - val_all_acc: 0.6566 - val_0_recalll: 0.9394 - val_1_recalll: 0.1535 - val_2_recalll: 0.3088 - val_3_recalll: 0.3642 - val_4_recalll: 0.8945 - val_0_precision: 0.5739 - val_1_precision: 0.4225 - val_2_precision: 0.4567 - val_3_precision: 0.5427 - val_4_precision: 0.7682\n",
      "Epoch 16/150\n",
      "100/100 [==============================] - 57s 569ms/step - loss: 0.7846 - all_acc: 0.6676 - 0_recalll: 0.8425 - 1_recalll: 0.2489 - 2_recalll: 0.3577 - 3_recalll: 0.4474 - 4_recalll: 0.8639 - 0_precision: 0.7330 - 1_precision: 0.4052 - 2_precision: 0.4393 - 3_precision: 0.5106 - 4_precision: 0.7860 - val_loss: 0.7917 - val_all_acc: 0.6585 - val_0_recalll: 0.7871 - val_1_recalll: 0.3180 - val_2_recalll: 0.3782 - val_3_recalll: 0.3571 - val_4_recalll: 0.8991 - val_0_precision: 0.7369 - val_1_precision: 0.3898 - val_2_precision: 0.4532 - val_3_precision: 0.5017 - val_4_precision: 0.7505\n",
      "Epoch 17/150\n",
      "100/100 [==============================] - 57s 567ms/step - loss: 0.7981 - all_acc: 0.6606 - 0_recalll: 0.8194 - 1_recalll: 0.2827 - 2_recalll: 0.3640 - 3_recalll: 0.4524 - 4_recalll: 0.8536 - 0_precision: 0.7356 - 1_precision: 0.3985 - 2_precision: 0.4607 - 3_precision: 0.5207 - 4_precision: 0.7755 - val_loss: 0.8017 - val_all_acc: 0.6686 - val_0_recalll: 0.8368 - val_1_recalll: 0.2050 - val_2_recalll: 0.4881 - val_3_recalll: 0.2927 - val_4_recalll: 0.9321 - val_0_precision: 0.7304 - val_1_precision: 0.4681 - val_2_precision: 0.4435 - val_3_precision: 0.5509 - val_4_precision: 0.7354\n",
      "Epoch 18/150\n",
      "100/100 [==============================] - 57s 572ms/step - loss: 0.7860 - all_acc: 0.6657 - 0_recalll: 0.8343 - 1_recalll: 0.2897 - 2_recalll: 0.3750 - 3_recalll: 0.4385 - 4_recalll: 0.8650 - 0_precision: 0.7330 - 1_precision: 0.4075 - 2_precision: 0.4583 - 3_precision: 0.5236 - 4_precision: 0.7745 - val_loss: 0.7827 - val_all_acc: 0.6688 - val_0_recalll: 0.8372 - val_1_recalll: 0.1996 - val_2_recalll: 0.5462 - val_3_recalll: 0.5320 - val_4_recalll: 0.8043 - val_0_precision: 0.7225 - val_1_precision: 0.4890 - val_2_precision: 0.4175 - val_3_precision: 0.5135 - val_4_precision: 0.8292\n",
      "Epoch 19/150\n",
      "100/100 [==============================] - 57s 566ms/step - loss: 0.7770 - all_acc: 0.6714 - 0_recalll: 0.8276 - 1_recalll: 0.2963 - 2_recalll: 0.3865 - 3_recalll: 0.4790 - 4_recalll: 0.8579 - 0_precision: 0.7328 - 1_precision: 0.4444 - 2_precision: 0.4593 - 3_precision: 0.5348 - 4_precision: 0.7875 - val_loss: 0.7856 - val_all_acc: 0.6617 - val_0_recalll: 0.7053 - val_1_recalll: 0.5947 - val_2_recalll: 0.1941 - val_3_recalll: 0.3803 - val_4_recalll: 0.9129 - val_0_precision: 0.7812 - val_1_precision: 0.3664 - val_2_precision: 0.5040 - val_3_precision: 0.5284 - val_4_precision: 0.7592\n",
      "Epoch 20/150\n",
      "100/100 [==============================] - 57s 575ms/step - loss: 0.7758 - all_acc: 0.6716 - 0_recalll: 0.8417 - 1_recalll: 0.2885 - 2_recalll: 0.3875 - 3_recalll: 0.4328 - 4_recalll: 0.8687 - 0_precision: 0.7355 - 1_precision: 0.4122 - 2_precision: 0.4672 - 3_precision: 0.5183 - 4_precision: 0.7842 - val_loss: 0.7781 - val_all_acc: 0.6748 - val_0_recalll: 0.7407 - val_1_recalll: 0.3393 - val_2_recalll: 0.3496 - val_3_recalll: 0.5582 - val_4_recalll: 0.8563 - val_0_precision: 0.7865 - val_1_precision: 0.4421 - val_2_precision: 0.4737 - val_3_precision: 0.5037 - val_4_precision: 0.7955\n",
      "Epoch 21/150\n",
      "100/100 [==============================] - 57s 571ms/step - loss: 0.7587 - all_acc: 0.6804 - 0_recalll: 0.8389 - 1_recalll: 0.3388 - 2_recalll: 0.3941 - 3_recalll: 0.4744 - 4_recalll: 0.8653 - 0_precision: 0.7478 - 1_precision: 0.4588 - 2_precision: 0.4770 - 3_precision: 0.5547 - 4_precision: 0.7881 - val_loss: 0.7719 - val_all_acc: 0.6756 - val_0_recalll: 0.8342 - val_1_recalll: 0.3026 - val_2_recalll: 0.4773 - val_3_recalll: 0.3793 - val_4_recalll: 0.8918 - val_0_precision: 0.7264 - val_1_precision: 0.4573 - val_2_precision: 0.4579 - val_3_precision: 0.5470 - val_4_precision: 0.7706\n",
      "Epoch 22/150\n",
      "100/100 [==============================] - 57s 569ms/step - loss: 0.7640 - all_acc: 0.6739 - 0_recalll: 0.8330 - 1_recalll: 0.3261 - 2_recalll: 0.3882 - 3_recalll: 0.4738 - 4_recalll: 0.8600 - 0_precision: 0.7438 - 1_precision: 0.4545 - 2_precision: 0.4839 - 3_precision: 0.5307 - 4_precision: 0.7854 - val_loss: 0.7572 - val_all_acc: 0.6705 - val_0_recalll: 0.7758 - val_1_recalll: 0.4331 - val_2_recalll: 0.5169 - val_3_recalll: 0.2712 - val_4_recalll: 0.9150 - val_0_precision: 0.7625 - val_1_precision: 0.4312 - val_2_precision: 0.4340 - val_3_precision: 0.5743 - val_4_precision: 0.7608\n",
      "Epoch 23/150\n",
      "100/100 [==============================] - 58s 576ms/step - loss: 0.7499 - all_acc: 0.6793 - 0_recalll: 0.8556 - 1_recalll: 0.3051 - 2_recalll: 0.4038 - 3_recalll: 0.4421 - 4_recalll: 0.8714 - 0_precision: 0.7501 - 1_precision: 0.4441 - 2_precision: 0.4827 - 3_precision: 0.5316 - 4_precision: 0.7879 - val_loss: 0.7547 - val_all_acc: 0.6779 - val_0_recalll: 0.8119 - val_1_recalll: 0.1699 - val_2_recalll: 0.4271 - val_3_recalll: 0.5255 - val_4_recalll: 0.8705 - val_0_precision: 0.7413 - val_1_precision: 0.5030 - val_2_precision: 0.4511 - val_3_precision: 0.5165 - val_4_precision: 0.7910\n",
      "Epoch 24/150\n",
      "100/100 [==============================] - 57s 569ms/step - loss: 0.7419 - all_acc: 0.6859 - 0_recalll: 0.8395 - 1_recalll: 0.3070 - 2_recalll: 0.3873 - 3_recalll: 0.4875 - 4_recalll: 0.8729 - 0_precision: 0.7473 - 1_precision: 0.4242 - 2_precision: 0.4838 - 3_precision: 0.5546 - 4_precision: 0.7935 - val_loss: 0.7394 - val_all_acc: 0.6818 - val_0_recalll: 0.7529 - val_1_recalll: 0.4711 - val_2_recalll: 0.3725 - val_3_recalll: 0.4438 - val_4_recalll: 0.8919 - val_0_precision: 0.7763 - val_1_precision: 0.4081 - val_2_precision: 0.5005 - val_3_precision: 0.5530 - val_4_precision: 0.7834\n",
      "Epoch 25/150\n",
      "100/100 [==============================] - 57s 575ms/step - loss: 0.7368 - all_acc: 0.6866 - 0_recalll: 0.8296 - 1_recalll: 0.3363 - 2_recalll: 0.3984 - 3_recalll: 0.4879 - 4_recalll: 0.8677 - 0_precision: 0.7513 - 1_precision: 0.4648 - 2_precision: 0.4825 - 3_precision: 0.5472 - 4_precision: 0.7923 - val_loss: 0.7389 - val_all_acc: 0.6870 - val_0_recalll: 0.8938 - val_1_recalll: 0.1503 - val_2_recalll: 0.4400 - val_3_recalll: 0.4799 - val_4_recalll: 0.8874 - val_0_precision: 0.6831 - val_1_precision: 0.5267 - val_2_precision: 0.4886 - val_3_precision: 0.5459 - val_4_precision: 0.7907\n",
      "Epoch 26/150\n",
      "100/100 [==============================] - 57s 568ms/step - loss: 0.7349 - all_acc: 0.6909 - 0_recalll: 0.8417 - 1_recalll: 0.3617 - 2_recalll: 0.4175 - 3_recalll: 0.4805 - 4_recalll: 0.8693 - 0_precision: 0.7559 - 1_precision: 0.4787 - 2_precision: 0.4976 - 3_precision: 0.5489 - 4_precision: 0.7940 - val_loss: 0.7383 - val_all_acc: 0.6892 - val_0_recalll: 0.8674 - val_1_recalll: 0.4420 - val_2_recalll: 0.2773 - val_3_recalll: 0.4949 - val_4_recalll: 0.8780 - val_0_precision: 0.7053 - val_1_precision: 0.4287 - val_2_precision: 0.5499 - val_3_precision: 0.5519 - val_4_precision: 0.8017\n",
      "Epoch 27/150\n",
      "100/100 [==============================] - 58s 578ms/step - loss: 0.7319 - all_acc: 0.6920 - 0_recalll: 0.8648 - 1_recalll: 0.3416 - 2_recalll: 0.4037 - 3_recalll: 0.4699 - 4_recalll: 0.8703 - 0_precision: 0.7624 - 1_precision: 0.4956 - 2_precision: 0.4969 - 3_precision: 0.5431 - 4_precision: 0.7919 - val_loss: 0.7379 - val_all_acc: 0.6830 - val_0_recalll: 0.7715 - val_1_recalll: 0.5354 - val_2_recalll: 0.4296 - val_3_recalll: 0.4900 - val_4_recalll: 0.8396 - val_0_precision: 0.7760 - val_1_precision: 0.4222 - val_2_precision: 0.4743 - val_3_precision: 0.5500 - val_4_precision: 0.8201\n",
      "Epoch 28/150\n",
      "100/100 [==============================] - 57s 574ms/step - loss: 0.7156 - all_acc: 0.6954 - 0_recalll: 0.8664 - 1_recalll: 0.3082 - 2_recalll: 0.4205 - 3_recalll: 0.4682 - 4_recalll: 0.8724 - 0_precision: 0.7761 - 1_precision: 0.4308 - 2_precision: 0.5001 - 3_precision: 0.5472 - 4_precision: 0.7927 - val_loss: 0.7557 - val_all_acc: 0.6803 - val_0_recalll: 0.8917 - val_1_recalll: 0.4470 - val_2_recalll: 0.2529 - val_3_recalll: 0.4443 - val_4_recalll: 0.8792 - val_0_precision: 0.6953 - val_1_precision: 0.3706 - val_2_precision: 0.4988 - val_3_precision: 0.5734 - val_4_precision: 0.7975\n",
      "Epoch 29/150\n",
      "100/100 [==============================] - 57s 568ms/step - loss: 0.7256 - all_acc: 0.6941 - 0_recalll: 0.8535 - 1_recalll: 0.3343 - 2_recalll: 0.3880 - 3_recalll: 0.4959 - 4_recalll: 0.8713 - 0_precision: 0.7663 - 1_precision: 0.4891 - 2_precision: 0.4946 - 3_precision: 0.5558 - 4_precision: 0.7986 - val_loss: 0.7358 - val_all_acc: 0.6785 - val_0_recalll: 0.6938 - val_1_recalll: 0.6045 - val_2_recalll: 0.3042 - val_3_recalll: 0.4360 - val_4_recalll: 0.8988 - val_0_precision: 0.8146 - val_1_precision: 0.3999 - val_2_precision: 0.5055 - val_3_precision: 0.5510 - val_4_precision: 0.7814\n",
      "Epoch 30/150\n",
      "100/100 [==============================] - 57s 572ms/step - loss: 0.7338 - all_acc: 0.6839 - 0_recalll: 0.8316 - 1_recalll: 0.3438 - 2_recalll: 0.4358 - 3_recalll: 0.4610 - 4_recalll: 0.8657 - 0_precision: 0.7514 - 1_precision: 0.4592 - 2_precision: 0.5087 - 3_precision: 0.5396 - 4_precision: 0.7912 - val_loss: 0.7254 - val_all_acc: 0.6859 - val_0_recalll: 0.8000 - val_1_recalll: 0.5475 - val_2_recalll: 0.2312 - val_3_recalll: 0.4563 - val_4_recalll: 0.9002 - val_0_precision: 0.7639 - val_1_precision: 0.4180 - val_2_precision: 0.5577 - val_3_precision: 0.5490 - val_4_precision: 0.7810\n",
      "Epoch 31/150\n",
      "100/100 [==============================] - 57s 568ms/step - loss: 0.7307 - all_acc: 0.6902 - 0_recalll: 0.8438 - 1_recalll: 0.3717 - 2_recalll: 0.3991 - 3_recalll: 0.4729 - 4_recalll: 0.8778 - 0_precision: 0.7636 - 1_precision: 0.4692 - 2_precision: 0.5071 - 3_precision: 0.5606 - 4_precision: 0.7901 - val_loss: 0.7333 - val_all_acc: 0.6833 - val_0_recalll: 0.7452 - val_1_recalll: 0.5987 - val_2_recalll: 0.3239 - val_3_recalll: 0.5742 - val_4_recalll: 0.8230 - val_0_precision: 0.7956 - val_1_precision: 0.4080 - val_2_precision: 0.4962 - val_3_precision: 0.5369 - val_4_precision: 0.8367\n",
      "Epoch 32/150\n",
      "100/100 [==============================] - 57s 573ms/step - loss: 0.7344 - all_acc: 0.6874 - 0_recalll: 0.8453 - 1_recalll: 0.3627 - 2_recalll: 0.4230 - 3_recalll: 0.4907 - 4_recalll: 0.8617 - 0_precision: 0.7655 - 1_precision: 0.4743 - 2_precision: 0.4994 - 3_precision: 0.5535 - 4_precision: 0.7895 - val_loss: 0.7349 - val_all_acc: 0.6798 - val_0_recalll: 0.7348 - val_1_recalll: 0.5933 - val_2_recalll: 0.3806 - val_3_recalll: 0.3122 - val_4_recalll: 0.9315 - val_0_precision: 0.7993 - val_1_precision: 0.4162 - val_2_precision: 0.5016 - val_3_precision: 0.6058 - val_4_precision: 0.7515\n",
      "Epoch 33/150\n",
      "100/100 [==============================] - 57s 571ms/step - loss: 0.6996 - all_acc: 0.7026 - 0_recalll: 0.8623 - 1_recalll: 0.3519 - 2_recalll: 0.4323 - 3_recalll: 0.4817 - 4_recalll: 0.8742 - 0_precision: 0.7774 - 1_precision: 0.4793 - 2_precision: 0.5086 - 3_precision: 0.5648 - 4_precision: 0.7981 - val_loss: 0.7128 - val_all_acc: 0.6950 - val_0_recalll: 0.8830 - val_1_recalll: 0.2635 - val_2_recalll: 0.4541 - val_3_recalll: 0.5656 - val_4_recalll: 0.8425 - val_0_precision: 0.7053 - val_1_precision: 0.5277 - val_2_precision: 0.5062 - val_3_precision: 0.5411 - val_4_precision: 0.8248\n",
      "Epoch 34/150\n",
      "100/100 [==============================] - 57s 574ms/step - loss: 0.7012 - all_acc: 0.7013 - 0_recalll: 0.8613 - 1_recalll: 0.3400 - 2_recalll: 0.4169 - 3_recalll: 0.4938 - 4_recalll: 0.8732 - 0_precision: 0.7701 - 1_precision: 0.4633 - 2_precision: 0.4983 - 3_precision: 0.5637 - 4_precision: 0.8074 - val_loss: 0.7130 - val_all_acc: 0.6969 - val_0_recalll: 0.8635 - val_1_recalll: 0.3954 - val_2_recalll: 0.3884 - val_3_recalll: 0.4074 - val_4_recalll: 0.9212 - val_0_precision: 0.7368 - val_1_precision: 0.4758 - val_2_precision: 0.5347 - val_3_precision: 0.5874 - val_4_precision: 0.7694\n",
      "Epoch 35/150\n",
      "100/100 [==============================] - 58s 576ms/step - loss: 0.7081 - all_acc: 0.6968 - 0_recalll: 0.8498 - 1_recalll: 0.3650 - 2_recalll: 0.4304 - 3_recalll: 0.4966 - 4_recalll: 0.8687 - 0_precision: 0.7655 - 1_precision: 0.4820 - 2_precision: 0.5066 - 3_precision: 0.5666 - 4_precision: 0.8031 - val_loss: 0.7107 - val_all_acc: 0.6970 - val_0_recalll: 0.8507 - val_1_recalll: 0.2998 - val_2_recalll: 0.4386 - val_3_recalll: 0.5970 - val_4_recalll: 0.8384 - val_0_precision: 0.7538 - val_1_precision: 0.5394 - val_2_precision: 0.5059 - val_3_precision: 0.5290 - val_4_precision: 0.8254\n",
      "Epoch 36/150\n",
      "100/100 [==============================] - 57s 570ms/step - loss: 0.7126 - all_acc: 0.6989 - 0_recalll: 0.8482 - 1_recalll: 0.3790 - 2_recalll: 0.4333 - 3_recalll: 0.4892 - 4_recalll: 0.8760 - 0_precision: 0.7627 - 1_precision: 0.4842 - 2_precision: 0.5221 - 3_precision: 0.5653 - 4_precision: 0.7963 - val_loss: 0.7268 - val_all_acc: 0.6938 - val_0_recalll: 0.8816 - val_1_recalll: 0.3148 - val_2_recalll: 0.6058 - val_3_recalll: 0.3439 - val_4_recalll: 0.9005 - val_0_precision: 0.7330 - val_1_precision: 0.5397 - val_2_precision: 0.4497 - val_3_precision: 0.6046 - val_4_precision: 0.7913\n",
      "Epoch 37/150\n",
      "100/100 [==============================] - 58s 575ms/step - loss: 0.7543 - all_acc: 0.6858 - 0_recalll: 0.8396 - 1_recalll: 0.3226 - 2_recalll: 0.4037 - 3_recalll: 0.4451 - 4_recalll: 0.8753 - 0_precision: 0.7624 - 1_precision: 0.4691 - 2_precision: 0.4900 - 3_precision: 0.5438 - 4_precision: 0.7848 - val_loss: 0.7226 - val_all_acc: 0.6912 - val_0_recalll: 0.8948 - val_1_recalll: 0.2379 - val_2_recalll: 0.4040 - val_3_recalll: 0.6082 - val_4_recalll: 0.8268 - val_0_precision: 0.7054 - val_1_precision: 0.5271 - val_2_precision: 0.5223 - val_3_precision: 0.5214 - val_4_precision: 0.8297\n",
      "Epoch 38/150\n",
      "100/100 [==============================] - 57s 571ms/step - loss: 0.6980 - all_acc: 0.7045 - 0_recalll: 0.8686 - 1_recalll: 0.3543 - 2_recalll: 0.4052 - 3_recalll: 0.4784 - 4_recalll: 0.8744 - 0_precision: 0.7787 - 1_precision: 0.4766 - 2_precision: 0.4999 - 3_precision: 0.5516 - 4_precision: 0.8013 - val_loss: 0.7146 - val_all_acc: 0.6952 - val_0_recalll: 0.8714 - val_1_recalll: 0.2114 - val_2_recalll: 0.4450 - val_3_recalll: 0.5642 - val_4_recalll: 0.8602 - val_0_precision: 0.7329 - val_1_precision: 0.5314 - val_2_precision: 0.5060 - val_3_precision: 0.5343 - val_4_precision: 0.8126\n",
      "Epoch 39/150\n",
      "100/100 [==============================] - 58s 576ms/step - loss: 0.7006 - all_acc: 0.7046 - 0_recalll: 0.8526 - 1_recalll: 0.3419 - 2_recalll: 0.4463 - 3_recalll: 0.4817 - 4_recalll: 0.8825 - 0_precision: 0.7684 - 1_precision: 0.4684 - 2_precision: 0.5287 - 3_precision: 0.5718 - 4_precision: 0.7996 - val_loss: 0.7215 - val_all_acc: 0.6894 - val_0_recalll: 0.6509 - val_1_recalll: 0.6237 - val_2_recalll: 0.3402 - val_3_recalll: 0.5065 - val_4_recalll: 0.8895 - val_0_precision: 0.8396 - val_1_precision: 0.4077 - val_2_precision: 0.5480 - val_3_precision: 0.5666 - val_4_precision: 0.7964\n",
      "Epoch 40/150\n",
      "100/100 [==============================] - 58s 579ms/step - loss: 0.7094 - all_acc: 0.7014 - 0_recalll: 0.8374 - 1_recalll: 0.3759 - 2_recalll: 0.4533 - 3_recalll: 0.4964 - 4_recalll: 0.8768 - 0_precision: 0.7583 - 1_precision: 0.4937 - 2_precision: 0.5386 - 3_precision: 0.5740 - 4_precision: 0.8006 - val_loss: 0.7170 - val_all_acc: 0.6927 - val_0_recalll: 0.7903 - val_1_recalll: 0.3025 - val_2_recalll: 0.5162 - val_3_recalll: 0.6196 - val_4_recalll: 0.8172 - val_0_precision: 0.7929 - val_1_precision: 0.4939 - val_2_precision: 0.4889 - val_3_precision: 0.5246 - val_4_precision: 0.8389\n",
      "Epoch 41/150\n",
      "100/100 [==============================] - 57s 572ms/step - loss: 0.7073 - all_acc: 0.6990 - 0_recalll: 0.8456 - 1_recalll: 0.3863 - 2_recalll: 0.4237 - 3_recalll: 0.5162 - 4_recalll: 0.8705 - 0_precision: 0.7658 - 1_precision: 0.5062 - 2_precision: 0.5140 - 3_precision: 0.5741 - 4_precision: 0.7976 - val_loss: 0.7023 - val_all_acc: 0.7005 - val_0_recalll: 0.8398 - val_1_recalll: 0.4490 - val_2_recalll: 0.4728 - val_3_recalll: 0.4815 - val_4_recalll: 0.8688 - val_0_precision: 0.7420 - val_1_precision: 0.4793 - val_2_precision: 0.5049 - val_3_precision: 0.5778 - val_4_precision: 0.8143\n",
      "Epoch 42/150\n",
      "100/100 [==============================] - 58s 577ms/step - loss: 0.7036 - all_acc: 0.7025 - 0_recalll: 0.8567 - 1_recalll: 0.3767 - 2_recalll: 0.4448 - 3_recalll: 0.4916 - 4_recalll: 0.8793 - 0_precision: 0.7637 - 1_precision: 0.4980 - 2_precision: 0.5298 - 3_precision: 0.5675 - 4_precision: 0.8023 - val_loss: 0.6916 - val_all_acc: 0.7066 - val_0_recalll: 0.8375 - val_1_recalll: 0.4136 - val_2_recalll: 0.4335 - val_3_recalll: 0.4944 - val_4_recalll: 0.8943 - val_0_precision: 0.7659 - val_1_precision: 0.5103 - val_2_precision: 0.5619 - val_3_precision: 0.5687 - val_4_precision: 0.7931\n",
      "Epoch 43/150\n",
      "100/100 [==============================] - 57s 573ms/step - loss: 0.7000 - all_acc: 0.7015 - 0_recalll: 0.8382 - 1_recalll: 0.3921 - 2_recalll: 0.4558 - 3_recalll: 0.4868 - 4_recalll: 0.8805 - 0_precision: 0.7521 - 1_precision: 0.5141 - 2_precision: 0.5242 - 3_precision: 0.5677 - 4_precision: 0.8027 - val_loss: 0.6903 - val_all_acc: 0.7027 - val_0_recalll: 0.8299 - val_1_recalll: 0.4008 - val_2_recalll: 0.4729 - val_3_recalll: 0.4406 - val_4_recalll: 0.9061 - val_0_precision: 0.7595 - val_1_precision: 0.5009 - val_2_precision: 0.5351 - val_3_precision: 0.5875 - val_4_precision: 0.7813\n",
      "Epoch 44/150\n",
      "100/100 [==============================] - 57s 574ms/step - loss: 0.7081 - all_acc: 0.6984 - 0_recalll: 0.8335 - 1_recalll: 0.3881 - 2_recalll: 0.4582 - 3_recalll: 0.4932 - 4_recalll: 0.8775 - 0_precision: 0.7480 - 1_precision: 0.5184 - 2_precision: 0.5286 - 3_precision: 0.5728 - 4_precision: 0.8009 - val_loss: 0.7081 - val_all_acc: 0.6968 - val_0_recalll: 0.8192 - val_1_recalll: 0.5163 - val_2_recalll: 0.4693 - val_3_recalll: 0.5365 - val_4_recalll: 0.8280 - val_0_precision: 0.7587 - val_1_precision: 0.4625 - val_2_precision: 0.5045 - val_3_precision: 0.5607 - val_4_precision: 0.8356\n",
      "Epoch 45/150\n",
      "100/100 [==============================] - 57s 573ms/step - loss: 0.6915 - all_acc: 0.7063 - 0_recalll: 0.8461 - 1_recalll: 0.4036 - 2_recalll: 0.4543 - 3_recalll: 0.5130 - 4_recalll: 0.8766 - 0_precision: 0.7675 - 1_precision: 0.4977 - 2_precision: 0.5352 - 3_precision: 0.5778 - 4_precision: 0.8085 - val_loss: 0.6906 - val_all_acc: 0.7045 - val_0_recalll: 0.8450 - val_1_recalll: 0.3261 - val_2_recalll: 0.5092 - val_3_recalll: 0.4369 - val_4_recalll: 0.9131 - val_0_precision: 0.7551 - val_1_precision: 0.5462 - val_2_precision: 0.5251 - val_3_precision: 0.5860 - val_4_precision: 0.7794\n",
      "Epoch 46/150\n",
      "100/100 [==============================] - 57s 573ms/step - loss: 0.6936 - all_acc: 0.7045 - 0_recalll: 0.8434 - 1_recalll: 0.3829 - 2_recalll: 0.4615 - 3_recalll: 0.4982 - 4_recalll: 0.8800 - 0_precision: 0.7641 - 1_precision: 0.5073 - 2_precision: 0.5303 - 3_precision: 0.5750 - 4_precision: 0.8029 - val_loss: 0.6948 - val_all_acc: 0.7015 - val_0_recalll: 0.7955 - val_1_recalll: 0.3797 - val_2_recalll: 0.4407 - val_3_recalll: 0.5311 - val_4_recalll: 0.8824 - val_0_precision: 0.7832 - val_1_precision: 0.5073 - val_2_precision: 0.5307 - val_3_precision: 0.5545 - val_4_precision: 0.7975\n",
      "Epoch 47/150\n",
      "100/100 [==============================] - 57s 573ms/step - loss: 0.6858 - all_acc: 0.7073 - 0_recalll: 0.8520 - 1_recalll: 0.4172 - 2_recalll: 0.4487 - 3_recalll: 0.5099 - 4_recalll: 0.8748 - 0_precision: 0.7753 - 1_precision: 0.5159 - 2_precision: 0.5351 - 3_precision: 0.5763 - 4_precision: 0.8042 - val_loss: 0.6865 - val_all_acc: 0.7064 - val_0_recalll: 0.8481 - val_1_recalll: 0.4322 - val_2_recalll: 0.3870 - val_3_recalll: 0.5300 - val_4_recalll: 0.8814 - val_0_precision: 0.7537 - val_1_precision: 0.5002 - val_2_precision: 0.5657 - val_3_precision: 0.5610 - val_4_precision: 0.8059\n",
      "Epoch 48/150\n",
      "100/100 [==============================] - 57s 570ms/step - loss: 0.6929 - all_acc: 0.7075 - 0_recalll: 0.8577 - 1_recalll: 0.3620 - 2_recalll: 0.4624 - 3_recalll: 0.4967 - 4_recalll: 0.8818 - 0_precision: 0.7601 - 1_precision: 0.4949 - 2_precision: 0.5435 - 3_precision: 0.5795 - 4_precision: 0.8036 - val_loss: 0.7129 - val_all_acc: 0.6933 - val_0_recalll: 0.7122 - val_1_recalll: 0.4546 - val_2_recalll: 0.5723 - val_3_recalll: 0.6050 - val_4_recalll: 0.8062 - val_0_precision: 0.8208 - val_1_precision: 0.4788 - val_2_precision: 0.4934 - val_3_precision: 0.5411 - val_4_precision: 0.8448\n",
      "Epoch 49/150\n",
      "100/100 [==============================] - 58s 576ms/step - loss: 0.7001 - all_acc: 0.7020 - 0_recalll: 0.8493 - 1_recalll: 0.3751 - 2_recalll: 0.4453 - 3_recalll: 0.5112 - 4_recalll: 0.8751 - 0_precision: 0.7692 - 1_precision: 0.5047 - 2_precision: 0.5189 - 3_precision: 0.5727 - 4_precision: 0.8026 - val_loss: 0.6855 - val_all_acc: 0.7120 - val_0_recalll: 0.8585 - val_1_recalll: 0.3820 - val_2_recalll: 0.5049 - val_3_recalll: 0.4844 - val_4_recalll: 0.8928 - val_0_precision: 0.7393 - val_1_precision: 0.5090 - val_2_precision: 0.5560 - val_3_precision: 0.5995 - val_4_precision: 0.8013\n",
      "Epoch 50/150\n",
      "100/100 [==============================] - 56s 565ms/step - loss: 0.7014 - all_acc: 0.6989 - 0_recalll: 0.8406 - 1_recalll: 0.3632 - 2_recalll: 0.4494 - 3_recalll: 0.5086 - 4_recalll: 0.8723 - 0_precision: 0.7627 - 1_precision: 0.4837 - 2_precision: 0.5204 - 3_precision: 0.5816 - 4_precision: 0.7968 - val_loss: 0.6806 - val_all_acc: 0.7111 - val_0_recalll: 0.8610 - val_1_recalll: 0.4325 - val_2_recalll: 0.4014 - val_3_recalll: 0.5112 - val_4_recalll: 0.8925 - val_0_precision: 0.7435 - val_1_precision: 0.5214 - val_2_precision: 0.5593 - val_3_precision: 0.5768 - val_4_precision: 0.8043\n",
      "Epoch 51/150\n",
      "100/100 [==============================] - 58s 577ms/step - loss: 0.6876 - all_acc: 0.7062 - 0_recalll: 0.8561 - 1_recalll: 0.3850 - 2_recalll: 0.4477 - 3_recalll: 0.5215 - 4_recalll: 0.8755 - 0_precision: 0.7633 - 1_precision: 0.5185 - 2_precision: 0.5189 - 3_precision: 0.5882 - 4_precision: 0.8063 - val_loss: 0.6902 - val_all_acc: 0.7056 - val_0_recalll: 0.8458 - val_1_recalll: 0.5108 - val_2_recalll: 0.4002 - val_3_recalll: 0.3799 - val_4_recalll: 0.9340 - val_0_precision: 0.7597 - val_1_precision: 0.4859 - val_2_precision: 0.5661 - val_3_precision: 0.6208 - val_4_precision: 0.7683\n",
      "Epoch 52/150\n",
      "100/100 [==============================] - 57s 574ms/step - loss: 0.7032 - all_acc: 0.6976 - 0_recalll: 0.8346 - 1_recalll: 0.4017 - 2_recalll: 0.4415 - 3_recalll: 0.5073 - 4_recalll: 0.8690 - 0_precision: 0.7723 - 1_precision: 0.5042 - 2_precision: 0.5347 - 3_precision: 0.5765 - 4_precision: 0.7958 - val_loss: 0.6881 - val_all_acc: 0.7099 - val_0_recalll: 0.8831 - val_1_recalll: 0.2901 - val_2_recalll: 0.6124 - val_3_recalll: 0.5279 - val_4_recalll: 0.8503 - val_0_precision: 0.7295 - val_1_precision: 0.5639 - val_2_precision: 0.5029 - val_3_precision: 0.5878 - val_4_precision: 0.8326\n",
      "Epoch 53/150\n",
      "100/100 [==============================] - 57s 570ms/step - loss: 0.6854 - all_acc: 0.7088 - 0_recalll: 0.8542 - 1_recalll: 0.4123 - 2_recalll: 0.4689 - 3_recalll: 0.5215 - 4_recalll: 0.8741 - 0_precision: 0.7679 - 1_precision: 0.5337 - 2_precision: 0.5436 - 3_precision: 0.5855 - 4_precision: 0.8037 - val_loss: 0.6811 - val_all_acc: 0.7072 - val_0_recalll: 0.8161 - val_1_recalll: 0.4629 - val_2_recalll: 0.4668 - val_3_recalll: 0.5964 - val_4_recalll: 0.8340 - val_0_precision: 0.7716 - val_1_precision: 0.4957 - val_2_precision: 0.5648 - val_3_precision: 0.5520 - val_4_precision: 0.8355\n",
      "Epoch 54/150\n",
      "100/100 [==============================] - 57s 575ms/step - loss: 0.6971 - all_acc: 0.7011 - 0_recalll: 0.8577 - 1_recalll: 0.3645 - 2_recalll: 0.4972 - 3_recalll: 0.5237 - 4_recalll: 0.8602 - 0_precision: 0.7769 - 1_precision: 0.5202 - 2_precision: 0.5328 - 3_precision: 0.5758 - 4_precision: 0.8012 - val_loss: 0.6824 - val_all_acc: 0.7095 - val_0_recalll: 0.8086 - val_1_recalll: 0.5597 - val_2_recalll: 0.4505 - val_3_recalll: 0.4946 - val_4_recalll: 0.8764 - val_0_precision: 0.7772 - val_1_precision: 0.4735 - val_2_precision: 0.5460 - val_3_precision: 0.5952 - val_4_precision: 0.8127\n",
      "Epoch 55/150\n",
      "100/100 [==============================] - 57s 571ms/step - loss: 0.6903 - all_acc: 0.7023 - 0_recalll: 0.8623 - 1_recalll: 0.4006 - 2_recalll: 0.4566 - 3_recalll: 0.5132 - 4_recalll: 0.8679 - 0_precision: 0.7720 - 1_precision: 0.5165 - 2_precision: 0.5283 - 3_precision: 0.5716 - 4_precision: 0.8023 - val_loss: 0.6792 - val_all_acc: 0.7123 - val_0_recalll: 0.7803 - val_1_recalll: 0.4596 - val_2_recalll: 0.5722 - val_3_recalll: 0.5128 - val_4_recalll: 0.8715 - val_0_precision: 0.7928 - val_1_precision: 0.5087 - val_2_precision: 0.5203 - val_3_precision: 0.5925 - val_4_precision: 0.8193\n",
      "Epoch 56/150\n",
      "100/100 [==============================] - 57s 575ms/step - loss: 0.6976 - all_acc: 0.7020 - 0_recalll: 0.8389 - 1_recalll: 0.4182 - 2_recalll: 0.4628 - 3_recalll: 0.5043 - 4_recalll: 0.8734 - 0_precision: 0.7709 - 1_precision: 0.5100 - 2_precision: 0.5431 - 3_precision: 0.5815 - 4_precision: 0.8015 - val_loss: 0.7099 - val_all_acc: 0.6983 - val_0_recalll: 0.9192 - val_1_recalll: 0.4057 - val_2_recalll: 0.4025 - val_3_recalll: 0.3670 - val_4_recalll: 0.9217 - val_0_precision: 0.6858 - val_1_precision: 0.4802 - val_2_precision: 0.5248 - val_3_precision: 0.6237 - val_4_precision: 0.7800\n",
      "Epoch 57/150\n",
      "100/100 [==============================] - 57s 572ms/step - loss: 0.6971 - all_acc: 0.7034 - 0_recalll: 0.8448 - 1_recalll: 0.4041 - 2_recalll: 0.4713 - 3_recalll: 0.5181 - 4_recalll: 0.8730 - 0_precision: 0.7627 - 1_precision: 0.5206 - 2_precision: 0.5452 - 3_precision: 0.5787 - 4_precision: 0.8036 - val_loss: 0.6860 - val_all_acc: 0.7009 - val_0_recalll: 0.7522 - val_1_recalll: 0.5423 - val_2_recalll: 0.5467 - val_3_recalll: 0.3904 - val_4_recalll: 0.9049 - val_0_precision: 0.7994 - val_1_precision: 0.4536 - val_2_precision: 0.5011 - val_3_precision: 0.6236 - val_4_precision: 0.7935\n",
      "Epoch 58/150\n",
      "100/100 [==============================] - 57s 574ms/step - loss: 0.6774 - all_acc: 0.7122 - 0_recalll: 0.8439 - 1_recalll: 0.3952 - 2_recalll: 0.4783 - 3_recalll: 0.5292 - 4_recalll: 0.8777 - 0_precision: 0.7754 - 1_precision: 0.5048 - 2_precision: 0.5470 - 3_precision: 0.5892 - 4_precision: 0.8112 - val_loss: 0.6787 - val_all_acc: 0.7087 - val_0_recalll: 0.8972 - val_1_recalll: 0.3162 - val_2_recalll: 0.4280 - val_3_recalll: 0.5938 - val_4_recalll: 0.8511 - val_0_precision: 0.7273 - val_1_precision: 0.5816 - val_2_precision: 0.5595 - val_3_precision: 0.5459 - val_4_precision: 0.8263\n",
      "Epoch 59/150\n",
      "100/100 [==============================] - 58s 575ms/step - loss: 0.6709 - all_acc: 0.7120 - 0_recalll: 0.8566 - 1_recalll: 0.3977 - 2_recalll: 0.4781 - 3_recalll: 0.5230 - 4_recalll: 0.8776 - 0_precision: 0.7789 - 1_precision: 0.5048 - 2_precision: 0.5446 - 3_precision: 0.5930 - 4_precision: 0.8060 - val_loss: 0.6738 - val_all_acc: 0.7111 - val_0_recalll: 0.7730 - val_1_recalll: 0.5347 - val_2_recalll: 0.4558 - val_3_recalll: 0.5687 - val_4_recalll: 0.8585 - val_0_precision: 0.7900 - val_1_precision: 0.4767 - val_2_precision: 0.5622 - val_3_precision: 0.5746 - val_4_precision: 0.8280\n",
      "Epoch 60/150\n",
      "100/100 [==============================] - 57s 570ms/step - loss: 0.6821 - all_acc: 0.7090 - 0_recalll: 0.8489 - 1_recalll: 0.4413 - 2_recalll: 0.4577 - 3_recalll: 0.5249 - 4_recalll: 0.8736 - 0_precision: 0.7800 - 1_precision: 0.5154 - 2_precision: 0.5419 - 3_precision: 0.5796 - 4_precision: 0.8096 - val_loss: 0.6735 - val_all_acc: 0.7118 - val_0_recalll: 0.8789 - val_1_recalll: 0.3754 - val_2_recalll: 0.4540 - val_3_recalll: 0.4649 - val_4_recalll: 0.9085 - val_0_precision: 0.7407 - val_1_precision: 0.5488 - val_2_precision: 0.5631 - val_3_precision: 0.5947 - val_4_precision: 0.7868\n",
      "Epoch 61/150\n",
      "100/100 [==============================] - 58s 576ms/step - loss: 0.6788 - all_acc: 0.7093 - 0_recalll: 0.8685 - 1_recalll: 0.3946 - 2_recalll: 0.4668 - 3_recalll: 0.5087 - 4_recalll: 0.8746 - 0_precision: 0.7821 - 1_precision: 0.5171 - 2_precision: 0.5450 - 3_precision: 0.5706 - 4_precision: 0.8072 - val_loss: 0.6682 - val_all_acc: 0.7150 - val_0_recalll: 0.8447 - val_1_recalll: 0.4300 - val_2_recalll: 0.5297 - val_3_recalll: 0.4262 - val_4_recalll: 0.9155 - val_0_precision: 0.7736 - val_1_precision: 0.5423 - val_2_precision: 0.5442 - val_3_precision: 0.6146 - val_4_precision: 0.7848\n",
      "Epoch 62/150\n",
      "100/100 [==============================] - 57s 573ms/step - loss: 0.6694 - all_acc: 0.7171 - 0_recalll: 0.8730 - 1_recalll: 0.4090 - 2_recalll: 0.4523 - 3_recalll: 0.5017 - 4_recalll: 0.8833 - 0_precision: 0.7946 - 1_precision: 0.5272 - 2_precision: 0.5392 - 3_precision: 0.5741 - 4_precision: 0.8079 - val_loss: 0.6777 - val_all_acc: 0.7095 - val_0_recalll: 0.8886 - val_1_recalll: 0.2295 - val_2_recalll: 0.5118 - val_3_recalll: 0.5948 - val_4_recalll: 0.8514 - val_0_precision: 0.7421 - val_1_precision: 0.5848 - val_2_precision: 0.5161 - val_3_precision: 0.5615 - val_4_precision: 0.8291\n",
      "Epoch 63/150\n",
      "100/100 [==============================] - 58s 576ms/step - loss: 0.6634 - all_acc: 0.7227 - 0_recalll: 0.8872 - 1_recalll: 0.3651 - 2_recalll: 0.4679 - 3_recalll: 0.5072 - 4_recalll: 0.8859 - 0_precision: 0.7945 - 1_precision: 0.5192 - 2_precision: 0.5586 - 3_precision: 0.5877 - 4_precision: 0.8105 - val_loss: 0.6753 - val_all_acc: 0.7153 - val_0_recalll: 0.8752 - val_1_recalll: 0.3419 - val_2_recalll: 0.4870 - val_3_recalll: 0.5457 - val_4_recalll: 0.8778 - val_0_precision: 0.7393 - val_1_precision: 0.5691 - val_2_precision: 0.5516 - val_3_precision: 0.5798 - val_4_precision: 0.8156\n",
      "Epoch 64/150\n",
      "100/100 [==============================] - 58s 577ms/step - loss: 0.6555 - all_acc: 0.7245 - 0_recalll: 0.8855 - 1_recalll: 0.3870 - 2_recalll: 0.4885 - 3_recalll: 0.4993 - 4_recalll: 0.8873 - 0_precision: 0.7997 - 1_precision: 0.5244 - 2_precision: 0.5654 - 3_precision: 0.5890 - 4_precision: 0.8078 - val_loss: 0.6758 - val_all_acc: 0.7109 - val_0_recalll: 0.8341 - val_1_recalll: 0.4857 - val_2_recalll: 0.4945 - val_3_recalll: 0.5952 - val_4_recalll: 0.8255 - val_0_precision: 0.7693 - val_1_precision: 0.5105 - val_2_precision: 0.5666 - val_3_precision: 0.5581 - val_4_precision: 0.8404\n",
      "Epoch 65/150\n",
      "100/100 [==============================] - 57s 573ms/step - loss: 0.6639 - all_acc: 0.7171 - 0_recalll: 0.8856 - 1_recalll: 0.3645 - 2_recalll: 0.4527 - 3_recalll: 0.5189 - 4_recalll: 0.8750 - 0_precision: 0.7823 - 1_precision: 0.5168 - 2_precision: 0.5421 - 3_precision: 0.5796 - 4_precision: 0.8100 - val_loss: 0.6674 - val_all_acc: 0.7127 - val_0_recalll: 0.8610 - val_1_recalll: 0.4711 - val_2_recalll: 0.4202 - val_3_recalll: 0.5395 - val_4_recalll: 0.8704 - val_0_precision: 0.7526 - val_1_precision: 0.5002 - val_2_precision: 0.5728 - val_3_precision: 0.5760 - val_4_precision: 0.8183\n",
      "Epoch 66/150\n",
      "100/100 [==============================] - 57s 574ms/step - loss: 0.6706 - all_acc: 0.7193 - 0_recalll: 0.8645 - 1_recalll: 0.4162 - 2_recalll: 0.4693 - 3_recalll: 0.5208 - 4_recalll: 0.8861 - 0_precision: 0.7787 - 1_precision: 0.5248 - 2_precision: 0.5498 - 3_precision: 0.5921 - 4_precision: 0.8157 - val_loss: 0.6690 - val_all_acc: 0.7152 - val_0_recalll: 0.8268 - val_1_recalll: 0.4619 - val_2_recalll: 0.4291 - val_3_recalll: 0.5957 - val_4_recalll: 0.8585 - val_0_precision: 0.7863 - val_1_precision: 0.5305 - val_2_precision: 0.5787 - val_3_precision: 0.5563 - val_4_precision: 0.8258\n",
      "Epoch 67/150\n",
      "100/100 [==============================] - 57s 571ms/step - loss: 0.6818 - all_acc: 0.7119 - 0_recalll: 0.8666 - 1_recalll: 0.4080 - 2_recalll: 0.4699 - 3_recalll: 0.5315 - 4_recalll: 0.8711 - 0_precision: 0.7739 - 1_precision: 0.5431 - 2_precision: 0.5663 - 3_precision: 0.5895 - 4_precision: 0.8073 - val_loss: 0.6640 - val_all_acc: 0.7194 - val_0_recalll: 0.8682 - val_1_recalll: 0.3665 - val_2_recalll: 0.5326 - val_3_recalll: 0.5621 - val_4_recalll: 0.8648 - val_0_precision: 0.7570 - val_1_precision: 0.5678 - val_2_precision: 0.5486 - val_3_precision: 0.5834 - val_4_precision: 0.8256\n",
      "Epoch 68/150\n",
      "100/100 [==============================] - 57s 574ms/step - loss: 0.6645 - all_acc: 0.7184 - 0_recalll: 0.8509 - 1_recalll: 0.4123 - 2_recalll: 0.4889 - 3_recalll: 0.5328 - 4_recalll: 0.8817 - 0_precision: 0.7770 - 1_precision: 0.5182 - 2_precision: 0.5735 - 3_precision: 0.5968 - 4_precision: 0.8092 - val_loss: 0.6597 - val_all_acc: 0.7216 - val_0_recalll: 0.8396 - val_1_recalll: 0.4541 - val_2_recalll: 0.4936 - val_3_recalll: 0.5533 - val_4_recalll: 0.8757 - val_0_precision: 0.7710 - val_1_precision: 0.5299 - val_2_precision: 0.5870 - val_3_precision: 0.5873 - val_4_precision: 0.8206\n",
      "Epoch 69/150\n",
      "100/100 [==============================] - 57s 568ms/step - loss: 0.6823 - all_acc: 0.7118 - 0_recalll: 0.8504 - 1_recalll: 0.4316 - 2_recalll: 0.4775 - 3_recalll: 0.5149 - 4_recalll: 0.8800 - 0_precision: 0.7708 - 1_precision: 0.5270 - 2_precision: 0.5609 - 3_precision: 0.5875 - 4_precision: 0.8064 - val_loss: 0.6707 - val_all_acc: 0.7162 - val_0_recalll: 0.9043 - val_1_recalll: 0.3248 - val_2_recalll: 0.5383 - val_3_recalll: 0.5187 - val_4_recalll: 0.8740 - val_0_precision: 0.7140 - val_1_precision: 0.5596 - val_2_precision: 0.5492 - val_3_precision: 0.5983 - val_4_precision: 0.8193\n",
      "Epoch 70/150\n",
      "100/100 [==============================] - 58s 575ms/step - loss: 0.6799 - all_acc: 0.7084 - 0_recalll: 0.8473 - 1_recalll: 0.4013 - 2_recalll: 0.4759 - 3_recalll: 0.5180 - 4_recalll: 0.8762 - 0_precision: 0.7696 - 1_precision: 0.5246 - 2_precision: 0.5538 - 3_precision: 0.5822 - 4_precision: 0.8055 - val_loss: 0.6672 - val_all_acc: 0.7178 - val_0_recalll: 0.8901 - val_1_recalll: 0.4169 - val_2_recalll: 0.4906 - val_3_recalll: 0.5012 - val_4_recalll: 0.8847 - val_0_precision: 0.7422 - val_1_precision: 0.5479 - val_2_precision: 0.5400 - val_3_precision: 0.6034 - val_4_precision: 0.8128\n",
      "Epoch 71/150\n",
      "100/100 [==============================] - 57s 575ms/step - loss: 0.9591 - all_acc: 0.6390 - 0_recalll: 0.7259 - 1_recalll: 0.3297 - 2_recalll: 0.3891 - 3_recalll: 0.4576 - 4_recalll: 0.8252 - 0_precision: 0.7117 - 1_precision: 0.4645 - 2_precision: 0.4895 - 3_precision: 0.5479 - 4_precision: 0.7431 - val_loss: 1.3957 - val_all_acc: 0.4677 - val_0_recalll: 0.0835 - val_1_recalll: 0.0620 - val_2_recalll: 0.0000e+00 - val_3_recalll: 0.0364 - val_4_recalll: 0.9954 - val_0_precision: 0.6972 - val_1_precision: 0.3745 - val_2_precision: 0.0000e+00 - val_3_precision: 0.5549 - val_4_precision: 0.4621\n",
      "Epoch 72/150\n",
      "100/100 [==============================] - 57s 573ms/step - loss: 1.3785 - all_acc: 0.4466 - 0_recalll: 0.2711 - 1_recalll: 0.0380 - 2_recalll: 0.0464 - 3_recalll: 0.1801 - 4_recalll: 0.8260 - 0_precision: 0.4613 - 1_precision: 0.2232 - 2_precision: 0.1362 - 3_precision: 0.2973 - 4_precision: 0.5053 - val_loss: 1.2513 - val_all_acc: 0.4912 - val_0_recalll: 0.5627 - val_1_recalll: 0.0212 - val_2_recalll: 0.0116 - val_3_recalll: 0.0594 - val_4_recalll: 0.8897 - val_0_precision: 0.3471 - val_1_precision: 0.3017 - val_2_precision: 0.2200 - val_3_precision: 0.3782 - val_4_precision: 0.5429\n",
      "Epoch 73/150\n",
      "100/100 [==============================] - 57s 573ms/step - loss: 1.2804 - all_acc: 0.4833 - 0_recalll: 0.4615 - 1_recalll: 0.0605 - 2_recalll: 0.0679 - 3_recalll: 0.2119 - 4_recalll: 0.8042 - 0_precision: 0.5231 - 1_precision: 0.2889 - 2_precision: 0.2870 - 3_precision: 0.3496 - 4_precision: 0.5803 - val_loss: 1.9640 - val_all_acc: 0.2271 - val_0_recalll: 0.9629 - val_1_recalll: 0.0649 - val_2_recalll: 0.0441 - val_3_recalll: 0.0276 - val_4_recalll: 0.1672 - val_0_precision: 0.1578 - val_1_precision: 0.3922 - val_2_precision: 0.4160 - val_3_precision: 0.5121 - val_4_precision: 0.7344\n",
      "Epoch 74/150\n",
      "100/100 [==============================] - 57s 569ms/step - loss: 1.3408 - all_acc: 0.4607 - 0_recalll: 0.2285 - 1_recalll: 0.0425 - 2_recalll: 0.0514 - 3_recalll: 0.1902 - 4_recalll: 0.8499 - 0_precision: 0.5317 - 1_precision: 0.2437 - 2_precision: 0.2660 - 3_precision: 0.3252 - 4_precision: 0.5224 - val_loss: 1.2342 - val_all_acc: 0.4950 - val_0_recalll: 0.3937 - val_1_recalll: 0.0059 - val_2_recalll: 0.0955 - val_3_recalll: 0.1504 - val_4_recalll: 0.8892 - val_0_precision: 0.3589 - val_1_precision: 0.1000 - val_2_precision: 0.3071 - val_3_precision: 0.3714 - val_4_precision: 0.5488\n",
      "Epoch 75/150\n",
      "100/100 [==============================] - 58s 577ms/step - loss: 1.1863 - all_acc: 0.5154 - 0_recalll: 0.4041 - 1_recalll: 0.0662 - 2_recalll: 0.1144 - 3_recalll: 0.3254 - 4_recalll: 0.8272 - 0_precision: 0.5048 - 1_precision: 0.3008 - 2_precision: 0.3159 - 3_precision: 0.3569 - 4_precision: 0.6156 - val_loss: 1.0698 - val_all_acc: 0.5512 - val_0_recalll: 0.6582 - val_1_recalll: 0.0447 - val_2_recalll: 0.0594 - val_3_recalll: 0.1817 - val_4_recalll: 0.9179 - val_0_precision: 0.4711 - val_1_precision: 0.3539 - val_2_precision: 0.5121 - val_3_precision: 0.4105 - val_4_precision: 0.5964\n",
      "Epoch 76/150\n",
      "100/100 [==============================] - 57s 569ms/step - loss: 1.0425 - all_acc: 0.5807 - 0_recalll: 0.6875 - 1_recalll: 0.0836 - 2_recalll: 0.1794 - 3_recalll: 0.3407 - 4_recalll: 0.8480 - 0_precision: 0.5766 - 1_precision: 0.2904 - 2_precision: 0.3706 - 3_precision: 0.4166 - 4_precision: 0.7031 - val_loss: 0.9450 - val_all_acc: 0.6125 - val_0_recalll: 0.7736 - val_1_recalll: 0.0511 - val_2_recalll: 0.1369 - val_3_recalll: 0.3680 - val_4_recalll: 0.9067 - val_0_precision: 0.5976 - val_1_precision: 0.4748 - val_2_precision: 0.4150 - val_3_precision: 0.4030 - val_4_precision: 0.7049\n",
      "Epoch 77/150\n",
      "100/100 [==============================] - 58s 575ms/step - loss: 1.0152 - all_acc: 0.5898 - 0_recalll: 0.7123 - 1_recalll: 0.1356 - 2_recalll: 0.1958 - 3_recalll: 0.3745 - 4_recalll: 0.8446 - 0_precision: 0.6074 - 1_precision: 0.3260 - 2_precision: 0.3649 - 3_precision: 0.4422 - 4_precision: 0.7182 - val_loss: 0.9338 - val_all_acc: 0.6151 - val_0_recalll: 0.8444 - val_1_recalll: 0.1462 - val_2_recalll: 0.1765 - val_3_recalll: 0.3959 - val_4_recalll: 0.8485 - val_0_precision: 0.5302 - val_1_precision: 0.3022 - val_2_precision: 0.3778 - val_3_precision: 0.4704 - val_4_precision: 0.7594\n",
      "Epoch 78/150\n",
      "100/100 [==============================] - 58s 578ms/step - loss: 0.9704 - all_acc: 0.6035 - 0_recalll: 0.7562 - 1_recalll: 0.1110 - 2_recalll: 0.2444 - 3_recalll: 0.3933 - 4_recalll: 0.8427 - 0_precision: 0.6443 - 1_precision: 0.2582 - 2_precision: 0.3392 - 3_precision: 0.4394 - 4_precision: 0.7329 - val_loss: 0.9261 - val_all_acc: 0.6206 - val_0_recalll: 0.8901 - val_1_recalll: 0.0617 - val_2_recalll: 0.4159 - val_3_recalll: 0.4295 - val_4_recalll: 0.7875 - val_0_precision: 0.5570 - val_1_precision: 0.3213 - val_2_precision: 0.3549 - val_3_precision: 0.4883 - val_4_precision: 0.8057\n",
      "Epoch 79/150\n",
      "100/100 [==============================] - 58s 576ms/step - loss: 0.9137 - all_acc: 0.6232 - 0_recalll: 0.7978 - 1_recalll: 0.1304 - 2_recalll: 0.2691 - 3_recalll: 0.4237 - 4_recalll: 0.8533 - 0_precision: 0.6723 - 1_precision: 0.3086 - 2_precision: 0.3799 - 3_precision: 0.4674 - 4_precision: 0.7450 - val_loss: 0.8557 - val_all_acc: 0.6411 - val_0_recalll: 0.7649 - val_1_recalll: 0.2843 - val_2_recalll: 0.2456 - val_3_recalll: 0.3090 - val_4_recalll: 0.9302 - val_0_precision: 0.7103 - val_1_precision: 0.3832 - val_2_precision: 0.4599 - val_3_precision: 0.4738 - val_4_precision: 0.7115\n",
      "Epoch 80/150\n",
      "100/100 [==============================] - 58s 577ms/step - loss: 0.8980 - all_acc: 0.6283 - 0_recalll: 0.7957 - 1_recalll: 0.1779 - 2_recalll: 0.2761 - 3_recalll: 0.3964 - 4_recalll: 0.8565 - 0_precision: 0.6886 - 1_precision: 0.3436 - 2_precision: 0.3735 - 3_precision: 0.4711 - 4_precision: 0.7517 - val_loss: 0.9457 - val_all_acc: 0.6173 - val_0_recalll: 0.8107 - val_1_recalll: 0.0503 - val_2_recalll: 0.1572 - val_3_recalll: 0.2280 - val_4_recalll: 0.9689 - val_0_precision: 0.7078 - val_1_precision: 0.4317 - val_2_precision: 0.3972 - val_3_precision: 0.3867 - val_4_precision: 0.6565\n",
      "Epoch 81/150\n",
      "100/100 [==============================] - 57s 568ms/step - loss: 0.8611 - all_acc: 0.6457 - 0_recalll: 0.8237 - 1_recalll: 0.1601 - 2_recalll: 0.2834 - 3_recalll: 0.4281 - 4_recalll: 0.8650 - 0_precision: 0.6995 - 1_precision: 0.3422 - 2_precision: 0.3941 - 3_precision: 0.4886 - 4_precision: 0.7627 - val_loss: 0.8320 - val_all_acc: 0.6494 - val_0_recalll: 0.8117 - val_1_recalll: 0.0618 - val_2_recalll: 0.2224 - val_3_recalll: 0.5082 - val_4_recalll: 0.8867 - val_0_precision: 0.7048 - val_1_precision: 0.4628 - val_2_precision: 0.3877 - val_3_precision: 0.4486 - val_4_precision: 0.7632\n",
      "Epoch 82/150\n",
      "100/100 [==============================] - 58s 578ms/step - loss: 0.8304 - all_acc: 0.6555 - 0_recalll: 0.8448 - 1_recalll: 0.1645 - 2_recalll: 0.3075 - 3_recalll: 0.4428 - 4_recalll: 0.8589 - 0_precision: 0.7228 - 1_precision: 0.3176 - 2_precision: 0.4239 - 3_precision: 0.4943 - 4_precision: 0.7775 - val_loss: 0.8449 - val_all_acc: 0.6422 - val_0_recalll: 0.9027 - val_1_recalll: 0.2162 - val_2_recalll: 0.1892 - val_3_recalll: 0.2277 - val_4_recalll: 0.9571 - val_0_precision: 0.6444 - val_1_precision: 0.3994 - val_2_precision: 0.5203 - val_3_precision: 0.5235 - val_4_precision: 0.6874\n",
      "Epoch 83/150\n",
      "100/100 [==============================] - 57s 573ms/step - loss: 0.8310 - all_acc: 0.6576 - 0_recalll: 0.8349 - 1_recalll: 0.2051 - 2_recalll: 0.3091 - 3_recalll: 0.4384 - 4_recalll: 0.8653 - 0_precision: 0.7278 - 1_precision: 0.3920 - 2_precision: 0.4014 - 3_precision: 0.5006 - 4_precision: 0.7742 - val_loss: 0.8007 - val_all_acc: 0.6644 - val_0_recalll: 0.9130 - val_1_recalll: 0.1750 - val_2_recalll: 0.3800 - val_3_recalll: 0.4699 - val_4_recalll: 0.8466 - val_0_precision: 0.6211 - val_1_precision: 0.4013 - val_2_precision: 0.4645 - val_3_precision: 0.5288 - val_4_precision: 0.8029\n",
      "Epoch 84/150\n",
      "100/100 [==============================] - 58s 576ms/step - loss: 0.8329 - all_acc: 0.6572 - 0_recalll: 0.8372 - 1_recalll: 0.2253 - 2_recalll: 0.3191 - 3_recalll: 0.4550 - 4_recalll: 0.8605 - 0_precision: 0.7116 - 1_precision: 0.3822 - 2_precision: 0.4245 - 3_precision: 0.5190 - 4_precision: 0.7754 - val_loss: 0.7791 - val_all_acc: 0.6733 - val_0_recalll: 0.7896 - val_1_recalll: 0.3608 - val_2_recalll: 0.3371 - val_3_recalll: 0.4678 - val_4_recalll: 0.8814 - val_0_precision: 0.7431 - val_1_precision: 0.4204 - val_2_precision: 0.4706 - val_3_precision: 0.5219 - val_4_precision: 0.7831\n",
      "Epoch 85/150\n",
      "100/100 [==============================] - 58s 577ms/step - loss: 0.8108 - all_acc: 0.6584 - 0_recalll: 0.8266 - 1_recalll: 0.2950 - 2_recalll: 0.3369 - 3_recalll: 0.4606 - 4_recalll: 0.8562 - 0_precision: 0.7257 - 1_precision: 0.4198 - 2_precision: 0.4506 - 3_precision: 0.5078 - 4_precision: 0.7735 - val_loss: 0.8203 - val_all_acc: 0.6501 - val_0_recalll: 0.8013 - val_1_recalll: 0.3049 - val_2_recalll: 0.4693 - val_3_recalll: 0.6353 - val_4_recalll: 0.7209 - val_0_precision: 0.7282 - val_1_precision: 0.4512 - val_2_precision: 0.4362 - val_3_precision: 0.4712 - val_4_precision: 0.8614\n",
      "Epoch 86/150\n",
      "100/100 [==============================] - 57s 573ms/step - loss: 0.7967 - all_acc: 0.6668 - 0_recalll: 0.8281 - 1_recalll: 0.2446 - 2_recalll: 0.3599 - 3_recalll: 0.4842 - 4_recalll: 0.8588 - 0_precision: 0.7212 - 1_precision: 0.4061 - 2_precision: 0.4345 - 3_precision: 0.5332 - 4_precision: 0.7843 - val_loss: 0.7845 - val_all_acc: 0.6646 - val_0_recalll: 0.8522 - val_1_recalll: 0.1526 - val_2_recalll: 0.4740 - val_3_recalll: 0.5706 - val_4_recalll: 0.7978 - val_0_precision: 0.6917 - val_1_precision: 0.4504 - val_2_precision: 0.4458 - val_3_precision: 0.5040 - val_4_precision: 0.8236\n",
      "Epoch 87/150\n",
      "100/100 [==============================] - 57s 572ms/step - loss: 0.7872 - all_acc: 0.6709 - 0_recalll: 0.8359 - 1_recalll: 0.2490 - 2_recalll: 0.4055 - 3_recalll: 0.4837 - 4_recalll: 0.8550 - 0_precision: 0.7302 - 1_precision: 0.4201 - 2_precision: 0.4808 - 3_precision: 0.5274 - 4_precision: 0.7843 - val_loss: 0.7751 - val_all_acc: 0.6750 - val_0_recalll: 0.8556 - val_1_recalll: 0.3186 - val_2_recalll: 0.3504 - val_3_recalll: 0.4600 - val_4_recalll: 0.8734 - val_0_precision: 0.6964 - val_1_precision: 0.4375 - val_2_precision: 0.4687 - val_3_precision: 0.5352 - val_4_precision: 0.7863\n",
      "Epoch 88/150\n",
      "100/100 [==============================] - 57s 573ms/step - loss: 0.7881 - all_acc: 0.6627 - 0_recalll: 0.8202 - 1_recalll: 0.2793 - 2_recalll: 0.3912 - 3_recalll: 0.4557 - 4_recalll: 0.8561 - 0_precision: 0.7334 - 1_precision: 0.4225 - 2_precision: 0.4534 - 3_precision: 0.5105 - 4_precision: 0.7806 - val_loss: 0.7848 - val_all_acc: 0.6642 - val_0_recalll: 0.8464 - val_1_recalll: 0.3408 - val_2_recalll: 0.4802 - val_3_recalll: 0.3153 - val_4_recalll: 0.8843 - val_0_precision: 0.6850 - val_1_precision: 0.4051 - val_2_precision: 0.4184 - val_3_precision: 0.5659 - val_4_precision: 0.7825\n",
      "Epoch 89/150\n",
      "100/100 [==============================] - 58s 576ms/step - loss: 0.7802 - all_acc: 0.6734 - 0_recalll: 0.8475 - 1_recalll: 0.2634 - 2_recalll: 0.3704 - 3_recalll: 0.4593 - 4_recalll: 0.8625 - 0_precision: 0.7470 - 1_precision: 0.4064 - 2_precision: 0.4604 - 3_precision: 0.5171 - 4_precision: 0.7835 - val_loss: 0.7633 - val_all_acc: 0.6795 - val_0_recalll: 0.7984 - val_1_recalll: 0.2636 - val_2_recalll: 0.3960 - val_3_recalll: 0.4742 - val_4_recalll: 0.8930 - val_0_precision: 0.7509 - val_1_precision: 0.4728 - val_2_precision: 0.4863 - val_3_precision: 0.5258 - val_4_precision: 0.7726\n",
      "Epoch 90/150\n",
      "100/100 [==============================] - 57s 572ms/step - loss: 0.7621 - all_acc: 0.6805 - 0_recalll: 0.8628 - 1_recalll: 0.2590 - 2_recalll: 0.3675 - 3_recalll: 0.4528 - 4_recalll: 0.8704 - 0_precision: 0.7536 - 1_precision: 0.4181 - 2_precision: 0.4522 - 3_precision: 0.5185 - 4_precision: 0.7867 - val_loss: 0.7677 - val_all_acc: 0.6744 - val_0_recalll: 0.9261 - val_1_recalll: 0.1705 - val_2_recalll: 0.3578 - val_3_recalll: 0.5376 - val_4_recalll: 0.8388 - val_0_precision: 0.6347 - val_1_precision: 0.4838 - val_2_precision: 0.5139 - val_3_precision: 0.5200 - val_4_precision: 0.8096\n",
      "Epoch 91/150\n",
      "100/100 [==============================] - 57s 573ms/step - loss: 0.7671 - all_acc: 0.6762 - 0_recalll: 0.8432 - 1_recalll: 0.2737 - 2_recalll: 0.3935 - 3_recalll: 0.4831 - 4_recalll: 0.8557 - 0_precision: 0.7471 - 1_precision: 0.4343 - 2_precision: 0.4597 - 3_precision: 0.5301 - 4_precision: 0.7937 - val_loss: 0.7702 - val_all_acc: 0.6767 - val_0_recalll: 0.8223 - val_1_recalll: 0.2037 - val_2_recalll: 0.3389 - val_3_recalll: 0.4965 - val_4_recalll: 0.8943 - val_0_precision: 0.7274 - val_1_precision: 0.4628 - val_2_precision: 0.4984 - val_3_precision: 0.5048 - val_4_precision: 0.7754\n",
      "Epoch 92/150\n",
      "100/100 [==============================] - 58s 578ms/step - loss: 0.7701 - all_acc: 0.6752 - 0_recalll: 0.8259 - 1_recalll: 0.3094 - 2_recalll: 0.3604 - 3_recalll: 0.4761 - 4_recalll: 0.8649 - 0_precision: 0.7404 - 1_precision: 0.4290 - 2_precision: 0.4543 - 3_precision: 0.5283 - 4_precision: 0.7886 - val_loss: 0.7596 - val_all_acc: 0.6752 - val_0_recalll: 0.8644 - val_1_recalll: 0.0526 - val_2_recalll: 0.5197 - val_3_recalll: 0.5282 - val_4_recalll: 0.8460 - val_0_precision: 0.6987 - val_1_precision: 0.4517 - val_2_precision: 0.4353 - val_3_precision: 0.5212 - val_4_precision: 0.8127\n",
      "Epoch 93/150\n",
      "100/100 [==============================] - 57s 568ms/step - loss: 0.7589 - all_acc: 0.6777 - 0_recalll: 0.8400 - 1_recalll: 0.2831 - 2_recalll: 0.3942 - 3_recalll: 0.4869 - 4_recalll: 0.8619 - 0_precision: 0.7391 - 1_precision: 0.4335 - 2_precision: 0.4716 - 3_precision: 0.5382 - 4_precision: 0.7926 - val_loss: 0.7586 - val_all_acc: 0.6741 - val_0_recalll: 0.7326 - val_1_recalll: 0.5012 - val_2_recalll: 0.3462 - val_3_recalll: 0.6252 - val_4_recalll: 0.7947 - val_0_precision: 0.7860 - val_1_precision: 0.4153 - val_2_precision: 0.5299 - val_3_precision: 0.4992 - val_4_precision: 0.8426\n",
      "Epoch 94/150\n",
      "100/100 [==============================] - 58s 579ms/step - loss: 0.7668 - all_acc: 0.6730 - 0_recalll: 0.8255 - 1_recalll: 0.3324 - 2_recalll: 0.3880 - 3_recalll: 0.4868 - 4_recalll: 0.8537 - 0_precision: 0.7439 - 1_precision: 0.4466 - 2_precision: 0.4821 - 3_precision: 0.5307 - 4_precision: 0.7894 - val_loss: 0.7847 - val_all_acc: 0.6680 - val_0_recalll: 0.8164 - val_1_recalll: 0.2827 - val_2_recalll: 0.3675 - val_3_recalll: 0.2933 - val_4_recalll: 0.9533 - val_0_precision: 0.7351 - val_1_precision: 0.4689 - val_2_precision: 0.5229 - val_3_precision: 0.5348 - val_4_precision: 0.7150\n",
      "Epoch 95/150\n",
      "100/100 [==============================] - 57s 574ms/step - loss: 0.7576 - all_acc: 0.6798 - 0_recalll: 0.8340 - 1_recalll: 0.3027 - 2_recalll: 0.4066 - 3_recalll: 0.4766 - 4_recalll: 0.8655 - 0_precision: 0.7390 - 1_precision: 0.4426 - 2_precision: 0.4810 - 3_precision: 0.5442 - 4_precision: 0.7883 - val_loss: 0.7701 - val_all_acc: 0.6687 - val_0_recalll: 0.8829 - val_1_recalll: 0.1468 - val_2_recalll: 0.5081 - val_3_recalll: 0.5946 - val_4_recalll: 0.7782 - val_0_precision: 0.6847 - val_1_precision: 0.4661 - val_2_precision: 0.4528 - val_3_precision: 0.5061 - val_4_precision: 0.8419\n",
      "Epoch 96/150\n",
      "100/100 [==============================] - 58s 578ms/step - loss: 0.7537 - all_acc: 0.6801 - 0_recalll: 0.8345 - 1_recalll: 0.3024 - 2_recalll: 0.4054 - 3_recalll: 0.4819 - 4_recalll: 0.8669 - 0_precision: 0.7458 - 1_precision: 0.4344 - 2_precision: 0.4820 - 3_precision: 0.5436 - 4_precision: 0.7868 - val_loss: 0.7454 - val_all_acc: 0.6812 - val_0_recalll: 0.7578 - val_1_recalll: 0.4768 - val_2_recalll: 0.3768 - val_3_recalll: 0.4307 - val_4_recalll: 0.8953 - val_0_precision: 0.7753 - val_1_precision: 0.4091 - val_2_precision: 0.5002 - val_3_precision: 0.5502 - val_4_precision: 0.7853\n",
      "Epoch 97/150\n",
      "100/100 [==============================] - 57s 573ms/step - loss: 0.7574 - all_acc: 0.6794 - 0_recalll: 0.8224 - 1_recalll: 0.2992 - 2_recalll: 0.4049 - 3_recalll: 0.4792 - 4_recalll: 0.8724 - 0_precision: 0.7437 - 1_precision: 0.4273 - 2_precision: 0.4725 - 3_precision: 0.5513 - 4_precision: 0.7920 - val_loss: 0.7432 - val_all_acc: 0.6835 - val_0_recalll: 0.7788 - val_1_recalll: 0.2977 - val_2_recalll: 0.5073 - val_3_recalll: 0.4179 - val_4_recalll: 0.9020 - val_0_precision: 0.7690 - val_1_precision: 0.4629 - val_2_precision: 0.4702 - val_3_precision: 0.5594 - val_4_precision: 0.7720\n",
      "Epoch 98/150\n",
      "100/100 [==============================] - 57s 571ms/step - loss: 0.7488 - all_acc: 0.6820 - 0_recalll: 0.8302 - 1_recalll: 0.3327 - 2_recalll: 0.4038 - 3_recalll: 0.4741 - 4_recalll: 0.8669 - 0_precision: 0.7359 - 1_precision: 0.4628 - 2_precision: 0.4871 - 3_precision: 0.5428 - 4_precision: 0.7905 - val_loss: 0.7483 - val_all_acc: 0.6821 - val_0_recalll: 0.7687 - val_1_recalll: 0.3088 - val_2_recalll: 0.3756 - val_3_recalll: 0.5490 - val_4_recalll: 0.8684 - val_0_precision: 0.7719 - val_1_precision: 0.4549 - val_2_precision: 0.5040 - val_3_precision: 0.5172 - val_4_precision: 0.7925\n",
      "Epoch 99/150\n",
      "100/100 [==============================] - 58s 576ms/step - loss: 0.7490 - all_acc: 0.6811 - 0_recalll: 0.8382 - 1_recalll: 0.2872 - 2_recalll: 0.4223 - 3_recalll: 0.4722 - 4_recalll: 0.8650 - 0_precision: 0.7466 - 1_precision: 0.4512 - 2_precision: 0.4767 - 3_precision: 0.5332 - 4_precision: 0.7915 - val_loss: 0.7655 - val_all_acc: 0.6715 - val_0_recalll: 0.8635 - val_1_recalll: 0.2345 - val_2_recalll: 0.5522 - val_3_recalll: 0.5549 - val_4_recalll: 0.7820 - val_0_precision: 0.7162 - val_1_precision: 0.4832 - val_2_precision: 0.4542 - val_3_precision: 0.5005 - val_4_precision: 0.8463\n",
      "Epoch 100/150\n",
      "100/100 [==============================] - 57s 572ms/step - loss: 0.7314 - all_acc: 0.6881 - 0_recalll: 0.8216 - 1_recalll: 0.3339 - 2_recalll: 0.4335 - 3_recalll: 0.4857 - 4_recalll: 0.8719 - 0_precision: 0.7458 - 1_precision: 0.4598 - 2_precision: 0.4981 - 3_precision: 0.5546 - 4_precision: 0.7987 - val_loss: 0.7330 - val_all_acc: 0.6848 - val_0_recalll: 0.8196 - val_1_recalll: 0.2620 - val_2_recalll: 0.4839 - val_3_recalll: 0.5362 - val_4_recalll: 0.8469 - val_0_precision: 0.7481 - val_1_precision: 0.4548 - val_2_precision: 0.4711 - val_3_precision: 0.5273 - val_4_precision: 0.8170\n",
      "Epoch 101/150\n",
      "100/100 [==============================] - 57s 572ms/step - loss: 0.7397 - all_acc: 0.6804 - 0_recalll: 0.8317 - 1_recalll: 0.3332 - 2_recalll: 0.4097 - 3_recalll: 0.4977 - 4_recalll: 0.8581 - 0_precision: 0.7515 - 1_precision: 0.4531 - 2_precision: 0.4782 - 3_precision: 0.5405 - 4_precision: 0.7939 - val_loss: 0.7348 - val_all_acc: 0.6852 - val_0_recalll: 0.7992 - val_1_recalll: 0.3517 - val_2_recalll: 0.4358 - val_3_recalll: 0.4293 - val_4_recalll: 0.9019 - val_0_precision: 0.7590 - val_1_precision: 0.4537 - val_2_precision: 0.4940 - val_3_precision: 0.5471 - val_4_precision: 0.7764\n",
      "Epoch 102/150\n",
      "100/100 [==============================] - 57s 572ms/step - loss: 0.7393 - all_acc: 0.6816 - 0_recalll: 0.8135 - 1_recalll: 0.3573 - 2_recalll: 0.4231 - 3_recalll: 0.4716 - 4_recalll: 0.8674 - 0_precision: 0.7469 - 1_precision: 0.4570 - 2_precision: 0.4837 - 3_precision: 0.5409 - 4_precision: 0.7947 - val_loss: 0.7282 - val_all_acc: 0.6899 - val_0_recalll: 0.7583 - val_1_recalll: 0.3868 - val_2_recalll: 0.4823 - val_3_recalll: 0.5154 - val_4_recalll: 0.8651 - val_0_precision: 0.7883 - val_1_precision: 0.4692 - val_2_precision: 0.4861 - val_3_precision: 0.5435 - val_4_precision: 0.8082\n",
      "Epoch 103/150\n",
      "100/100 [==============================] - 57s 574ms/step - loss: 0.7500 - all_acc: 0.6813 - 0_recalll: 0.8302 - 1_recalll: 0.3187 - 2_recalll: 0.4317 - 3_recalll: 0.4800 - 4_recalll: 0.8668 - 0_precision: 0.7415 - 1_precision: 0.4494 - 2_precision: 0.4980 - 3_precision: 0.5450 - 4_precision: 0.7920 - val_loss: 0.7343 - val_all_acc: 0.6830 - val_0_recalll: 0.7519 - val_1_recalll: 0.4010 - val_2_recalll: 0.5045 - val_3_recalll: 0.5267 - val_4_recalll: 0.8363 - val_0_precision: 0.7827 - val_1_precision: 0.4417 - val_2_precision: 0.4693 - val_3_precision: 0.5351 - val_4_precision: 0.8229\n",
      "Epoch 104/150\n",
      "100/100 [==============================] - 57s 573ms/step - loss: 0.7279 - all_acc: 0.6879 - 0_recalll: 0.8378 - 1_recalll: 0.3545 - 2_recalll: 0.4041 - 3_recalll: 0.4953 - 4_recalll: 0.8693 - 0_precision: 0.7622 - 1_precision: 0.4650 - 2_precision: 0.4865 - 3_precision: 0.5509 - 4_precision: 0.7983 - val_loss: 0.7367 - val_all_acc: 0.6877 - val_0_recalll: 0.8167 - val_1_recalll: 0.3053 - val_2_recalll: 0.4652 - val_3_recalll: 0.6059 - val_4_recalll: 0.8179 - val_0_precision: 0.7541 - val_1_precision: 0.5040 - val_2_precision: 0.5012 - val_3_precision: 0.5142 - val_4_precision: 0.8326\n",
      "Epoch 105/150\n",
      "100/100 [==============================] - 57s 573ms/step - loss: 0.7472 - all_acc: 0.6818 - 0_recalll: 0.8316 - 1_recalll: 0.3376 - 2_recalll: 0.4138 - 3_recalll: 0.4911 - 4_recalll: 0.8647 - 0_precision: 0.7441 - 1_precision: 0.4773 - 2_precision: 0.4977 - 3_precision: 0.5514 - 4_precision: 0.7905 - val_loss: 0.7309 - val_all_acc: 0.6879 - val_0_recalll: 0.8112 - val_1_recalll: 0.2187 - val_2_recalll: 0.4858 - val_3_recalll: 0.5265 - val_4_recalll: 0.8692 - val_0_precision: 0.7643 - val_1_precision: 0.4895 - val_2_precision: 0.4777 - val_3_precision: 0.5309 - val_4_precision: 0.8007\n",
      "Epoch 106/150\n",
      "100/100 [==============================] - 58s 575ms/step - loss: 0.7440 - all_acc: 0.6841 - 0_recalll: 0.8352 - 1_recalll: 0.3501 - 2_recalll: 0.4302 - 3_recalll: 0.5047 - 4_recalll: 0.8584 - 0_precision: 0.7570 - 1_precision: 0.4663 - 2_precision: 0.5075 - 3_precision: 0.5596 - 4_precision: 0.7865 - val_loss: 0.7165 - val_all_acc: 0.6947 - val_0_recalll: 0.8470 - val_1_recalll: 0.3076 - val_2_recalll: 0.5334 - val_3_recalll: 0.4781 - val_4_recalll: 0.8684 - val_0_precision: 0.7242 - val_1_precision: 0.4928 - val_2_precision: 0.4990 - val_3_precision: 0.5672 - val_4_precision: 0.8052\n",
      "Epoch 107/150\n",
      "100/100 [==============================] - 53s 527ms/step - loss: 0.7493 - all_acc: 0.6762 - 0_recalll: 0.8289 - 1_recalll: 0.2837 - 2_recalll: 0.4454 - 3_recalll: 0.4791 - 4_recalll: 0.8578 - 0_precision: 0.7478 - 1_precision: 0.4230 - 2_precision: 0.4939 - 3_precision: 0.5370 - 4_precision: 0.7894 - val_loss: 0.7269 - val_all_acc: 0.6928 - val_0_recalll: 0.9032 - val_1_recalll: 0.2473 - val_2_recalll: 0.4321 - val_3_recalll: 0.4364 - val_4_recalll: 0.9035 - val_0_precision: 0.6777 - val_1_precision: 0.5160 - val_2_precision: 0.5182 - val_3_precision: 0.5775 - val_4_precision: 0.7837\n",
      "Epoch 108/150\n",
      "100/100 [==============================] - 53s 531ms/step - loss: 0.7421 - all_acc: 0.6806 - 0_recalll: 0.8293 - 1_recalll: 0.3053 - 2_recalll: 0.4331 - 3_recalll: 0.4812 - 4_recalll: 0.8596 - 0_precision: 0.7453 - 1_precision: 0.4520 - 2_precision: 0.4809 - 3_precision: 0.5493 - 4_precision: 0.7941 - val_loss: 0.7255 - val_all_acc: 0.6911 - val_0_recalll: 0.8506 - val_1_recalll: 0.3141 - val_2_recalll: 0.3285 - val_3_recalll: 0.4737 - val_4_recalll: 0.9111 - val_0_precision: 0.7268 - val_1_precision: 0.4837 - val_2_precision: 0.5484 - val_3_precision: 0.5476 - val_4_precision: 0.7733\n",
      "Epoch 109/150\n",
      "100/100 [==============================] - 53s 530ms/step - loss: 0.7254 - all_acc: 0.6933 - 0_recalll: 0.8492 - 1_recalll: 0.3617 - 2_recalll: 0.4307 - 3_recalll: 0.4917 - 4_recalll: 0.8718 - 0_precision: 0.7654 - 1_precision: 0.4750 - 2_precision: 0.5048 - 3_precision: 0.5593 - 4_precision: 0.7938 - val_loss: 0.7275 - val_all_acc: 0.6878 - val_0_recalll: 0.8435 - val_1_recalll: 0.2849 - val_2_recalll: 0.4544 - val_3_recalll: 0.6406 - val_4_recalll: 0.8000 - val_0_precision: 0.7334 - val_1_precision: 0.5127 - val_2_precision: 0.5114 - val_3_precision: 0.5146 - val_4_precision: 0.8438\n",
      "Epoch 110/150\n",
      "100/100 [==============================] - 53s 534ms/step - loss: 0.7104 - all_acc: 0.7009 - 0_recalll: 0.8630 - 1_recalll: 0.3242 - 2_recalll: 0.4388 - 3_recalll: 0.4895 - 4_recalll: 0.8713 - 0_precision: 0.7670 - 1_precision: 0.4701 - 2_precision: 0.5139 - 3_precision: 0.5554 - 4_precision: 0.8020 - val_loss: 0.7167 - val_all_acc: 0.6962 - val_0_recalll: 0.8126 - val_1_recalll: 0.4620 - val_2_recalll: 0.3776 - val_3_recalll: 0.5333 - val_4_recalll: 0.8646 - val_0_precision: 0.7531 - val_1_precision: 0.4562 - val_2_precision: 0.5471 - val_3_precision: 0.5554 - val_4_precision: 0.8087\n",
      "Epoch 111/150\n",
      "100/100 [==============================] - 53s 530ms/step - loss: 0.7095 - all_acc: 0.7035 - 0_recalll: 0.8667 - 1_recalll: 0.3159 - 2_recalll: 0.4329 - 3_recalll: 0.4750 - 4_recalll: 0.8758 - 0_precision: 0.7749 - 1_precision: 0.4654 - 2_precision: 0.5036 - 3_precision: 0.5491 - 4_precision: 0.8048 - val_loss: 0.7185 - val_all_acc: 0.6942 - val_0_recalll: 0.8563 - val_1_recalll: 0.2108 - val_2_recalll: 0.4837 - val_3_recalll: 0.4964 - val_4_recalll: 0.8863 - val_0_precision: 0.7178 - val_1_precision: 0.5006 - val_2_precision: 0.5015 - val_3_precision: 0.5560 - val_4_precision: 0.7979\n",
      "Epoch 112/150\n",
      "100/100 [==============================] - 54s 536ms/step - loss: 0.7102 - all_acc: 0.6982 - 0_recalll: 0.8473 - 1_recalll: 0.3407 - 2_recalll: 0.4212 - 3_recalll: 0.4886 - 4_recalll: 0.8763 - 0_precision: 0.7650 - 1_precision: 0.4679 - 2_precision: 0.4940 - 3_precision: 0.5599 - 4_precision: 0.8028 - val_loss: 0.7229 - val_all_acc: 0.6902 - val_0_recalll: 0.7660 - val_1_recalll: 0.3496 - val_2_recalll: 0.6032 - val_3_recalll: 0.5323 - val_4_recalll: 0.8311 - val_0_precision: 0.7979 - val_1_precision: 0.4832 - val_2_precision: 0.4530 - val_3_precision: 0.5515 - val_4_precision: 0.8336\n",
      "Epoch 113/150\n",
      "100/100 [==============================] - 53s 534ms/step - loss: 0.7238 - all_acc: 0.6916 - 0_recalll: 0.8427 - 1_recalll: 0.3519 - 2_recalll: 0.4486 - 3_recalll: 0.4650 - 4_recalll: 0.8732 - 0_precision: 0.7663 - 1_precision: 0.4862 - 2_precision: 0.4927 - 3_precision: 0.5430 - 4_precision: 0.7937 - val_loss: 0.7114 - val_all_acc: 0.6952 - val_0_recalll: 0.8368 - val_1_recalll: 0.4185 - val_2_recalll: 0.3992 - val_3_recalll: 0.5710 - val_4_recalll: 0.8388 - val_0_precision: 0.7389 - val_1_precision: 0.4630 - val_2_precision: 0.5397 - val_3_precision: 0.5404 - val_4_precision: 0.8289\n",
      "Epoch 114/150\n",
      "100/100 [==============================] - 54s 535ms/step - loss: 0.7295 - all_acc: 0.6900 - 0_recalll: 0.8356 - 1_recalll: 0.3604 - 2_recalll: 0.4269 - 3_recalll: 0.4927 - 4_recalll: 0.8711 - 0_precision: 0.7553 - 1_precision: 0.4758 - 2_precision: 0.5092 - 3_precision: 0.5562 - 4_precision: 0.7974 - val_loss: 0.7280 - val_all_acc: 0.6852 - val_0_recalll: 0.7364 - val_1_recalll: 0.5556 - val_2_recalll: 0.4884 - val_3_recalll: 0.4591 - val_4_recalll: 0.8533 - val_0_precision: 0.8063 - val_1_precision: 0.4265 - val_2_precision: 0.4643 - val_3_precision: 0.5662 - val_4_precision: 0.8169\n",
      "Epoch 115/150\n",
      " 10/100 [==>...........................] - ETA: 37s - loss: 0.7374 - all_acc: 0.6832 - 0_recalll: 0.8463 - 1_recalll: 0.3553 - 2_recalll: 0.4891 - 3_recalll: 0.4892 - 4_recalll: 0.8523 - 0_precision: 0.7495 - 1_precision: 0.5066 - 2_precision: 0.5290 - 3_precision: 0.5551 - 4_precision: 0.7853"
     ]
    }
   ],
   "source": [
    "_=baby.fit(dataset['train'], steps_per_epoch=100, epochs=150, \n",
    "                             validation_data= dataset['val'], validation_steps=50,\n",
    "                             callbacks=[tb], class_weight=class_weights['five'], verbose=1, shuffle=False)"
   ]
  },
  {
   "cell_type": "code",
   "execution_count": null,
   "metadata": {},
   "outputs": [],
   "source": [
    "baby.save(os.path.join(MODELS_DIR, 'baby_lstm_length.h5'))"
   ]
  },
  {
   "cell_type": "code",
   "execution_count": null,
   "metadata": {},
   "outputs": [],
   "source": [
    "results = baby.evaluate(dataset['test'], steps=5000)"
   ]
  },
  {
   "cell_type": "code",
   "execution_count": null,
   "metadata": {},
   "outputs": [],
   "source": [
    "def get_f1_scores(results):\n",
    "    m = {}\n",
    "    m[1] = (results[2], results[7])\n",
    "    m[2] = (results[3], results[8])\n",
    "    m[3] = (results[4], results[9])\n",
    "    m[4] = (results[5], results[10])\n",
    "    m[5] = (results[6], results[11])\n",
    "    f = {}\n",
    "    total = 0\n",
    "    for i in m:\n",
    "        f[i] = 2 * np.product(m[i]) / np.sum(m[i])\n",
    "        total+=f[i]\n",
    "    f['macro'] = total/5\n",
    "    return f, m"
   ]
  },
  {
   "cell_type": "code",
   "execution_count": null,
   "metadata": {},
   "outputs": [],
   "source": []
  },
  {
   "cell_type": "code",
   "execution_count": null,
   "metadata": {},
   "outputs": [],
   "source": []
  },
  {
   "cell_type": "code",
   "execution_count": null,
   "metadata": {},
   "outputs": [],
   "source": []
  },
  {
   "cell_type": "code",
   "execution_count": 18,
   "metadata": {},
   "outputs": [
    {
     "name": "stdout",
     "output_type": "stream",
     "text": [
      "              precision    recall  f1-score   support\n",
      "\n",
      "           0       0.61      0.89      0.73      3642\n",
      "           1       0.54      0.39      0.45      2109\n",
      "           2       0.62      0.45      0.52      2892\n",
      "           3       0.62      0.54      0.57      5861\n",
      "           4       0.82      0.86      0.84     11096\n",
      "\n",
      "    accuracy                           0.70     25600\n",
      "   macro avg       0.64      0.62      0.62     25600\n",
      "weighted avg       0.70      0.70      0.69     25600\n",
      "\n"
     ]
    }
   ],
   "source": [
    "truth, predictions = [], []\n",
    "for x, y in dataset['val'].take(200):\n",
    "    pred = baby(x)\n",
    "    truth.append(y['stars'].numpy())\n",
    "    predictions.append(tf.argmax(pred['stars'], axis=-1).numpy())\n",
    "predictions=np.array(predictions).flatten()\n",
    "truth = np.array(truth).flatten()\n",
    "print(classification_report(truth, predictions))"
   ]
  },
  {
   "cell_type": "raw",
   "metadata": {},
   "source": [
    "              precision    recall  f1-score   support\n",
    "\n",
    "           0       0.61      0.89      0.73      3642\n",
    "           1       0.54      0.39      0.45      2109\n",
    "           2       0.62      0.45      0.52      2892\n",
    "           3       0.62      0.54      0.57      5861\n",
    "           4       0.82      0.86      0.84     11096\n",
    "\n",
    "    accuracy                           0.70     25600\n",
    "   macro avg       0.64      0.62      0.62     25600\n",
    "weighted avg       0.70      0.70      0.69     25600"
   ]
  },
  {
   "cell_type": "code",
   "execution_count": 19,
   "metadata": {},
   "outputs": [
    {
     "data": {
      "text/plain": [
       "array([[3257,  295,   46,   13,   31],\n",
       "       [ 866,  817,  354,   49,   23],\n",
       "       [ 402,  330, 1298,  750,  112],\n",
       "       [ 392,   46,  346, 3140, 1937],\n",
       "       [ 410,   12,   48, 1112, 9514]])"
      ]
     },
     "execution_count": 19,
     "metadata": {},
     "output_type": "execute_result"
    }
   ],
   "source": [
    "confusion_matrix(truth, predictions, labels=[0, 1, 2, 3, 4])"
   ]
  },
  {
   "cell_type": "raw",
   "metadata": {},
   "source": [
    "array([[3257,  295,   46,   13,   31],\n",
    "       [ 866,  817,  354,   49,   23],\n",
    "       [ 402,  330, 1298,  750,  112],\n",
    "       [ 392,   46,  346, 3140, 1937],\n",
    "       [ 410,   12,   48, 1112, 9514]])"
   ]
  },
  {
   "cell_type": "code",
   "execution_count": 113,
   "metadata": {},
   "outputs": [],
   "source": [
    "baby_embedding = baby.layers[1].get_weights()[0]\n",
    "baby_dict = {key: baby_embedding[val] for key, val in keys_to_ix.items()}"
   ]
  },
  {
   "cell_type": "code",
   "execution_count": 118,
   "metadata": {},
   "outputs": [],
   "source": [
    "dists, ix = neighbors(baby_dict['money'.encode()], baby_dict)\n",
    "dists[dists.columns[ix]]"
   ]
  },
  {
   "cell_type": "code",
   "execution_count": 21,
   "metadata": {},
   "outputs": [],
   "source": [
    "baby.save(os.path.join(MODELS_DIR, 'baby_lstm.h5'))"
   ]
  }
 ],
 "metadata": {
  "kernelspec": {
   "display_name": "yelp-nlu_3.6",
   "language": "python",
   "name": "yelp-nlu_3.6"
  },
  "language_info": {
   "codemirror_mode": {
    "name": "ipython",
    "version": 3
   },
   "file_extension": ".py",
   "mimetype": "text/x-python",
   "name": "python",
   "nbconvert_exporter": "python",
   "pygments_lexer": "ipython3",
   "version": "3.6.8"
  }
 },
 "nbformat": 4,
 "nbformat_minor": 4
}
