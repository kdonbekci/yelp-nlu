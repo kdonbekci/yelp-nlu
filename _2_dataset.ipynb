{
 "cells": [
  {
   "cell_type": "code",
   "execution_count": 1,
   "metadata": {},
   "outputs": [],
   "source": [
    "from packages import *\n",
    "import matplotlib.pyplot as plt\n",
    "import tensorflow as tf\n",
    "import numpy as np\n",
    "import pandas as pd\n",
    "import json\n",
    "%load_ext autoreload\n",
    "%autoreload 2"
   ]
  },
  {
   "cell_type": "code",
   "execution_count": 2,
   "metadata": {},
   "outputs": [],
   "source": [
    "requested_files = ['business']"
   ]
  },
  {
   "cell_type": "code",
   "execution_count": 3,
   "metadata": {},
   "outputs": [],
   "source": [
    "filenames = {i: '{}.json'.format(i) for i in requested_files}"
   ]
  },
  {
   "cell_type": "code",
   "execution_count": 4,
   "metadata": {},
   "outputs": [],
   "source": [
    "data = {}\n",
    "for key, value in filenames.items():\n",
    "    data[key] = []\n",
    "    path = os.path.join(DATA_DIR, 'yelp', value)\n",
    "    with open(path, 'rb') as f:\n",
    "        for line in f:\n",
    "            data[key].append(json.loads(line))\n",
    "    data[key] = pd.DataFrame(data[key])"
   ]
  },
  {
   "cell_type": "code",
   "execution_count": 5,
   "metadata": {},
   "outputs": [],
   "source": [
    "columns = { 'business': ['text']}"
   ]
  },
  {
   "cell_type": "code",
   "execution_count": 6,
   "metadata": {},
   "outputs": [
    {
     "data": {
      "text/plain": [
       "Index(['address', 'attributes', 'business_id', 'categories', 'city', 'hours',\n",
       "       'is_open', 'latitude', 'longitude', 'name', 'postal_code',\n",
       "       'review_count', 'stars', 'state'],\n",
       "      dtype='object')"
      ]
     },
     "execution_count": 6,
     "metadata": {},
     "output_type": "execute_result"
    }
   ],
   "source": [
    "data['business'].columns"
   ]
  },
  {
   "cell_type": "code",
   "execution_count": 7,
   "metadata": {},
   "outputs": [],
   "source": [
    "# review data\n",
    "dtypes = {\n",
    "    'address' : str, \n",
    "    'attributes' : str, \n",
    "    'business_id' : str, \n",
    "    'categories' : str, \n",
    "    'city' : str, \n",
    "    'hours': str,\n",
    "    'is_open' : bool, \n",
    "    'latitude' : np.int32 , \n",
    "    'longitude' : np.int32, \n",
    "    'name' : str, \n",
    "    'postal_code' : str,\n",
    "    'review_count' : np.int32, \n",
    "    'stars' : np.float32, \n",
    "    'state': str,\n",
    "}"
   ]
  },
  {
   "cell_type": "code",
   "execution_count": 8,
   "metadata": {},
   "outputs": [],
   "source": [
    "# review data\n",
    "# dtypes = {\n",
    "#     'business_id': str,\n",
    "#     'text': str,\n",
    "#     'date': np.datetime64,\n",
    "#     'cool': np.int16,\n",
    "#     'funny': np.int16,\n",
    "#     'useful': np.int16,\n",
    "#     'stars': np.int16,\n",
    "#     'review_id': str,\n",
    "#     'user_id':str\n",
    "# }"
   ]
  },
  {
   "cell_type": "code",
   "execution_count": 9,
   "metadata": {},
   "outputs": [],
   "source": [
    "# user data\n",
    "# dtypes = {\n",
    "#     'average_stars': np.float16,\n",
    "#     'compliment_cool': np.int16,\n",
    "#     'compliment_cute': np.int16,\n",
    "#     'compliment_funny': np.int16,\n",
    "#     'compliment_hot': np.int16,\n",
    "#     'compliment_list': np.int16,\n",
    "#     'compliment_more': np.int16,\n",
    "#     'compliment_note': np.int16,\n",
    "#     'compliment_photos': np.int16,\n",
    "#     'compliment_plain': np.int16,\n",
    "#     'compliment_profile': np.int16,\n",
    "#     'compliment_writer': np.int16,\n",
    "#     'cool': np.int16,\n",
    "#     'elite': str,\n",
    "#     'fans': np.int16,\n",
    "#     'friends': str,\n",
    "#     'funny': np.int16,\n",
    "#     'name':str,\n",
    "#     'review_count': np.int16,\n",
    "#     'useful': np.int16,\n",
    "#     'user_id': str,\n",
    "#     'yelping_since': str,\n",
    "# }"
   ]
  },
  {
   "cell_type": "code",
   "execution_count": 10,
   "metadata": {},
   "outputs": [],
   "source": [
    "for key in data:\n",
    "    for c in data[key].columns:\n",
    "#         if c == 'friends':\n",
    "#             continue\n",
    "        path = os.path.join(DATA_DIR, 'dataset', '{}-{}.npy'.format(key, c))\n",
    "        if c == 'text':\n",
    "            np.save(path, np.asarray(data[key][c]), allow_pickle=True)\n",
    "        else:\n",
    "            np.save(path, np.asarray(data[key][c], dtype=dtypes[c]), allow_pickle=False)"
   ]
  },
  {
   "cell_type": "code",
   "execution_count": 11,
   "metadata": {},
   "outputs": [],
   "source": [
    "def load_data(lookup):\n",
    "    data  = {}\n",
    "    for key in lookup:\n",
    "        data[key] = {}\n",
    "        for c in lookup[key]:\n",
    "            path = os.path.join(DATA_DIR, 'dataset', '{}-{}.npy'.format(key, c))\n",
    "            if c == 'text':\n",
    "                x = np.load(path, allow_pickle=True)\n",
    "            else:\n",
    "                x = np.load(path, allow_pickle=False)\n",
    "            data[key][c] = x\n",
    "    return data"
   ]
  },
  {
   "cell_type": "code",
   "execution_count": 12,
   "metadata": {},
   "outputs": [],
   "source": [
    "review_data = load_data({'review': ['stars', 'date', 'user_id']})['review']"
   ]
  },
  {
   "cell_type": "code",
   "execution_count": 13,
   "metadata": {},
   "outputs": [],
   "source": [
    "user_data = load_data({'user': ['user_id','elite', 'review_count']})['user']"
   ]
  },
  {
   "cell_type": "code",
   "execution_count": 14,
   "metadata": {},
   "outputs": [],
   "source": [
    "unique, counts = np.unique(review_data['stars'], return_counts=True)\n",
    "star_count = dict(zip(unique, counts))"
   ]
  },
  {
   "cell_type": "code",
   "execution_count": 15,
   "metadata": {},
   "outputs": [
    {
     "data": {
      "text/plain": [
       "{1: 1002159, 2: 542394, 3: 739280, 4: 1468985, 5: 2933082}"
      ]
     },
     "execution_count": 15,
     "metadata": {},
     "output_type": "execute_result"
    }
   ],
   "source": [
    "star_count"
   ]
  },
  {
   "cell_type": "code",
   "execution_count": 16,
   "metadata": {},
   "outputs": [],
   "source": [
    "save_pickle(os.path.join(MISC_DIR, 'star_counts.pkl'), star_count)"
   ]
  },
  {
   "cell_type": "code",
   "execution_count": 48,
   "metadata": {},
   "outputs": [],
   "source": [
    "elite_count = np.count_nonzero(np.where(user_data['elite']))"
   ]
  },
  {
   "cell_type": "code",
   "execution_count": 54,
   "metadata": {},
   "outputs": [
    {
     "data": {
      "text/plain": [
       "{'user_id': array(['l6BmjZMeQD3rDxWUbiAiow', '4XChL029mKr5hydo79Ljxg',\n",
       "        'bc8C_eETBWL0olvFSJJd0w', ..., 'ib_elCBhGOamS0AALkh4Og',\n",
       "        'WV27LoSFDG_YmiDKTLKKLA', 'agVqH9xDhNw8n7ve66H1Uw'], dtype='<U22'),\n",
       " 'elite': array(['2015,2016,2017', '', '', ..., '', '', ''], dtype='<U64'),\n",
       " 'review_count': array([95, 33, 16, ...,  4,  1,  1], dtype=int16)}"
      ]
     },
     "execution_count": 54,
     "metadata": {},
     "output_type": "execute_result"
    }
   ],
   "source": [
    "user_data"
   ]
  },
  {
   "cell_type": "code",
   "execution_count": 55,
   "metadata": {},
   "outputs": [],
   "source": [
    "user_id_elite_lookup = {}\n",
    "for i, user_id in enumerate(user_data['user_id']):\n",
    "    user_id_elite_lookup[user_id] = not(user_data['elite'][i] == '')"
   ]
  },
  {
   "cell_type": "code",
   "execution_count": 59,
   "metadata": {},
   "outputs": [],
   "source": [
    "elite_review_count = 0\n",
    "for i, user_id in enumerate(review_data['user_id']):\n",
    "    elite_review_count += int(user_id_elite_lookup.get(user_id, 0))"
   ]
  },
  {
   "cell_type": "code",
   "execution_count": 60,
   "metadata": {},
   "outputs": [
    {
     "data": {
      "text/plain": [
       "1581841"
      ]
     },
     "execution_count": 60,
     "metadata": {},
     "output_type": "execute_result"
    }
   ],
   "source": [
    "elite_review_count"
   ]
  },
  {
   "cell_type": "code",
   "execution_count": 94,
   "metadata": {},
   "outputs": [],
   "source": [
    "dist, bins = np.histogram(user_data['review_count'], bins = 100000)\n",
    "review_count_dist = (dist, bins)"
   ]
  },
  {
   "cell_type": "code",
   "execution_count": 95,
   "metadata": {},
   "outputs": [],
   "source": [
    "dataset_stats = {'5_stars' : star_count[5], \n",
    "                 '4_stars' : star_count[4], \n",
    "                 '3_stars' : star_count[3], \n",
    "                 '2_stars' : star_count[2],\n",
    "                 '1_stars' : star_count[1], \n",
    "                 'elites' : elite_count,\n",
    "                 'elite_reviews' : elite_review_count,\n",
    "                 'review_dist' : review_count_dist,\n",
    "                 }"
   ]
  },
  {
   "cell_type": "code",
   "execution_count": 78,
   "metadata": {},
   "outputs": [],
   "source": [
    "plt.style.use('fast')"
   ]
  },
  {
   "cell_type": "code",
   "execution_count": 79,
   "metadata": {},
   "outputs": [
    {
     "data": {
      "text/plain": [
       "([<matplotlib.patches.Wedge at 0x7fb6ef939d68>,\n",
       "  <matplotlib.patches.Wedge at 0x7fb6ef940c88>,\n",
       "  <matplotlib.patches.Wedge at 0x7fb6ef9489e8>,\n",
       "  <matplotlib.patches.Wedge at 0x7fb6ef94d908>,\n",
       "  <matplotlib.patches.Wedge at 0x7fb6ef8d47b8>],\n",
       " [Text(0.21054197190340443, 1.079662946510172, '(5) ★★★★★'),\n",
       "  Text(-1.049208117937588, -0.33039722343546474, '(4) ★★★★'),\n",
       "  Text(-0.24873801929002542, -1.0715080017245204, '(3) ★★★'),\n",
       "  Text(0.40201823419924604, -1.0239049464531953, '(2) ★★'),\n",
       "  Text(0.9802774431717307, -0.49905524184071487, '(1) ★')])"
      ]
     },
     "execution_count": 79,
     "metadata": {},
     "output_type": "execute_result"
    },
    {
     "data": {
      "image/png": "[encoded data removed]",
      "text/plain": [
       "<Figure size 432x288 with 1 Axes>"
      ]
     },
     "metadata": {},
     "output_type": "display_data"
    }
   ],
   "source": [
    "stars_prop = [dataset_stats['5_stars'], dataset_stats['4_stars'], dataset_stats['3_stars'], dataset_stats['2_stars'], dataset_stats['1_stars']]\n",
    "stars_labels = ['(5) ★★★★★', '(4) ★★★★', '(3) ★★★', '(2) ★★', '(1) ★']\n",
    "plt.pie(stars_prop, labels = stars_labels)"
   ]
  },
  {
   "cell_type": "code",
   "execution_count": 98,
   "metadata": {},
   "outputs": [
    {
     "data": {
      "image/png": "[encoded data removed]",
      "text/plain": [
       "<Figure size 432x288 with 1 Axes>"
      ]
     },
     "metadata": {},
     "output_type": "display_data"
    }
   ],
   "source": [
    "# stars_prop = [dataset_stats['5_stars'], dataset_stats['4_stars'], dataset_stats['3_stars'], dataset_stats['2_stars'], dataset_stats['1_stars']]\n",
    "# stars_labels = ['(5) ★★★★★', '(4) ★★★★', '(3) ★★★', '(2) ★★', '(1) ★']\n",
    "_ = plt.hist(review_count_dist[0], bins = review_count_dist[1][:5])"
   ]
  },
  {
   "cell_type": "code",
   "execution_count": null,
   "metadata": {},
   "outputs": [],
   "source": []
  }
 ],
 "metadata": {
  "kernelspec": {
   "display_name": "yelp-nlu_3.6",
   "language": "python",
   "name": "yelp-nlu_3.6"
  },
  "language_info": {
   "codemirror_mode": {
    "name": "ipython",
    "version": 3
   },
   "file_extension": ".py",
   "mimetype": "text/x-python",
   "name": "python",
   "nbconvert_exporter": "python",
   "pygments_lexer": "ipython3",
   "version": "3.6.8"
  }
 },
 "nbformat": 4,
 "nbformat_minor": 2
}
